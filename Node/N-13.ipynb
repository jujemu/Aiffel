{
 "cells": [
  {
   "cell_type": "markdown",
   "id": "74c0cd53",
   "metadata": {},
   "source": [
    "# 이미지 다루기 with python\n",
    "\n",
    "이 자료는 k-digital training Aiffel Node-13을  참고하였습니다.\n",
    "\n",
    "---\n",
    "\n",
    "## HSV\n",
    "\n",
    "Hue 색상, Saturation 채도, Value 명도\n",
    "\n",
    "## JPEG\n",
    " - 손실 압축 방식 >> 원본 데이터 손상  \n",
    " - 양자화를 통해 색상을 단순화  \n",
    " - __자연스러운 이미지(Ex> 카메라로 찍은 사진)은 손실이 적으며 데이터의 크기가 효과적으로 줄어듬__  \n",
    "\n",
    "## PNG\n",
    " - 비손실 압축 방식\n",
    " - 이미지에 사용할 색상을 정의하는 방식으로 이미지 압축  \n",
    "\\>> 이미지에 사용된 색상이 많아지면 많은 용량 차지\n",
    "\n",
    "## uint8\n",
    " - unsigned integer; sign bit를 갖지 않는 8bit integer"
   ]
  },
  {
   "cell_type": "code",
   "execution_count": 4,
   "id": "4fdc53e0",
   "metadata": {},
   "outputs": [
    {
     "data": {
      "image/png": "[encoded data removed]",
      "text/plain": [
       "<PIL.Image.Image image mode=RGB size=32x32 at 0x7F38AC175D90>"
      ]
     },
     "metadata": {},
     "output_type": "display_data"
    }
   ],
   "source": [
    "import numpy as np\n",
    "from PIL import Image\n",
    "\n",
    "img_arr = np.zeros([32, 32, 3], dtype=np.uint8)\n",
    "img = Image.fromarray(img_arr, 'RGB')\n",
    "image.show()"
   ]
  },
  {
   "cell_type": "code",
   "execution_count": 8,
   "id": "8325a335",
   "metadata": {},
   "outputs": [
    {
     "data": {
      "image/png": "[encoded data removed]",
      "text/plain": [
       "<PIL.Image.Image image mode=RGB size=32x32 at 0x7F38A7A3ED00>"
      ]
     },
     "metadata": {},
     "output_type": "display_data"
    }
   ],
   "source": [
    "img_arr[:, :] = [255, 0, 0]\n",
    "img = Image.fromarray(img_arr, 'RGB')\n",
    "img.show()"
   ]
  },
  {
   "cell_type": "markdown",
   "id": "8b2698e2",
   "metadata": {},
   "source": [
    "---\n",
    "## 의문점\n",
    "___3차원 numpy 구조가 이해가 안된다.___"
   ]
  },
  {
   "cell_type": "code",
   "execution_count": 11,
   "id": "9ab753c2",
   "metadata": {},
   "outputs": [
    {
     "data": {
      "text/plain": [
       "array([[[255,   0,   0],\n",
       "        [255,   0,   0],\n",
       "        [255,   0,   0],\n",
       "        [255,   0,   0],\n",
       "        [255,   0,   0],\n",
       "        [255,   0,   0],\n",
       "        [255,   0,   0],\n",
       "        [255,   0,   0],\n",
       "        [255,   0,   0],\n",
       "        [255,   0,   0],\n",
       "        [255,   0,   0],\n",
       "        [255,   0,   0],\n",
       "        [255,   0,   0],\n",
       "        [255,   0,   0],\n",
       "        [255,   0,   0],\n",
       "        [255,   0,   0],\n",
       "        [255,   0,   0],\n",
       "        [255,   0,   0],\n",
       "        [255,   0,   0],\n",
       "        [255,   0,   0],\n",
       "        [255,   0,   0],\n",
       "        [255,   0,   0],\n",
       "        [255,   0,   0],\n",
       "        [255,   0,   0],\n",
       "        [255,   0,   0],\n",
       "        [255,   0,   0],\n",
       "        [255,   0,   0],\n",
       "        [255,   0,   0],\n",
       "        [255,   0,   0],\n",
       "        [255,   0,   0],\n",
       "        [255,   0,   0],\n",
       "        [255,   0,   0]]], dtype=uint8)"
      ]
     },
     "execution_count": 11,
     "metadata": {},
     "output_type": "execute_result"
    }
   ],
   "source": [
    "img_arr[:1]"
   ]
  },
  {
   "cell_type": "markdown",
   "id": "26c6bf52",
   "metadata": {},
   "source": [
    "3차원 __img_arr__를 이미지로 이해를 하면 행과 열이 32*32에 채널이 3으로 그려지지만 출력해보면 열이 3으로 나온다.  \n",
    "\n",
    "일단 \n",
    "[참고 포스팅](https://steadiness-193.tistory.com/50)"
   ]
  },
  {
   "cell_type": "code",
   "execution_count": null,
   "id": "346cb39f",
   "metadata": {},
   "outputs": [],
   "source": []
  }
 ],
 "metadata": {
  "kernelspec": {
   "display_name": "Python 3 (ipykernel)",
   "language": "python",
   "name": "python3"
  },
  "language_info": {
   "codemirror_mode": {
    "name": "ipython",
    "version": 3
   },
   "file_extension": ".py",
   "mimetype": "text/x-python",
   "name": "python",
   "nbconvert_exporter": "python",
   "pygments_lexer": "ipython3",
   "version": "3.9.7"
  }
 },
 "nbformat": 4,
 "nbformat_minor": 5
}
