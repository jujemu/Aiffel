{
 "cells": [
  {
   "cell_type": "markdown",
   "metadata": {},
   "source": [
    "# News summary maker\n",
    "\n",
    "## Index\n",
    "1.  Today's essential concept  \n",
    "2. Real typing pre-learn modeling\n",
    "3. Module\n",
    "4. Get the dataset\n",
    "5. Look into dataset\n",
    "6. Data Preprocessing\n",
    "7. Attention Module\n",
    "8. Abstract Summary\n",
    "9. Extract Summary & Final result\n",
    "\n",
    "회고\n",
    "1. 내용 정리\n",
    "2. 익스를 하며"
   ]
  },
  {
   "cell_type": "code",
   "execution_count": 113,
   "metadata": {},
   "outputs": [
    {
     "name": "stderr",
     "output_type": "stream",
     "text": [
      "[nltk_data] Downloading package stopwords to /aiffel/nltk_data...\n",
      "[nltk_data]   Package stopwords is already up-to-date!\n"
     ]
    }
   ],
   "source": [
    "import nltk\n",
    "from nltk.corpus import stopwords\n",
    "nltk.download('stopwords')\n",
    "\n",
    "\n",
    "import numpy as np\n",
    "import pandas as pd\n",
    "\n",
    "import os\n",
    "\n",
    "import re\n",
    "\n",
    "import seaborn as sns\n",
    "import matplotlib.pyplot as plt\n",
    "%matplotlib inline\n",
    "\n",
    "\n",
    "from bs4 import BeautifulSoup\n",
    "\n",
    "import tensorflow as tf\n",
    "from tensorflow.keras.preprocessing.text import Tokenizer \n",
    "from tensorflow.keras.preprocessing.sequence import pad_sequences\n",
    "from tensorflow.keras.layers import Input, LSTM, Embedding, Dense, Concatenate, TimeDistributed\n",
    "from tensorflow.keras.models import Model\n",
    "from tensorflow.keras.callbacks import EarlyStopping, ModelCheckpoint\n",
    "\n",
    "import requests\n",
    "from summa.summarizer import summarize\n",
    "\n",
    "import urllib.request\n",
    "\n",
    "import pickle\n",
    "from PIL import Image\n",
    "\n",
    "import warnings\n",
    "warnings.filterwarnings(\"ignore\", category=UserWarning, module='bs4')"
   ]
  },
  {
   "cell_type": "code",
   "execution_count": 114,
   "metadata": {},
   "outputs": [],
   "source": [
    "tf.random.set_seed(77)\n",
    "np.random.seed(77)"
   ]
  },
  {
   "cell_type": "code",
   "execution_count": 115,
   "metadata": {},
   "outputs": [
    {
     "name": "stdout",
     "output_type": "stream",
     "text": [
      "전체 샘플수 : 100000\n"
     ]
    }
   ],
   "source": [
    "data = pd.read_csv(os.getenv(\"HOME\")+\"/aiffel/news_summarization/data/Reviews.csv\", nrows=100000)\n",
    "print('전체 샘플수 :', (len(data)))"
   ]
  },
  {
   "cell_type": "code",
   "execution_count": 116,
   "metadata": {},
   "outputs": [
    {
     "data": {
      "text/html": [
       "<div>\n",
       "<style scoped>\n",
       "    .dataframe tbody tr th:only-of-type {\n",
       "        vertical-align: middle;\n",
       "    }\n",
       "\n",
       "    .dataframe tbody tr th {\n",
       "        vertical-align: top;\n",
       "    }\n",
       "\n",
       "    .dataframe thead th {\n",
       "        text-align: right;\n",
       "    }\n",
       "</style>\n",
       "<table border=\"1\" class=\"dataframe\">\n",
       "  <thead>\n",
       "    <tr style=\"text-align: right;\">\n",
       "      <th></th>\n",
       "      <th>Id</th>\n",
       "      <th>ProductId</th>\n",
       "      <th>UserId</th>\n",
       "      <th>ProfileName</th>\n",
       "      <th>HelpfulnessNumerator</th>\n",
       "      <th>HelpfulnessDenominator</th>\n",
       "      <th>Score</th>\n",
       "      <th>Time</th>\n",
       "      <th>Summary</th>\n",
       "      <th>Text</th>\n",
       "    </tr>\n",
       "  </thead>\n",
       "  <tbody>\n",
       "    <tr>\n",
       "      <th>0</th>\n",
       "      <td>1</td>\n",
       "      <td>B001E4KFG0</td>\n",
       "      <td>A3SGXH7AUHU8GW</td>\n",
       "      <td>delmartian</td>\n",
       "      <td>1</td>\n",
       "      <td>1</td>\n",
       "      <td>5</td>\n",
       "      <td>1303862400</td>\n",
       "      <td>Good Quality Dog Food</td>\n",
       "      <td>I have bought several of the Vitality canned d...</td>\n",
       "    </tr>\n",
       "    <tr>\n",
       "      <th>1</th>\n",
       "      <td>2</td>\n",
       "      <td>B00813GRG4</td>\n",
       "      <td>A1D87F6ZCVE5NK</td>\n",
       "      <td>dll pa</td>\n",
       "      <td>0</td>\n",
       "      <td>0</td>\n",
       "      <td>1</td>\n",
       "      <td>1346976000</td>\n",
       "      <td>Not as Advertised</td>\n",
       "      <td>Product arrived labeled as Jumbo Salted Peanut...</td>\n",
       "    </tr>\n",
       "    <tr>\n",
       "      <th>2</th>\n",
       "      <td>3</td>\n",
       "      <td>B000LQOCH0</td>\n",
       "      <td>ABXLMWJIXXAIN</td>\n",
       "      <td>Natalia Corres \"Natalia Corres\"</td>\n",
       "      <td>1</td>\n",
       "      <td>1</td>\n",
       "      <td>4</td>\n",
       "      <td>1219017600</td>\n",
       "      <td>\"Delight\" says it all</td>\n",
       "      <td>This is a confection that has been around a fe...</td>\n",
       "    </tr>\n",
       "    <tr>\n",
       "      <th>3</th>\n",
       "      <td>4</td>\n",
       "      <td>B000UA0QIQ</td>\n",
       "      <td>A395BORC6FGVXV</td>\n",
       "      <td>Karl</td>\n",
       "      <td>3</td>\n",
       "      <td>3</td>\n",
       "      <td>2</td>\n",
       "      <td>1307923200</td>\n",
       "      <td>Cough Medicine</td>\n",
       "      <td>If you are looking for the secret ingredient i...</td>\n",
       "    </tr>\n",
       "    <tr>\n",
       "      <th>4</th>\n",
       "      <td>5</td>\n",
       "      <td>B006K2ZZ7K</td>\n",
       "      <td>A1UQRSCLF8GW1T</td>\n",
       "      <td>Michael D. Bigham \"M. Wassir\"</td>\n",
       "      <td>0</td>\n",
       "      <td>0</td>\n",
       "      <td>5</td>\n",
       "      <td>1350777600</td>\n",
       "      <td>Great taffy</td>\n",
       "      <td>Great taffy at a great price.  There was a wid...</td>\n",
       "    </tr>\n",
       "  </tbody>\n",
       "</table>\n",
       "</div>"
      ],
      "text/plain": [
       "   Id   ProductId          UserId                      ProfileName  \\\n",
       "0   1  B001E4KFG0  A3SGXH7AUHU8GW                       delmartian   \n",
       "1   2  B00813GRG4  A1D87F6ZCVE5NK                           dll pa   \n",
       "2   3  B000LQOCH0   ABXLMWJIXXAIN  Natalia Corres \"Natalia Corres\"   \n",
       "3   4  B000UA0QIQ  A395BORC6FGVXV                             Karl   \n",
       "4   5  B006K2ZZ7K  A1UQRSCLF8GW1T    Michael D. Bigham \"M. Wassir\"   \n",
       "\n",
       "   HelpfulnessNumerator  HelpfulnessDenominator  Score        Time  \\\n",
       "0                     1                       1      5  1303862400   \n",
       "1                     0                       0      1  1346976000   \n",
       "2                     1                       1      4  1219017600   \n",
       "3                     3                       3      2  1307923200   \n",
       "4                     0                       0      5  1350777600   \n",
       "\n",
       "                 Summary                                               Text  \n",
       "0  Good Quality Dog Food  I have bought several of the Vitality canned d...  \n",
       "1      Not as Advertised  Product arrived labeled as Jumbo Salted Peanut...  \n",
       "2  \"Delight\" says it all  This is a confection that has been around a fe...  \n",
       "3         Cough Medicine  If you are looking for the secret ingredient i...  \n",
       "4            Great taffy  Great taffy at a great price.  There was a wid...  "
      ]
     },
     "execution_count": 116,
     "metadata": {},
     "output_type": "execute_result"
    }
   ],
   "source": [
    "data.head()"
   ]
  },
  {
   "cell_type": "code",
   "execution_count": 117,
   "metadata": {},
   "outputs": [
    {
     "data": {
      "text/plain": [
       "Index(['Id', 'ProductId', 'UserId', 'ProfileName', 'HelpfulnessNumerator',\n",
       "       'HelpfulnessDenominator', 'Score', 'Time', 'Summary', 'Text'],\n",
       "      dtype='object')"
      ]
     },
     "execution_count": 117,
     "metadata": {},
     "output_type": "execute_result"
    }
   ],
   "source": [
    "data.columns"
   ]
  },
  {
   "cell_type": "code",
   "execution_count": 118,
   "metadata": {},
   "outputs": [
    {
     "name": "stdout",
     "output_type": "stream",
     "text": [
      "This is the best vanilla extract I have ever tasted. For the longest time I hated how regular vanilla extract tasted. I went looking for alternatives and found this. The vanilla flavor is very true to real vanilla flavor. Alcohol free tastes so much better. The price difference is worth it because what you get in taste is equal or greater.<br /><br />I have purchased this direct from Olive Nation and also through Amazon.\n",
      "Excellent Vanilla Extract\n",
      "\n",
      "This hot sause isnt for the weak, if you, or know someone who's like me, able to drink <a href=\"http://www.amazon.com/gp/product/B002HNS55A\">TABASCO® brand Pepper Sauce - Original Red Gallon</a>without taking a drink then this is the perfect sause. We finally got a Mexican Tienda in our town and i buy this from him everytime i visit this family owned and ran store. I have ALOT of it put up for survival / food storage reasons, and inflation fears. I had quite a few Mayan salsas during our trip to the Yucatan and this is pretty close to the same flavor. I pack a bottle to work with me for a couple reasons. Be careful with it, it really is fire in a bottle!\n",
      "PURE FIRE IN A BOTTLE\n",
      "\n",
      "I had never tasted these before. That they appear in the fall, and presumably are not available at any other time of the year (?), seems delightfully old-fashioned.What can one say about a sweet treat which consists of cookie, chocolate, and marshmallow? What's not to like? They do seem a little dry, and might be better accompanied by a warm drink. They're good, but they're not great. My guess is that they might be especially popular with children.\n",
      "A treat for the kiddies?\n",
      "\n",
      "This rice pudding is great. It has a hint of vanilla flavor to it. I make it about every other day. It is delicious!\n",
      "Delicious!\n",
      "\n",
      "I received this bag broken, the pistachios were all over the box, I contacted amazon to return them to get a refund to then order them again, but since I left them open in our kitchen table my partner came and started eating them, by the time I noticed she had about a cup of them so I felt I couldn't return them. The box was in good condition so the damage was not in transit, I am not sure how the bag was so broken but the only explanation was that it happened while they packed them. On another note, my partmner didn't get sick from eating them but we didn't want to take a bigger chance. I do like this brand since I ordered the smaller bag before and that is why we decided to get the bigger one.\n",
      "Great pistachios, terrible packing\n",
      "\n"
     ]
    }
   ],
   "source": [
    "# data.sample() is same code\n",
    "for idx in range(5):\n",
    "    tmp = np.random.randint(100000)\n",
    "    print(data['Text'][tmp])\n",
    "    print(data['Summary'][tmp])\n",
    "    print()"
   ]
  },
  {
   "cell_type": "code",
   "execution_count": 119,
   "metadata": {},
   "outputs": [
    {
     "data": {
      "text/html": [
       "<div>\n",
       "<style scoped>\n",
       "    .dataframe tbody tr th:only-of-type {\n",
       "        vertical-align: middle;\n",
       "    }\n",
       "\n",
       "    .dataframe tbody tr th {\n",
       "        vertical-align: top;\n",
       "    }\n",
       "\n",
       "    .dataframe thead th {\n",
       "        text-align: right;\n",
       "    }\n",
       "</style>\n",
       "<table border=\"1\" class=\"dataframe\">\n",
       "  <thead>\n",
       "    <tr style=\"text-align: right;\">\n",
       "      <th></th>\n",
       "      <th>Text</th>\n",
       "      <th>Summary</th>\n",
       "    </tr>\n",
       "  </thead>\n",
       "  <tbody>\n",
       "    <tr>\n",
       "      <th>0</th>\n",
       "      <td>I have bought several of the Vitality canned d...</td>\n",
       "      <td>Good Quality Dog Food</td>\n",
       "    </tr>\n",
       "    <tr>\n",
       "      <th>1</th>\n",
       "      <td>Product arrived labeled as Jumbo Salted Peanut...</td>\n",
       "      <td>Not as Advertised</td>\n",
       "    </tr>\n",
       "    <tr>\n",
       "      <th>2</th>\n",
       "      <td>This is a confection that has been around a fe...</td>\n",
       "      <td>\"Delight\" says it all</td>\n",
       "    </tr>\n",
       "    <tr>\n",
       "      <th>3</th>\n",
       "      <td>If you are looking for the secret ingredient i...</td>\n",
       "      <td>Cough Medicine</td>\n",
       "    </tr>\n",
       "    <tr>\n",
       "      <th>4</th>\n",
       "      <td>Great taffy at a great price.  There was a wid...</td>\n",
       "      <td>Great taffy</td>\n",
       "    </tr>\n",
       "  </tbody>\n",
       "</table>\n",
       "</div>"
      ],
      "text/plain": [
       "                                                Text                Summary\n",
       "0  I have bought several of the Vitality canned d...  Good Quality Dog Food\n",
       "1  Product arrived labeled as Jumbo Salted Peanut...      Not as Advertised\n",
       "2  This is a confection that has been around a fe...  \"Delight\" says it all\n",
       "3  If you are looking for the secret ingredient i...         Cough Medicine\n",
       "4  Great taffy at a great price.  There was a wid...            Great taffy"
      ]
     },
     "execution_count": 119,
     "metadata": {},
     "output_type": "execute_result"
    }
   ],
   "source": [
    "cool_data = pd.DataFrame()\n",
    "cool_data['Text'] = data['Text']\n",
    "cool_data['Summary'] = data['Summary']\n",
    "cool_data.head()\n",
    "\n",
    "# data=data[['Text', 'Summary']]"
   ]
  },
  {
   "cell_type": "code",
   "execution_count": 120,
   "metadata": {},
   "outputs": [
    {
     "data": {
      "text/plain": [
       "(88426, 72348)"
      ]
     },
     "execution_count": 120,
     "metadata": {},
     "output_type": "execute_result"
    }
   ],
   "source": [
    "cool_data['Text'].nunique(), cool_data['Summary'].nunique()"
   ]
  },
  {
   "cell_type": "code",
   "execution_count": 121,
   "metadata": {},
   "outputs": [],
   "source": [
    "cool_data.drop_duplicates(subset = ['Text'], inplace=True)"
   ]
  },
  {
   "cell_type": "code",
   "execution_count": 122,
   "metadata": {},
   "outputs": [],
   "source": [
    "cool_data.dropna(inplace=True)"
   ]
  },
  {
   "cell_type": "code",
   "execution_count": 123,
   "metadata": {},
   "outputs": [
    {
     "data": {
      "text/plain": [
       "88425"
      ]
     },
     "execution_count": 123,
     "metadata": {},
     "output_type": "execute_result"
    }
   ],
   "source": [
    "len(cool_data)"
   ]
  },
  {
   "cell_type": "code",
   "execution_count": 124,
   "metadata": {},
   "outputs": [
    {
     "name": "stdout",
     "output_type": "stream",
     "text": [
      "정규화 사전의 수:  120\n"
     ]
    }
   ],
   "source": [
    "contractions = {\"ain't\": \"is not\", \"aren't\": \"are not\",\"can't\": \"cannot\", \"'cause\": \"because\", \"could've\": \"could have\", \"couldn't\": \"could not\",\n",
    "                           \"didn't\": \"did not\",  \"doesn't\": \"does not\", \"don't\": \"do not\", \"hadn't\": \"had not\", \"hasn't\": \"has not\", \"haven't\": \"have not\",\n",
    "                           \"he'd\": \"he would\",\"he'll\": \"he will\", \"he's\": \"he is\", \"how'd\": \"how did\", \"how'd'y\": \"how do you\", \"how'll\": \"how will\", \"how's\": \"how is\",\n",
    "                           \"I'd\": \"I would\", \"I'd've\": \"I would have\", \"I'll\": \"I will\", \"I'll've\": \"I will have\",\"I'm\": \"I am\", \"I've\": \"I have\", \"i'd\": \"i would\",\n",
    "                           \"i'd've\": \"i would have\", \"i'll\": \"i will\",  \"i'll've\": \"i will have\",\"i'm\": \"i am\", \"i've\": \"i have\", \"isn't\": \"is not\", \"it'd\": \"it would\",\n",
    "                           \"it'd've\": \"it would have\", \"it'll\": \"it will\", \"it'll've\": \"it will have\",\"it's\": \"it is\", \"let's\": \"let us\", \"ma'am\": \"madam\",\n",
    "                           \"mayn't\": \"may not\", \"might've\": \"might have\",\"mightn't\": \"might not\",\"mightn't've\": \"might not have\", \"must've\": \"must have\",\n",
    "                           \"mustn't\": \"must not\", \"mustn't've\": \"must not have\", \"needn't\": \"need not\", \"needn't've\": \"need not have\",\"o'clock\": \"of the clock\",\n",
    "                           \"oughtn't\": \"ought not\", \"oughtn't've\": \"ought not have\", \"shan't\": \"shall not\", \"sha'n't\": \"shall not\", \"shan't've\": \"shall not have\",\n",
    "                           \"she'd\": \"she would\", \"she'd've\": \"she would have\", \"she'll\": \"she will\", \"she'll've\": \"she will have\", \"she's\": \"she is\",\n",
    "                           \"should've\": \"should have\", \"shouldn't\": \"should not\", \"shouldn't've\": \"should not have\", \"so've\": \"so have\",\"so's\": \"so as\",\n",
    "                           \"this's\": \"this is\",\"that'd\": \"that would\", \"that'd've\": \"that would have\", \"that's\": \"that is\", \"there'd\": \"there would\",\n",
    "                           \"there'd've\": \"there would have\", \"there's\": \"there is\", \"here's\": \"here is\",\"they'd\": \"they would\", \"they'd've\": \"they would have\",\n",
    "                           \"they'll\": \"they will\", \"they'll've\": \"they will have\", \"they're\": \"they are\", \"they've\": \"they have\", \"to've\": \"to have\",\n",
    "                           \"wasn't\": \"was not\", \"we'd\": \"we would\", \"we'd've\": \"we would have\", \"we'll\": \"we will\", \"we'll've\": \"we will have\", \"we're\": \"we are\",\n",
    "                           \"we've\": \"we have\", \"weren't\": \"were not\", \"what'll\": \"what will\", \"what'll've\": \"what will have\", \"what're\": \"what are\",\n",
    "                           \"what's\": \"what is\", \"what've\": \"what have\", \"when's\": \"when is\", \"when've\": \"when have\", \"where'd\": \"where did\", \"where's\": \"where is\",\n",
    "                           \"where've\": \"where have\", \"who'll\": \"who will\", \"who'll've\": \"who will have\", \"who's\": \"who is\", \"who've\": \"who have\",\n",
    "                           \"why's\": \"why is\", \"why've\": \"why have\", \"will've\": \"will have\", \"won't\": \"will not\", \"won't've\": \"will not have\",\n",
    "                           \"would've\": \"would have\", \"wouldn't\": \"would not\", \"wouldn't've\": \"would not have\", \"y'all\": \"you all\",\n",
    "                           \"y'all'd\": \"you all would\",\"y'all'd've\": \"you all would have\",\"y'all're\": \"you all are\",\"y'all've\": \"you all have\",\n",
    "                           \"you'd\": \"you would\", \"you'd've\": \"you would have\", \"you'll\": \"you will\", \"you'll've\": \"you will have\",\n",
    "                           \"you're\": \"you are\", \"you've\": \"you have\"}\n",
    "\n",
    "print(\"정규화 사전의 수: \", len(contractions))"
   ]
  },
  {
   "cell_type": "code",
   "execution_count": 125,
   "metadata": {},
   "outputs": [
    {
     "name": "stdout",
     "output_type": "stream",
     "text": [
      "불용어 개수 : 179\n",
      "['i', 'me', 'my', 'myself', 'we', 'our', 'ours', 'ourselves', 'you', \"you're\", \"you've\", \"you'll\", \"you'd\", 'your', 'yours', 'yourself', 'yourselves', 'he', 'him', 'his', 'himself', 'she', \"she's\", 'her', 'hers', 'herself', 'it', \"it's\", 'its', 'itself', 'they', 'them', 'their', 'theirs', 'themselves', 'what', 'which', 'who', 'whom', 'this', 'that', \"that'll\", 'these', 'those', 'am', 'is', 'are', 'was', 'were', 'be', 'been', 'being', 'have', 'has', 'had', 'having', 'do', 'does', 'did', 'doing', 'a', 'an', 'the', 'and', 'but', 'if', 'or', 'because', 'as', 'until', 'while', 'of', 'at', 'by', 'for', 'with', 'about', 'against', 'between', 'into', 'through', 'during', 'before', 'after', 'above', 'below', 'to', 'from', 'up', 'down', 'in', 'out', 'on', 'off', 'over', 'under', 'again', 'further', 'then', 'once', 'here', 'there', 'when', 'where', 'why', 'how', 'all', 'any', 'both', 'each', 'few', 'more', 'most', 'other', 'some', 'such', 'no', 'nor', 'not', 'only', 'own', 'same', 'so', 'than', 'too', 'very', 's', 't', 'can', 'will', 'just', 'don', \"don't\", 'should', \"should've\", 'now', 'd', 'll', 'm', 'o', 're', 've', 'y', 'ain', 'aren', \"aren't\", 'couldn', \"couldn't\", 'didn', \"didn't\", 'doesn', \"doesn't\", 'hadn', \"hadn't\", 'hasn', \"hasn't\", 'haven', \"haven't\", 'isn', \"isn't\", 'ma', 'mightn', \"mightn't\", 'mustn', \"mustn't\", 'needn', \"needn't\", 'shan', \"shan't\", 'shouldn', \"shouldn't\", 'wasn', \"wasn't\", 'weren', \"weren't\", 'won', \"won't\", 'wouldn', \"wouldn't\"]\n"
     ]
    }
   ],
   "source": [
    "print('불용어 개수 :', len(stopwords.words('english') ))\n",
    "print(stopwords.words('english'))"
   ]
  },
  {
   "cell_type": "code",
   "execution_count": 126,
   "metadata": {},
   "outputs": [],
   "source": [
    "# we need to check NaN value in text after text preprocessing; this code is not typed\n",
    "def preprocess_sentence(sentence, remove_stopwords=True):\n",
    "    sentence = sentence.lower() \n",
    "    sentence = BeautifulSoup(sentence, \"lxml\").text # html tag\n",
    "    sentence = re.sub(r'\\([^)]*\\)', '', sentence) \n",
    "    sentence = re.sub('\"','', sentence) \n",
    "    sentence = ' '.join([contractions[t] if t in contractions else t for t in sentence.split(\" \")])# contraction\n",
    "    sentence = re.sub(r\"'s\\b\",\"\", sentence) # possesive case\n",
    "    sentence = re.sub(\"[^a-zA-Z]\", \" \", sentence) \n",
    "    sentence = re.sub('[m]{2,}', 'mm', sentence) # Ex) ummmmmmm yeah -> umm yeah\n",
    "        \n",
    "    if remove_stopwords:\n",
    "        tokens = ' '.join(word for word in sentence.split() if not word in stopwords.words('english') if len(word) > 1)\n",
    "    \n",
    "    \n",
    "    else:\n",
    "        tokens = ' '.join(word for word in sentence.split() if len(word) > 1)\n",
    "    return tokens"
   ]
  },
  {
   "cell_type": "code",
   "execution_count": 127,
   "metadata": {},
   "outputs": [
    {
     "name": "stdout",
     "output_type": "stream",
     "text": [
      "88355\n"
     ]
    },
    {
     "data": {
      "text/html": [
       "<div>\n",
       "<style scoped>\n",
       "    .dataframe tbody tr th:only-of-type {\n",
       "        vertical-align: middle;\n",
       "    }\n",
       "\n",
       "    .dataframe tbody tr th {\n",
       "        vertical-align: top;\n",
       "    }\n",
       "\n",
       "    .dataframe thead th {\n",
       "        text-align: right;\n",
       "    }\n",
       "</style>\n",
       "<table border=\"1\" class=\"dataframe\">\n",
       "  <thead>\n",
       "    <tr style=\"text-align: right;\">\n",
       "      <th></th>\n",
       "      <th>Text</th>\n",
       "      <th>Summary</th>\n",
       "    </tr>\n",
       "  </thead>\n",
       "  <tbody>\n",
       "    <tr>\n",
       "      <th>0</th>\n",
       "      <td>bought several vitality canned dog food produc...</td>\n",
       "      <td>good quality dog food</td>\n",
       "    </tr>\n",
       "    <tr>\n",
       "      <th>1</th>\n",
       "      <td>product arrived labeled jumbo salted peanuts p...</td>\n",
       "      <td>not as advertised</td>\n",
       "    </tr>\n",
       "    <tr>\n",
       "      <th>2</th>\n",
       "      <td>confection around centuries light pillowy citr...</td>\n",
       "      <td>delight says it all</td>\n",
       "    </tr>\n",
       "    <tr>\n",
       "      <th>3</th>\n",
       "      <td>looking secret ingredient robitussin believe f...</td>\n",
       "      <td>cough medicine</td>\n",
       "    </tr>\n",
       "    <tr>\n",
       "      <th>4</th>\n",
       "      <td>great taffy great price wide assortment yummy ...</td>\n",
       "      <td>great taffy</td>\n",
       "    </tr>\n",
       "  </tbody>\n",
       "</table>\n",
       "</div>"
      ],
      "text/plain": [
       "                                                Text                Summary\n",
       "0  bought several vitality canned dog food produc...  good quality dog food\n",
       "1  product arrived labeled jumbo salted peanuts p...      not as advertised\n",
       "2  confection around centuries light pillowy citr...    delight says it all\n",
       "3  looking secret ingredient robitussin believe f...         cough medicine\n",
       "4  great taffy great price wide assortment yummy ...            great taffy"
      ]
     },
     "execution_count": 127,
     "metadata": {},
     "output_type": "execute_result"
    }
   ],
   "source": [
    "# load data preprocessed; cause it takes long time\n",
    "file_path = os.getenv(\"HOME\") + '/aiffel/News_maker/data.csv'\n",
    "data = pd.read_csv(file_path)\n",
    "data.replace(to_replace='', value=np.nan, inplace=True)\n",
    "data.dropna(inplace=True)\n",
    "del data['Unnamed: 0']\n",
    "\n",
    "print(len(data))\n",
    "data.head()"
   ]
  },
  {
   "cell_type": "code",
   "execution_count": 128,
   "metadata": {},
   "outputs": [
    {
     "data": {
      "text/html": [
       "<div>\n",
       "<style scoped>\n",
       "    .dataframe tbody tr th:only-of-type {\n",
       "        vertical-align: middle;\n",
       "    }\n",
       "\n",
       "    .dataframe tbody tr th {\n",
       "        vertical-align: top;\n",
       "    }\n",
       "\n",
       "    .dataframe thead th {\n",
       "        text-align: right;\n",
       "    }\n",
       "</style>\n",
       "<table border=\"1\" class=\"dataframe\">\n",
       "  <thead>\n",
       "    <tr style=\"text-align: right;\">\n",
       "      <th></th>\n",
       "      <th>Text</th>\n",
       "      <th>Summary</th>\n",
       "      <th>num_Text</th>\n",
       "    </tr>\n",
       "  </thead>\n",
       "  <tbody>\n",
       "    <tr>\n",
       "      <th>0</th>\n",
       "      <td>bought several vitality canned dog food produc...</td>\n",
       "      <td>good quality dog food</td>\n",
       "      <td>23</td>\n",
       "    </tr>\n",
       "    <tr>\n",
       "      <th>1</th>\n",
       "      <td>product arrived labeled jumbo salted peanuts p...</td>\n",
       "      <td>not as advertised</td>\n",
       "      <td>18</td>\n",
       "    </tr>\n",
       "    <tr>\n",
       "      <th>2</th>\n",
       "      <td>confection around centuries light pillowy citr...</td>\n",
       "      <td>delight says it all</td>\n",
       "      <td>39</td>\n",
       "    </tr>\n",
       "    <tr>\n",
       "      <th>3</th>\n",
       "      <td>looking secret ingredient robitussin believe f...</td>\n",
       "      <td>cough medicine</td>\n",
       "      <td>17</td>\n",
       "    </tr>\n",
       "    <tr>\n",
       "      <th>4</th>\n",
       "      <td>great taffy great price wide assortment yummy ...</td>\n",
       "      <td>great taffy</td>\n",
       "      <td>13</td>\n",
       "    </tr>\n",
       "  </tbody>\n",
       "</table>\n",
       "</div>"
      ],
      "text/plain": [
       "                                                Text                Summary  \\\n",
       "0  bought several vitality canned dog food produc...  good quality dog food   \n",
       "1  product arrived labeled jumbo salted peanuts p...      not as advertised   \n",
       "2  confection around centuries light pillowy citr...    delight says it all   \n",
       "3  looking secret ingredient robitussin believe f...         cough medicine   \n",
       "4  great taffy great price wide assortment yummy ...            great taffy   \n",
       "\n",
       "   num_Text  \n",
       "0        23  \n",
       "1        18  \n",
       "2        39  \n",
       "3        17  \n",
       "4        13  "
      ]
     },
     "execution_count": 128,
     "metadata": {},
     "output_type": "execute_result"
    }
   ],
   "source": [
    "# text_len = [len(s.split()) for s in data['Text']]\n",
    "num_Text = []\n",
    "for i in data['Text']:\n",
    "    num_Text.append(len(i.split()))\n",
    "\n",
    "data['num_Text'] = np.array(num_Text, dtype=np.int64)\n",
    "data.head()"
   ]
  },
  {
   "cell_type": "code",
   "execution_count": 129,
   "metadata": {},
   "outputs": [
    {
     "data": {
      "text/html": [
       "<div>\n",
       "<style scoped>\n",
       "    .dataframe tbody tr th:only-of-type {\n",
       "        vertical-align: middle;\n",
       "    }\n",
       "\n",
       "    .dataframe tbody tr th {\n",
       "        vertical-align: top;\n",
       "    }\n",
       "\n",
       "    .dataframe thead th {\n",
       "        text-align: right;\n",
       "    }\n",
       "</style>\n",
       "<table border=\"1\" class=\"dataframe\">\n",
       "  <thead>\n",
       "    <tr style=\"text-align: right;\">\n",
       "      <th></th>\n",
       "      <th>Text</th>\n",
       "      <th>Summary</th>\n",
       "      <th>num_Text</th>\n",
       "      <th>num_summary</th>\n",
       "    </tr>\n",
       "  </thead>\n",
       "  <tbody>\n",
       "    <tr>\n",
       "      <th>0</th>\n",
       "      <td>bought several vitality canned dog food produc...</td>\n",
       "      <td>good quality dog food</td>\n",
       "      <td>23</td>\n",
       "      <td>4</td>\n",
       "    </tr>\n",
       "    <tr>\n",
       "      <th>1</th>\n",
       "      <td>product arrived labeled jumbo salted peanuts p...</td>\n",
       "      <td>not as advertised</td>\n",
       "      <td>18</td>\n",
       "      <td>3</td>\n",
       "    </tr>\n",
       "    <tr>\n",
       "      <th>2</th>\n",
       "      <td>confection around centuries light pillowy citr...</td>\n",
       "      <td>delight says it all</td>\n",
       "      <td>39</td>\n",
       "      <td>4</td>\n",
       "    </tr>\n",
       "    <tr>\n",
       "      <th>3</th>\n",
       "      <td>looking secret ingredient robitussin believe f...</td>\n",
       "      <td>cough medicine</td>\n",
       "      <td>17</td>\n",
       "      <td>2</td>\n",
       "    </tr>\n",
       "    <tr>\n",
       "      <th>4</th>\n",
       "      <td>great taffy great price wide assortment yummy ...</td>\n",
       "      <td>great taffy</td>\n",
       "      <td>13</td>\n",
       "      <td>2</td>\n",
       "    </tr>\n",
       "  </tbody>\n",
       "</table>\n",
       "</div>"
      ],
      "text/plain": [
       "                                                Text                Summary  \\\n",
       "0  bought several vitality canned dog food produc...  good quality dog food   \n",
       "1  product arrived labeled jumbo salted peanuts p...      not as advertised   \n",
       "2  confection around centuries light pillowy citr...    delight says it all   \n",
       "3  looking secret ingredient robitussin believe f...         cough medicine   \n",
       "4  great taffy great price wide assortment yummy ...            great taffy   \n",
       "\n",
       "   num_Text  num_summary  \n",
       "0        23            4  \n",
       "1        18            3  \n",
       "2        39            4  \n",
       "3        17            2  \n",
       "4        13            2  "
      ]
     },
     "execution_count": 129,
     "metadata": {},
     "output_type": "execute_result"
    }
   ],
   "source": [
    "num_summary = [len(x.split()) for x in data['Summary']]\n",
    "data['num_summary'] = np.array(num_summary)\n",
    "data.head()"
   ]
  },
  {
   "cell_type": "code",
   "execution_count": 130,
   "metadata": {},
   "outputs": [
    {
     "name": "stdout",
     "output_type": "stream",
     "text": [
      "<class 'pandas.core.frame.DataFrame'>\n",
      "Int64Index: 88355 entries, 0 to 88354\n",
      "Data columns (total 4 columns):\n",
      " #   Column       Non-Null Count  Dtype \n",
      "---  ------       --------------  ----- \n",
      " 0   Text         88355 non-null  object\n",
      " 1   Summary      88355 non-null  object\n",
      " 2   num_Text     88355 non-null  int64 \n",
      " 3   num_summary  88355 non-null  int64 \n",
      "dtypes: int64(2), object(2)\n",
      "memory usage: 3.4+ MB\n"
     ]
    }
   ],
   "source": [
    "data.info()"
   ]
  },
  {
   "cell_type": "code",
   "execution_count": 131,
   "metadata": {},
   "outputs": [
    {
     "data": {
      "image/png": "[encoded data removed]",
      "text/plain": [
       "<Figure size 576x576 with 3 Axes>"
      ]
     },
     "metadata": {
      "needs_background": "light"
     },
     "output_type": "display_data"
    }
   ],
   "source": [
    "plt.figure(figsize=(8, 8))\n",
    "plt.suptitle('text length of Text', fontsize=30)\n",
    "\n",
    "#whisker range 60\n",
    "plt.subplot(131)\n",
    "sns.boxplot(data=data, y='num_Text', whis=[0, 60], color='orange')\n",
    "\n",
    "#whisker range 80\n",
    "plt.subplot(132)\n",
    "plt.tick_params(left=False, labelleft=False)\n",
    "sns.boxplot(data=data, y='num_Text', whis=[0, 80], color='orange').set_ylabel('')\n",
    "\n",
    "#whisker range 95\n",
    "plt.subplot(133)\n",
    "plt.tick_params(left=False, labelleft=False)\n",
    "sns.boxplot(data=data, y='num_Text', whis=[0, 95], color='orange').set_ylabel('')\n",
    "\n",
    "plt.show()"
   ]
  },
  {
   "cell_type": "code",
   "execution_count": 132,
   "metadata": {},
   "outputs": [
    {
     "data": {
      "image/png": "[encoded data removed]",
      "text/plain": [
       "<Figure size 576x576 with 3 Axes>"
      ]
     },
     "metadata": {
      "needs_background": "light"
     },
     "output_type": "display_data"
    }
   ],
   "source": [
    "plt.figure(figsize=(8, 8))\n",
    "plt.suptitle('text length of Summary', fontsize=30)\n",
    "\n",
    "#whisker range 80\n",
    "plt.subplot(131)\n",
    "sns.boxplot(data=data, y='num_summary', whis=[0, 80], color='red')\n",
    "\n",
    "#whisker range 90\n",
    "plt.subplot(132)\n",
    "plt.tick_params(left=False, labelleft=False)\n",
    "sns.boxplot(data=data, y='num_summary', whis=[0, 90], color='red').set_ylabel('')\n",
    "\n",
    "#whisker range 95\n",
    "plt.subplot(133)\n",
    "plt.tick_params(left=False, labelleft=False)\n",
    "sns.boxplot(data=data, y='num_summary', whis=[0, 95], color='red').set_ylabel('')\n",
    "\n",
    "plt.show()"
   ]
  },
  {
   "cell_type": "code",
   "execution_count": 133,
   "metadata": {},
   "outputs": [
    {
     "data": {
      "text/plain": [
       "(38.79, 4.01)"
      ]
     },
     "execution_count": 133,
     "metadata": {},
     "output_type": "execute_result"
    }
   ],
   "source": [
    "np.round(np.mean(data['num_Text']), 2), np.round(np.mean(data['num_summary']), 2)"
   ]
  },
  {
   "cell_type": "code",
   "execution_count": 134,
   "metadata": {},
   "outputs": [],
   "source": [
    "text_max_len = 50\n",
    "summary_max_len = 8"
   ]
  },
  {
   "cell_type": "code",
   "execution_count": 135,
   "metadata": {},
   "outputs": [
    {
     "data": {
      "text/plain": [
       "65818"
      ]
     },
     "execution_count": 135,
     "metadata": {},
     "output_type": "execute_result"
    }
   ],
   "source": [
    "data = data[data['Text'].apply(lambda x: len(x.split()) <= text_max_len)]\n",
    "data = data[data['Summary'].apply(lambda x: len(x.split()) <= summary_max_len)]\n",
    "\n",
    "len(data)"
   ]
  },
  {
   "cell_type": "code",
   "execution_count": 136,
   "metadata": {},
   "outputs": [
    {
     "data": {
      "text/html": [
       "<div>\n",
       "<style scoped>\n",
       "    .dataframe tbody tr th:only-of-type {\n",
       "        vertical-align: middle;\n",
       "    }\n",
       "\n",
       "    .dataframe tbody tr th {\n",
       "        vertical-align: top;\n",
       "    }\n",
       "\n",
       "    .dataframe thead th {\n",
       "        text-align: right;\n",
       "    }\n",
       "</style>\n",
       "<table border=\"1\" class=\"dataframe\">\n",
       "  <thead>\n",
       "    <tr style=\"text-align: right;\">\n",
       "      <th></th>\n",
       "      <th>Text</th>\n",
       "      <th>Summary</th>\n",
       "      <th>num_Text</th>\n",
       "      <th>num_summary</th>\n",
       "      <th>dec_input</th>\n",
       "      <th>dec_output</th>\n",
       "    </tr>\n",
       "  </thead>\n",
       "  <tbody>\n",
       "    <tr>\n",
       "      <th>0</th>\n",
       "      <td>bought several vitality canned dog food produc...</td>\n",
       "      <td>good quality dog food</td>\n",
       "      <td>23</td>\n",
       "      <td>4</td>\n",
       "      <td>sostoken good quality dog food</td>\n",
       "      <td>good quality dog food eostoken</td>\n",
       "    </tr>\n",
       "    <tr>\n",
       "      <th>1</th>\n",
       "      <td>product arrived labeled jumbo salted peanuts p...</td>\n",
       "      <td>not as advertised</td>\n",
       "      <td>18</td>\n",
       "      <td>3</td>\n",
       "      <td>sostoken not as advertised</td>\n",
       "      <td>not as advertised eostoken</td>\n",
       "    </tr>\n",
       "    <tr>\n",
       "      <th>2</th>\n",
       "      <td>confection around centuries light pillowy citr...</td>\n",
       "      <td>delight says it all</td>\n",
       "      <td>39</td>\n",
       "      <td>4</td>\n",
       "      <td>sostoken delight says it all</td>\n",
       "      <td>delight says it all eostoken</td>\n",
       "    </tr>\n",
       "    <tr>\n",
       "      <th>3</th>\n",
       "      <td>looking secret ingredient robitussin believe f...</td>\n",
       "      <td>cough medicine</td>\n",
       "      <td>17</td>\n",
       "      <td>2</td>\n",
       "      <td>sostoken cough medicine</td>\n",
       "      <td>cough medicine eostoken</td>\n",
       "    </tr>\n",
       "    <tr>\n",
       "      <th>4</th>\n",
       "      <td>great taffy great price wide assortment yummy ...</td>\n",
       "      <td>great taffy</td>\n",
       "      <td>13</td>\n",
       "      <td>2</td>\n",
       "      <td>sostoken great taffy</td>\n",
       "      <td>great taffy eostoken</td>\n",
       "    </tr>\n",
       "  </tbody>\n",
       "</table>\n",
       "</div>"
      ],
      "text/plain": [
       "                                                Text                Summary  \\\n",
       "0  bought several vitality canned dog food produc...  good quality dog food   \n",
       "1  product arrived labeled jumbo salted peanuts p...      not as advertised   \n",
       "2  confection around centuries light pillowy citr...    delight says it all   \n",
       "3  looking secret ingredient robitussin believe f...         cough medicine   \n",
       "4  great taffy great price wide assortment yummy ...            great taffy   \n",
       "\n",
       "   num_Text  num_summary                       dec_input  \\\n",
       "0        23            4  sostoken good quality dog food   \n",
       "1        18            3      sostoken not as advertised   \n",
       "2        39            4    sostoken delight says it all   \n",
       "3        17            2         sostoken cough medicine   \n",
       "4        13            2            sostoken great taffy   \n",
       "\n",
       "                       dec_output  \n",
       "0  good quality dog food eostoken  \n",
       "1      not as advertised eostoken  \n",
       "2    delight says it all eostoken  \n",
       "3         cough medicine eostoken  \n",
       "4            great taffy eostoken  "
      ]
     },
     "execution_count": 136,
     "metadata": {},
     "output_type": "execute_result"
    }
   ],
   "source": [
    "data['dec_input'] = data['Summary'].apply(lambda x: 'sostoken ' +x)\n",
    "data['dec_output'] = data['Summary'].apply(lambda x: x+' eostoken')\n",
    "data.head()"
   ]
  },
  {
   "cell_type": "code",
   "execution_count": 137,
   "metadata": {},
   "outputs": [],
   "source": [
    "enc_input = data['Text'].values\n",
    "dec_input = data['dec_input'].values\n",
    "dec_output = data['dec_output'].values"
   ]
  },
  {
   "cell_type": "code",
   "execution_count": 138,
   "metadata": {},
   "outputs": [
    {
     "data": {
      "text/plain": [
       "array([  871, 62152, 54923, ..., 37600, 25503,  7832])"
      ]
     },
     "execution_count": 138,
     "metadata": {},
     "output_type": "execute_result"
    }
   ],
   "source": [
    "indices = np.arange(data.shape[0])\n",
    "np.random.shuffle(indices)\n",
    "indices"
   ]
  },
  {
   "cell_type": "code",
   "execution_count": 139,
   "metadata": {},
   "outputs": [],
   "source": [
    "enc_input = enc_input[indices]\n",
    "dec_input = dec_input[indices]\n",
    "dec_output = dec_output[indices]"
   ]
  },
  {
   "cell_type": "code",
   "execution_count": 140,
   "metadata": {},
   "outputs": [
    {
     "data": {
      "text/plain": [
       "(52654, 13163)"
      ]
     },
     "execution_count": 140,
     "metadata": {},
     "output_type": "execute_result"
    }
   ],
   "source": [
    "# ratio train:test\n",
    "r = int(enc_input.shape[0] * 0.8)\n",
    "\n",
    "enc_input_train = enc_input[:r]\n",
    "dec_input_train = dec_input[:r]\n",
    "dec_output_train = dec_output[:r]\n",
    "\n",
    "enc_input_test = enc_input[r:]\n",
    "dec_input_test = dec_input[r:]\n",
    "dec_output_test = dec_output[r:]\n",
    "\n",
    "r, r//4"
   ]
  },
  {
   "cell_type": "code",
   "execution_count": 141,
   "metadata": {},
   "outputs": [
    {
     "data": {
      "text/plain": [
       "32011"
      ]
     },
     "execution_count": 141,
     "metadata": {},
     "output_type": "execute_result"
    }
   ],
   "source": [
    "src_tokenizer = Tokenizer()\n",
    "src_tokenizer.fit_on_texts(enc_input_train)\n",
    "\n",
    "len(src_tokenizer.word_index)"
   ]
  },
  {
   "cell_type": "code",
   "execution_count": 142,
   "metadata": {},
   "outputs": [
    {
     "name": "stdout",
     "output_type": "stream",
     "text": [
      "('interestingly', 5)\n",
      "('cracking', 4)\n",
      "('strategically', 2)\n",
      "('richly', 6)\n",
      "('sooooooooooooooooooo', 1)\n",
      "('radiation', 5)\n",
      "('pooches', 6)\n",
      "('insists', 6)\n",
      "('hamster', 5)\n",
      "('beas', 1)\n",
      "('bogus', 3)\n",
      "('criticize', 2)\n",
      "('zoom', 5)\n",
      "('brownish', 7)\n",
      "('defects', 2)\n",
      "('observed', 5)\n",
      "('chico', 2)\n",
      "('maisie', 1)\n",
      "('jane', 7)\n",
      "('booth', 4)\n",
      "('lager', 4)\n",
      "\n",
      "희소한 단어 비율: 76.21%\n",
      "희소한 단어 빈도수 비율: 3.73%\n"
     ]
    }
   ],
   "source": [
    "threshold = 7\n",
    "rare_cnt = 0\n",
    "rare_freq = 0\n",
    "freq = 0\n",
    "print_cnt = 0\n",
    "\n",
    "for key, value in src_tokenizer.word_counts.items():\n",
    "    freq += value\n",
    "\n",
    "    if value <= threshold:\n",
    "        rare_cnt += 1\n",
    "        rare_freq += value\n",
    "    \n",
    "    if value <= threshold and print_cnt <= 20:\n",
    "        print_cnt += 1\n",
    "        print((key, value))\n",
    "\n",
    "ratio_rare_all = rare_cnt/len(src_tokenizer.word_index)\n",
    "\n",
    "print()\n",
    "print('희소한 단어 비율: {:0.2f}%'.format(ratio_rare_all*100))\n",
    "print('희소한 단어 빈도수 비율: {:0.2f}%'.format(rare_freq/freq*100))"
   ]
  },
  {
   "cell_type": "code",
   "execution_count": 143,
   "metadata": {},
   "outputs": [
    {
     "data": {
      "text/plain": [
       "7615"
      ]
     },
     "execution_count": 143,
     "metadata": {},
     "output_type": "execute_result"
    }
   ],
   "source": [
    "# reduce token size\n",
    "len(src_tokenizer.word_index) - int(len(src_tokenizer.word_index)*ratio_rare_all)"
   ]
  },
  {
   "cell_type": "code",
   "execution_count": 144,
   "metadata": {},
   "outputs": [
    {
     "data": {
      "text/plain": [
       "32011"
      ]
     },
     "execution_count": 144,
     "metadata": {},
     "output_type": "execute_result"
    }
   ],
   "source": [
    "src_vocab_size = 7615\n",
    "\n",
    "src_tokenizer = Tokenizer(num_words=src_vocab_size)\n",
    "src_tokenizer.fit_on_texts(enc_input_train)\n",
    "\n",
    "# this value is still same after we give it the number of words; but tokenizer works good\n",
    "len(src_tokenizer.word_docs)"
   ]
  },
  {
   "cell_type": "code",
   "execution_count": 145,
   "metadata": {},
   "outputs": [],
   "source": [
    "enc_input_train = src_tokenizer.texts_to_sequences(enc_input_train)\n",
    "enc_input_test = src_tokenizer.texts_to_sequences(enc_input_test)"
   ]
  },
  {
   "cell_type": "code",
   "execution_count": 146,
   "metadata": {},
   "outputs": [
    {
     "data": {
      "text/plain": [
       "10419"
      ]
     },
     "execution_count": 146,
     "metadata": {},
     "output_type": "execute_result"
    }
   ],
   "source": [
    "tar_tokenizer = Tokenizer()\n",
    "tar_tokenizer.fit_on_texts(dec_input_train)\n",
    "\n",
    "len(tar_tokenizer.word_index)"
   ]
  },
  {
   "cell_type": "code",
   "execution_count": 147,
   "metadata": {},
   "outputs": [
    {
     "name": "stdout",
     "output_type": "stream",
     "text": [
      "('student', 3)\n",
      "('tacs', 3)\n",
      "('coming', 6)\n",
      "('hamster', 1)\n",
      "('zoom', 1)\n",
      "('chico', 2)\n",
      "('michelada', 1)\n",
      "('india', 5)\n",
      "('freshen', 1)\n",
      "('snapple', 2)\n",
      "('safely', 2)\n",
      "('westie', 2)\n",
      "('coca', 6)\n",
      "('detox', 4)\n",
      "('mckee', 1)\n",
      "('ky', 2)\n",
      "('decortating', 1)\n",
      "('recomended', 5)\n",
      "('directly', 1)\n",
      "('distributor', 2)\n",
      "('senna', 2)\n",
      "\n",
      "희소한 단어 비율: 79.26%\n",
      "희소한 단어 빈도수 비율: 6.41%\n"
     ]
    }
   ],
   "source": [
    "threshold = 6\n",
    "rare_cnt = 0\n",
    "rare_freq = 0\n",
    "freq = 0\n",
    "print_cnt = 0\n",
    "\n",
    "for key, value in tar_tokenizer.word_counts.items():\n",
    "    freq += value\n",
    "\n",
    "    if value <= threshold:\n",
    "        rare_cnt += 1\n",
    "        rare_freq += value\n",
    "    \n",
    "    if value <= threshold and print_cnt <= 20:\n",
    "        print_cnt += 1\n",
    "        print((key, value))\n",
    "\n",
    "ratio_rare_all = rare_cnt/len(tar_tokenizer.word_index)\n",
    "\n",
    "print()\n",
    "print('희소한 단어 비율: {:0.2f}%'.format(ratio_rare_all*100))\n",
    "print('희소한 단어 빈도수 비율: {:0.2f}%'.format(rare_freq/freq*100))"
   ]
  },
  {
   "cell_type": "code",
   "execution_count": 148,
   "metadata": {},
   "outputs": [
    {
     "data": {
      "text/plain": [
       "2161"
      ]
     },
     "execution_count": 148,
     "metadata": {},
     "output_type": "execute_result"
    }
   ],
   "source": [
    "# reduce token size\n",
    "len(tar_tokenizer.word_index) - int(len(tar_tokenizer.word_index)*ratio_rare_all)"
   ]
  },
  {
   "cell_type": "code",
   "execution_count": 149,
   "metadata": {},
   "outputs": [],
   "source": [
    "# fit_on_texts; input and output\n",
    "tar_vocab_size = 2161\n",
    "\n",
    "tar_tokenizer = Tokenizer(num_words=tar_vocab_size)\n",
    "tar_tokenizer.fit_on_texts(dec_input_train)\n",
    "tar_tokenizer.fit_on_texts(dec_output_train)\n",
    "\n",
    "dec_input_train = tar_tokenizer.texts_to_sequences(dec_input_train)\n",
    "dec_input_test = tar_tokenizer.texts_to_sequences(dec_input_test)\n",
    "\n",
    "dec_output_train = tar_tokenizer.texts_to_sequences(dec_output_train)\n",
    "dec_output_test = tar_tokenizer.texts_to_sequences(dec_output_test)\n"
   ]
  },
  {
   "cell_type": "code",
   "execution_count": 150,
   "metadata": {},
   "outputs": [
    {
     "data": {
      "text/plain": [
       "[1, 1673, 490]"
      ]
     },
     "execution_count": 150,
     "metadata": {},
     "output_type": "execute_result"
    }
   ],
   "source": [
    "dec_input_train[0]"
   ]
  },
  {
   "cell_type": "code",
   "execution_count": 151,
   "metadata": {},
   "outputs": [
    {
     "data": {
      "text/plain": [
       "(131636, 2988)"
      ]
     },
     "execution_count": 151,
     "metadata": {},
     "output_type": "execute_result"
    }
   ],
   "source": [
    "# look into target dataset(summary) cause it can hold 'only token'\n",
    "# it is larger than I thot it would be; need to get rid of it\n",
    "dataset = dec_input_train + dec_input_test + dec_output_train + dec_output_test\n",
    "cnt = 0\n",
    "\n",
    "for data in dataset:\n",
    "    if len(data) <= 1:\n",
    "        cnt += 1\n",
    "len(dataset), cnt"
   ]
  },
  {
   "cell_type": "code",
   "execution_count": 152,
   "metadata": {},
   "outputs": [],
   "source": [
    "drop_train = [index for index, sentence in enumerate(dec_input_train) if len(sentence) == 1]\n",
    "drop_test = [index for index, sentence in enumerate(dec_input_test) if len(sentence) == 1]\n",
    "\n",
    "enc_input_train = [sentence for index, sentence in enumerate(enc_input_train) if index not in drop_train]\n",
    "dec_input_train = [sentence for index, sentence in enumerate(dec_input_train) if index not in drop_train]\n",
    "dec_output_train = [sentence for index, sentence in enumerate(dec_output_train) if index not in drop_train]\n",
    "\n",
    "enc_input_test = [sentence for index, sentence in enumerate(enc_input_test) if index not in drop_test]\n",
    "dec_input_test = [sentence for index, sentence in enumerate(dec_input_test) if index not in drop_test]\n",
    "dec_output_test = [sentence for index, sentence in enumerate(dec_output_test) if index not in drop_test]"
   ]
  },
  {
   "cell_type": "code",
   "execution_count": 153,
   "metadata": {},
   "outputs": [],
   "source": [
    "enc_input_train = pad_sequences(enc_input_train, maxlen=text_max_len, padding='post')\n",
    "enc_input_test = pad_sequences(enc_input_test, maxlen=text_max_len, padding='post')\n",
    "dec_input_train = pad_sequences(dec_input_train, maxlen=summary_max_len, padding='post')\n",
    "dec_output_train = pad_sequences(dec_output_train, maxlen=summary_max_len, padding='post')\n",
    "dec_input_test = pad_sequences(dec_input_test, maxlen=summary_max_len, padding='post')\n",
    "dec_output_test = pad_sequences(dec_output_test, maxlen=summary_max_len, padding='post')"
   ]
  },
  {
   "cell_type": "code",
   "execution_count": 154,
   "metadata": {},
   "outputs": [],
   "source": [
    "# 여기선 부턴 copy\n",
    "# 인코더 설계 시작\n",
    "embedding_dim = 128\n",
    "hidden_size = 256\n",
    "\n",
    "# 인코더\n",
    "encoder_inputs = Input(shape=(text_max_len,))\n",
    "\n",
    "# 인코더의 임베딩 층\n",
    "enc_emb = Embedding(src_vocab_size, embedding_dim)(encoder_inputs)\n",
    "\n",
    "# 인코더의 LSTM 1\n",
    "# encoder_lstm1 = LSTM(hidden_size, return_sequences=True, return_state=True ,dropout = 0.4, recurrent_dropout = 0.4)\n",
    "encoder_lstm1 = LSTM(hidden_size, return_sequences=True, return_state=True ,dropout = 0.4)\n",
    "encoder_output1, state_h1, state_c1 = encoder_lstm1(enc_emb)\n",
    "\n",
    "# 인코더의 LSTM 2\n",
    "# encoder_lstm2 = LSTM(hidden_size, return_sequences=True, return_state=True, dropout=0.4, recurrent_dropout=0.4)\n",
    "encoder_lstm2 = LSTM(hidden_size, return_sequences=True, return_state=True, dropout=0.4)\n",
    "encoder_output2, state_h2, state_c2 = encoder_lstm2(encoder_output1)\n",
    "\n",
    "# 인코더의 LSTM 3\n",
    "# encoder_lstm3 = LSTM(hidden_size, return_state=True, return_sequences=True, dropout=0.4, recurrent_dropout=0.4)\n",
    "encoder_lstm3 = LSTM(hidden_size, return_state=True, return_sequences=True, dropout=0.4)\n",
    "encoder_outputs, state_h, state_c= encoder_lstm3(encoder_output2)"
   ]
  },
  {
   "cell_type": "code",
   "execution_count": 155,
   "metadata": {},
   "outputs": [],
   "source": [
    "# 디코더 설계\n",
    "decoder_inputs = Input(shape=(None,))\n",
    "\n",
    "# 디코더의 임베딩 층\n",
    "dec_emb_layer = Embedding(tar_vocab_size, embedding_dim)\n",
    "dec_emb = dec_emb_layer(decoder_inputs)\n",
    "\n",
    "# 디코더의 LSTM\n",
    "# decoder_lstm = LSTM(hidden_size, return_sequences=True, return_state=True, dropout=0.4, recurrent_dropout=0.2)\n",
    "decoder_lstm = LSTM(hidden_size, return_sequences=True, return_state=True, dropout=0.4)\n",
    "decoder_outputs, _, _ = decoder_lstm(dec_emb, initial_state=[state_h, state_c])"
   ]
  },
  {
   "cell_type": "code",
   "execution_count": 156,
   "metadata": {},
   "outputs": [
    {
     "name": "stdout",
     "output_type": "stream",
     "text": [
      "Model: \"model_7\"\n",
      "__________________________________________________________________________________________________\n",
      "Layer (type)                    Output Shape         Param #     Connected to                     \n",
      "==================================================================================================\n",
      "input_11 (InputLayer)           [(None, 50)]         0                                            \n",
      "__________________________________________________________________________________________________\n",
      "embedding_4 (Embedding)         (None, 50, 128)      974720      input_11[0][0]                   \n",
      "__________________________________________________________________________________________________\n",
      "lstm_8 (LSTM)                   [(None, 50, 256), (N 394240      embedding_4[0][0]                \n",
      "__________________________________________________________________________________________________\n",
      "input_12 (InputLayer)           [(None, None)]       0                                            \n",
      "__________________________________________________________________________________________________\n",
      "lstm_9 (LSTM)                   [(None, 50, 256), (N 525312      lstm_8[0][0]                     \n",
      "__________________________________________________________________________________________________\n",
      "embedding_5 (Embedding)         (None, None, 128)    276608      input_12[0][0]                   \n",
      "__________________________________________________________________________________________________\n",
      "lstm_10 (LSTM)                  [(None, 50, 256), (N 525312      lstm_9[0][0]                     \n",
      "__________________________________________________________________________________________________\n",
      "lstm_11 (LSTM)                  [(None, None, 256),  394240      embedding_5[0][0]                \n",
      "                                                                 lstm_10[0][1]                    \n",
      "                                                                 lstm_10[0][2]                    \n",
      "__________________________________________________________________________________________________\n",
      "dense_3 (Dense)                 (None, None, 2161)   555377      lstm_11[0][0]                    \n",
      "==================================================================================================\n",
      "Total params: 3,645,809\n",
      "Trainable params: 3,645,809\n",
      "Non-trainable params: 0\n",
      "__________________________________________________________________________________________________\n"
     ]
    }
   ],
   "source": [
    "# 디코더의 출력층\n",
    "decoder_softmax_layer = Dense(tar_vocab_size, activation='softmax')\n",
    "decoder_softmax_outputs = decoder_softmax_layer(decoder_outputs) \n",
    "\n",
    "# 모델 정의\n",
    "model = Model([encoder_inputs, decoder_inputs], decoder_softmax_outputs)\n",
    "model.summary()"
   ]
  },
  {
   "cell_type": "code",
   "execution_count": 157,
   "metadata": {},
   "outputs": [
    {
     "name": "stdout",
     "output_type": "stream",
     "text": [
      "Model: \"model_8\"\n",
      "__________________________________________________________________________________________________\n",
      "Layer (type)                    Output Shape         Param #     Connected to                     \n",
      "==================================================================================================\n",
      "input_11 (InputLayer)           [(None, 50)]         0                                            \n",
      "__________________________________________________________________________________________________\n",
      "embedding_4 (Embedding)         (None, 50, 128)      974720      input_11[0][0]                   \n",
      "__________________________________________________________________________________________________\n",
      "lstm_8 (LSTM)                   [(None, 50, 256), (N 394240      embedding_4[0][0]                \n",
      "__________________________________________________________________________________________________\n",
      "input_12 (InputLayer)           [(None, None)]       0                                            \n",
      "__________________________________________________________________________________________________\n",
      "lstm_9 (LSTM)                   [(None, 50, 256), (N 525312      lstm_8[0][0]                     \n",
      "__________________________________________________________________________________________________\n",
      "embedding_5 (Embedding)         (None, None, 128)    276608      input_12[0][0]                   \n",
      "__________________________________________________________________________________________________\n",
      "lstm_10 (LSTM)                  [(None, 50, 256), (N 525312      lstm_9[0][0]                     \n",
      "__________________________________________________________________________________________________\n",
      "lstm_11 (LSTM)                  [(None, None, 256),  394240      embedding_5[0][0]                \n",
      "                                                                 lstm_10[0][1]                    \n",
      "                                                                 lstm_10[0][2]                    \n",
      "__________________________________________________________________________________________________\n",
      "attention_layer (AdditiveAttent (None, None, 256)    256         lstm_11[0][0]                    \n",
      "                                                                 lstm_10[0][0]                    \n",
      "__________________________________________________________________________________________________\n",
      "concat_layer (Concatenate)      (None, None, 512)    0           lstm_11[0][0]                    \n",
      "                                                                 attention_layer[0][0]            \n",
      "__________________________________________________________________________________________________\n",
      "dense_4 (Dense)                 (None, None, 2161)   1108593     concat_layer[0][0]               \n",
      "==================================================================================================\n",
      "Total params: 4,199,281\n",
      "Trainable params: 4,199,281\n",
      "Non-trainable params: 0\n",
      "__________________________________________________________________________________________________\n"
     ]
    }
   ],
   "source": [
    "from tensorflow.keras.layers import AdditiveAttention\n",
    "\n",
    "# 어텐션 층(어텐션 함수)\n",
    "attn_layer = AdditiveAttention(name='attention_layer')\n",
    "\n",
    "# 인코더와 디코더의 모든 time step의 hidden state를 어텐션 층에 전달하고 결과를 리턴\n",
    "attn_out = attn_layer([decoder_outputs, encoder_outputs])\n",
    "\n",
    "\n",
    "# 어텐션의 결과와 디코더의 hidden state들을 연결\n",
    "decoder_concat_input = Concatenate(axis=-1, name='concat_layer')([decoder_outputs, attn_out])\n",
    "\n",
    "# 디코더의 출력층\n",
    "decoder_softmax_layer = Dense(tar_vocab_size, activation='softmax')\n",
    "decoder_softmax_outputs = decoder_softmax_layer(decoder_concat_input)\n",
    "\n",
    "# 모델 정의\n",
    "model = Model([encoder_inputs, decoder_inputs], decoder_softmax_outputs)\n",
    "model.summary()"
   ]
  },
  {
   "cell_type": "code",
   "execution_count": 158,
   "metadata": {},
   "outputs": [],
   "source": [
    "# load model\n",
    "model_flag = False\n",
    "\n",
    "try:\n",
    "    model_flag = tf.keras.models.load_model(os.getenv(\"HOME\") + '/aiffel/model_riview')\n",
    "except:\n",
    "    print('yo')"
   ]
  },
  {
   "cell_type": "code",
   "execution_count": 159,
   "metadata": {},
   "outputs": [
    {
     "name": "stdout",
     "output_type": "stream",
     "text": [
      "Model: \"model_1\"\n",
      "__________________________________________________________________________________________________\n",
      "Layer (type)                    Output Shape         Param #     Connected to                     \n",
      "==================================================================================================\n",
      "input_1 (InputLayer)            [(None, 50)]         0                                            \n",
      "__________________________________________________________________________________________________\n",
      "embedding (Embedding)           (None, 50, 128)      974720      input_1[0][0]                    \n",
      "__________________________________________________________________________________________________\n",
      "lstm (LSTM)                     [(None, 50, 256), (N 394240      embedding[0][0]                  \n",
      "__________________________________________________________________________________________________\n",
      "input_2 (InputLayer)            [(None, None)]       0                                            \n",
      "__________________________________________________________________________________________________\n",
      "lstm_1 (LSTM)                   [(None, 50, 256), (N 525312      lstm[0][0]                       \n",
      "__________________________________________________________________________________________________\n",
      "embedding_1 (Embedding)         (None, None, 128)    276608      input_2[0][0]                    \n",
      "__________________________________________________________________________________________________\n",
      "lstm_2 (LSTM)                   [(None, 50, 256), (N 525312      lstm_1[0][0]                     \n",
      "__________________________________________________________________________________________________\n",
      "lstm_3 (LSTM)                   [(None, None, 256),  394240      embedding_1[0][0]                \n",
      "                                                                 lstm_2[0][1]                     \n",
      "                                                                 lstm_2[0][2]                     \n",
      "__________________________________________________________________________________________________\n",
      "attention_layer (AdditiveAttent (None, None, 256)    256         lstm_3[0][0]                     \n",
      "                                                                 lstm_2[0][0]                     \n",
      "__________________________________________________________________________________________________\n",
      "concat_layer (Concatenate)      (None, None, 512)    0           lstm_3[0][0]                     \n",
      "                                                                 attention_layer[0][0]            \n",
      "__________________________________________________________________________________________________\n",
      "dense_1 (Dense)                 (None, None, 2161)   1108593     concat_layer[0][0]               \n",
      "==================================================================================================\n",
      "Total params: 4,199,281\n",
      "Trainable params: 4,199,281\n",
      "Non-trainable params: 0\n",
      "__________________________________________________________________________________________________\n"
     ]
    }
   ],
   "source": [
    "# if load_model is empty, let's train model, otherwise we get the model from the saved\n",
    "if not model_flag:\n",
    "    model.compile(optimizer='rmsprop', loss='sparse_categorical_crossentropy')\n",
    "    es = EarlyStopping(monitor='val_loss', patience=2, verbose=1)\n",
    "    history = model.fit(x=[enc_input_train, dec_input_train], y=dec_output_train, \\\n",
    "          validation_data=([enc_input_test, dec_input_test], dec_output_test), \\\n",
    "          batch_size=256, callbacks=[es], epochs=50)\n",
    "else:\n",
    "    model = model_flag\n",
    "    model.summary()"
   ]
  },
  {
   "cell_type": "code",
   "execution_count": 160,
   "metadata": {},
   "outputs": [],
   "source": [
    "# save the model\n",
    "if not model_flag:\n",
    "    model.save(os.getenv(\"HOME\") + '/aiffel/model_review')"
   ]
  },
  {
   "cell_type": "code",
   "execution_count": 161,
   "metadata": {},
   "outputs": [
    {
     "data": {
      "image/png": "[encoded data removed]",
      "text/plain": [
       "<Figure size 432x288 with 1 Axes>"
      ]
     },
     "metadata": {
      "needs_background": "light"
     },
     "output_type": "display_data"
    }
   ],
   "source": [
    "if not model_flag:\n",
    "    plt.plot(history.history['loss'], label='train')\n",
    "    plt.plot(history.history['val_loss'], label='test')\n",
    "    plt.legend()\n",
    "    plt.show()\n",
    "else:\n",
    "    path = os.getenv(\"HOME\") + '/aiffel/history_review.png'\n",
    "    img = Image.open(path)\n",
    "    plt.imshow(img)\n",
    "    plt.show()\n"
   ]
  },
  {
   "cell_type": "code",
   "execution_count": 162,
   "metadata": {},
   "outputs": [],
   "source": [
    "src_index_to_word = src_tokenizer.index_word # 원문 단어 집합에서 정수 -> 단어를 얻음\n",
    "tar_word_to_index = tar_tokenizer.word_index # 요약 단어 집합에서 단어 -> 정수를 얻음\n",
    "tar_index_to_word = tar_tokenizer.index_word # 요약 단어 집합에서 정수 -> 단어를 얻음"
   ]
  },
  {
   "cell_type": "code",
   "execution_count": 163,
   "metadata": {},
   "outputs": [],
   "source": [
    "# 인코더 설계\n",
    "encoder_model = Model(inputs=encoder_inputs, outputs=[encoder_outputs, state_h, state_c])\n",
    "\n",
    "# 이전 시점의 상태들을 저장하는 텐서\n",
    "decoder_state_input_h = Input(shape=(hidden_size,))\n",
    "decoder_state_input_c = Input(shape=(hidden_size,))\n",
    "\n",
    "dec_emb2 = dec_emb_layer(decoder_inputs)\n",
    "\n",
    "# 문장의 다음 단어를 예측하기 위해서 초기 상태(initial_state)를 이전 시점의 상태로 사용. 이는 뒤의 함수 decode_sequence()에 구현\n",
    "# 훈련 과정에서와 달리 LSTM의 리턴하는 은닉 상태와 셀 상태인 state_h와 state_c를 버리지 않음.\n",
    "decoder_outputs2, state_h2, state_c2 = decoder_lstm(dec_emb2, initial_state=[decoder_state_input_h, decoder_state_input_c])"
   ]
  },
  {
   "cell_type": "code",
   "execution_count": 164,
   "metadata": {},
   "outputs": [],
   "source": [
    "# 어텐션 함수\n",
    "decoder_hidden_state_input = Input(shape=(text_max_len, hidden_size))\n",
    "attn_out_inf = attn_layer([decoder_outputs2, decoder_hidden_state_input])\n",
    "decoder_inf_concat = Concatenate(axis=-1, name='concat')([decoder_outputs2, attn_out_inf])\n",
    "\n",
    "# 디코더의 출력층\n",
    "decoder_outputs2 = decoder_softmax_layer(decoder_inf_concat) \n",
    "\n",
    "# 최종 디코더 모델\n",
    "decoder_model = Model(\n",
    "    [decoder_inputs] + [decoder_hidden_state_input,decoder_state_input_h, decoder_state_input_c],\n",
    "    [decoder_outputs2] + [state_h2, state_c2])"
   ]
  },
  {
   "cell_type": "code",
   "execution_count": 165,
   "metadata": {},
   "outputs": [],
   "source": [
    "def decode_sequence(input_seq):\n",
    "    # 입력으로부터 인코더의 상태를 얻음\n",
    "    e_out, e_h, e_c = encoder_model.predict(input_seq)\n",
    "\n",
    "     # <SOS>에 해당하는 토큰 생성\n",
    "    target_seq = np.zeros((1,1))\n",
    "    target_seq[0, 0] = tar_word_to_index['sostoken']\n",
    "\n",
    "    stop_condition = False\n",
    "    decoded_sentence = ''\n",
    "    while not stop_condition: # stop_condition이 True가 될 때까지 루프 반복\n",
    "\n",
    "        output_tokens, h, c = decoder_model.predict([target_seq] + [e_out, e_h, e_c])\n",
    "        sampled_token_index = np.argmax(output_tokens[0, -1, :])\n",
    "        sampled_token = tar_index_to_word[sampled_token_index]\n",
    "\n",
    "        if (sampled_token!='eostoken'):\n",
    "            decoded_sentence += ' '+sampled_token\n",
    "\n",
    "        #  <eos>에 도달하거나 최대 길이를 넘으면 중단.\n",
    "        if (sampled_token == 'eostoken'  or len(decoded_sentence.split()) >= (summary_max_len-1)):\n",
    "            stop_condition = True\n",
    "\n",
    "        # 길이가 1인 타겟 시퀀스를 업데이트\n",
    "        target_seq = np.zeros((1,1))\n",
    "        target_seq[0, 0] = sampled_token_index\n",
    "\n",
    "        # 상태를 업데이트 합니다.\n",
    "        e_h, e_c = h, c\n",
    "\n",
    "    return decoded_sentence"
   ]
  },
  {
   "cell_type": "code",
   "execution_count": 166,
   "metadata": {},
   "outputs": [
    {
     "name": "stdout",
     "output_type": "stream",
     "text": [
      "=3\n"
     ]
    }
   ],
   "source": [
    "# 원문의 정수 시퀀스를 텍스트 시퀀스로 변환\n",
    "def seq2text(input_seq):\n",
    "    temp=''\n",
    "    for i in input_seq:\n",
    "        if (i!=0):\n",
    "            temp = temp + src_index_to_word[i]+' '\n",
    "    return temp\n",
    "\n",
    "# 요약문의 정수 시퀀스를 텍스트 시퀀스로 변환\n",
    "def seq2summary(input_seq):\n",
    "    temp=''\n",
    "    for i in input_seq:\n",
    "        if ((i!=0 and i!=tar_word_to_index['sostoken']) and i!=tar_word_to_index['eostoken']):\n",
    "            temp = temp + tar_index_to_word[i] + ' '\n",
    "    return temp\n",
    "\n",
    "print('=3')"
   ]
  },
  {
   "cell_type": "code",
   "execution_count": 167,
   "metadata": {},
   "outputs": [
    {
     "name": "stdout",
     "output_type": "stream",
     "text": [
      "원문 : remember shake bake years ago quick easy use pork comes moist tender grand kids enjoyed shaking pork chops even mild flavor even sprinkled remaining crumbs top chops even comes variety flavors \n",
      "실제 요약 : shake bake pork pouch ounce \n",
      "예측 요약 :  nice ordered thrilled peppermint pearl disappointment safe\n",
      "\n",
      "\n",
      "원문 : stuff good amazing jar sauce could recommend highly \n",
      "실제 요약 : will make this short \n",
      "예측 요약 :  nice bodied beat puffed bodied garlic bodied\n",
      "\n",
      "\n",
      "원문 : started buying nature valley brand type bars must admit flavor wise superior slightly eat organic sticking bb brand believe like peanut butter bars honestly better peanut butter pie \n",
      "실제 요약 : these are excellent \n",
      "예측 요약 :  nice ordered canidae portable peppermint peppermint pill\n",
      "\n",
      "\n"
     ]
    }
   ],
   "source": [
    "for i in range(3):\n",
    "    print(\"원문 :\", seq2text(enc_input_test[i]))\n",
    "    print(\"실제 요약 :\", seq2summary(dec_input_test[i]))\n",
    "    print(\"예측 요약 :\", decode_sequence(enc_input_test[i].reshape(1, text_max_len)))\n",
    "    print(\"\\n\")"
   ]
  },
  {
   "cell_type": "code",
   "execution_count": 168,
   "metadata": {},
   "outputs": [
    {
     "name": "stdout",
     "output_type": "stream",
     "text": [
      "The screen is filled with green, cascading code which gives way to the title, The Matrix.\n",
      "\n",
      "A phone rings and text appears on the screen: \"Call trans opt: received. 2-19-98 13:24:18 REC: Log>\" As a conversation takes place between Trinity (Carrie-Anne Moss) and Cypher (Joe Pantoliano), two free humans, a table of random green numbers are being scanned and individual numbers selected, creating a series of digits not unlike an ordinary phone number, as if a code is being deciphered or a call is being traced.\n",
      "\n",
      "Trinity discusses some unknown person. Cypher taunts Trinity, suggesting she enjoys watching him. Trinity counters that \"Morpheus (Laurence Fishburne) says he may be 'the One',\" just as the sound of a number being selected alerts Trinity that someone may be tracing their call. She ends the call.\n",
      "\n",
      "Armed policemen move down a darkened, decrepit hallway in the Heart O' the City Hotel, their flashlight beam bouncing just ahead of them. They come to room 303, kick down the door and find a woman dressed in black, facing away from them. It's Trinity. She brings her hands up from the laptop she's working on at their command.\n",
      "\n",
      "Outside the hotel a car drives up and three agents appear in neatly pressed black suits. They are Agent Smith (Hugo Weaving), Agent Brown (Paul Goddard), and Agent Jones (Robert Taylor). Agent Smith and the presiding police lieutenant argue. Agent Smith admonishes the policeman that they were given specific orders to contact the agents first, for their\n"
     ]
    },
    {
     "data": {
      "text/plain": [
       "35932"
      ]
     },
     "execution_count": 168,
     "metadata": {},
     "output_type": "execute_result"
    }
   ],
   "source": [
    "# Extract summarization\n",
    "text = requests.get('http://rare-technologies.com/the_matrix_synopsis.txt').text\n",
    "\n",
    "print(text[:1500])\n",
    "len(text)"
   ]
  },
  {
   "cell_type": "code",
   "execution_count": 169,
   "metadata": {},
   "outputs": [
    {
     "name": "stdout",
     "output_type": "stream",
     "text": [
      "Morpheus, Trinity, Neo, Apoc, Switch, Mouse and Cypher are jacked into the Matrix.\n",
      "Trinity brings the helicopter down to the floor that Morpheus is on and Neo opens fire on the three Agents.\n"
     ]
    }
   ],
   "source": [
    "print(summarize(text, ratio=0.005))"
   ]
  },
  {
   "cell_type": "markdown",
   "metadata": {},
   "source": [
    "___\n",
    "___\n",
    "<br> <br>\n",
    "### Module\n",
    "---"
   ]
  },
  {
   "cell_type": "code",
   "execution_count": 170,
   "metadata": {},
   "outputs": [
    {
     "name": "stderr",
     "output_type": "stream",
     "text": [
      "[nltk_data] Downloading package stopwords to /aiffel/nltk_data...\n",
      "[nltk_data]   Package stopwords is already up-to-date!\n"
     ]
    }
   ],
   "source": [
    "import nltk\n",
    "from nltk.corpus import stopwords\n",
    "nltk.download('stopwords')\n",
    "\n",
    "\n",
    "import numpy as np\n",
    "import pandas as pd\n",
    "\n",
    "import os\n",
    "\n",
    "import re\n",
    "\n",
    "import seaborn as sns\n",
    "import matplotlib.pyplot as plt\n",
    "%matplotlib inline\n",
    "\n",
    "\n",
    "from bs4 import BeautifulSoup\n",
    "\n",
    "import tensorflow as tf\n",
    "from tensorflow.keras.preprocessing.text import Tokenizer \n",
    "from tensorflow.keras.preprocessing.sequence import pad_sequences\n",
    "from tensorflow.keras.layers import Input, LSTM, Embedding, Dense, Concatenate, TimeDistributed\n",
    "from tensorflow.keras.models import Model\n",
    "from tensorflow.keras.callbacks import EarlyStopping, ModelCheckpoint\n",
    "\n",
    "import requests\n",
    "from summa.summarizer import summarize\n",
    "\n",
    "import urllib.request\n",
    "\n",
    "import warnings\n",
    "warnings.filterwarnings(\"ignore\", category=UserWarning, module='bs4')"
   ]
  },
  {
   "cell_type": "code",
   "execution_count": 171,
   "metadata": {},
   "outputs": [],
   "source": [
    "# fix random seed\n",
    "tf.random.set_seed(77)\n",
    "np.random.seed(77)"
   ]
  },
  {
   "cell_type": "markdown",
   "metadata": {},
   "source": [
    "### Get the dataset\n",
    "___"
   ]
  },
  {
   "cell_type": "code",
   "execution_count": 194,
   "metadata": {},
   "outputs": [],
   "source": [
    "urllib.request.urlretrieve(\"https://raw.githubusercontent.com/sunnysai12345/News_Summary/master/news_summary_more.csv\", filename=\"news_summary_more.csv\")\n",
    "data = pd.read_csv('news_summary_more.csv', encoding='iso-8859-1')"
   ]
  },
  {
   "cell_type": "code",
   "execution_count": 195,
   "metadata": {},
   "outputs": [
    {
     "data": {
      "text/html": [
       "<div>\n",
       "<style scoped>\n",
       "    .dataframe tbody tr th:only-of-type {\n",
       "        vertical-align: middle;\n",
       "    }\n",
       "\n",
       "    .dataframe tbody tr th {\n",
       "        vertical-align: top;\n",
       "    }\n",
       "\n",
       "    .dataframe thead th {\n",
       "        text-align: right;\n",
       "    }\n",
       "</style>\n",
       "<table border=\"1\" class=\"dataframe\">\n",
       "  <thead>\n",
       "    <tr style=\"text-align: right;\">\n",
       "      <th></th>\n",
       "      <th>headlines</th>\n",
       "      <th>text</th>\n",
       "    </tr>\n",
       "  </thead>\n",
       "  <tbody>\n",
       "    <tr>\n",
       "      <th>67854</th>\n",
       "      <td>Video shows Eng player Stokes mocking model's ...</td>\n",
       "      <td>A day after footage of English cricketer Ben S...</td>\n",
       "    </tr>\n",
       "    <tr>\n",
       "      <th>57260</th>\n",
       "      <td>Will name B'wood's sexual offenders if assured...</td>\n",
       "      <td>Richa Chadha has said she'll name and shame se...</td>\n",
       "    </tr>\n",
       "    <tr>\n",
       "      <th>69353</th>\n",
       "      <td>Russia, China hold joint naval drills near Kor...</td>\n",
       "      <td>Russia and China on Monday began the second st...</td>\n",
       "    </tr>\n",
       "    <tr>\n",
       "      <th>20182</th>\n",
       "      <td>Al Jazeera may go off air as govt revokes secu...</td>\n",
       "      <td>Qatar-based news channel Al Jazeera may have t...</td>\n",
       "    </tr>\n",
       "    <tr>\n",
       "      <th>12137</th>\n",
       "      <td>20-yr-old dance teacher makes fun of man's dan...</td>\n",
       "      <td>Avinash Sangwan, a 20-year-old dance instructo...</td>\n",
       "    </tr>\n",
       "    <tr>\n",
       "      <th>78817</th>\n",
       "      <td>Nelson Mandela book withdrawn after outrage fr...</td>\n",
       "      <td>A new book detailing Nelson Mandela's last day...</td>\n",
       "    </tr>\n",
       "    <tr>\n",
       "      <th>94775</th>\n",
       "      <td>Oil firm BP cuts CEO pay by Ã¢ÂÂ¹48 crore on ...</td>\n",
       "      <td>Oil giant BP has cut CEO Bob Dudley's 2016 pay...</td>\n",
       "    </tr>\n",
       "    <tr>\n",
       "      <th>82430</th>\n",
       "      <td>I disagree that AI overlord will control human...</td>\n",
       "      <td>David Kenny, Senior Vice President for IBM's s...</td>\n",
       "    </tr>\n",
       "    <tr>\n",
       "      <th>33460</th>\n",
       "      <td>Ex-HSBC Bank foreign exchange exec gets 2 year...</td>\n",
       "      <td>Mark Johnson, the former head of HSBC Bank's f...</td>\n",
       "    </tr>\n",
       "    <tr>\n",
       "      <th>57608</th>\n",
       "      <td>Artwork shows Trump dressed as Wonder Woman, b...</td>\n",
       "      <td>A painting showing US President Donald Trump d...</td>\n",
       "    </tr>\n",
       "  </tbody>\n",
       "</table>\n",
       "</div>"
      ],
      "text/plain": [
       "                                               headlines  \\\n",
       "67854  Video shows Eng player Stokes mocking model's ...   \n",
       "57260  Will name B'wood's sexual offenders if assured...   \n",
       "69353  Russia, China hold joint naval drills near Kor...   \n",
       "20182  Al Jazeera may go off air as govt revokes secu...   \n",
       "12137  20-yr-old dance teacher makes fun of man's dan...   \n",
       "78817  Nelson Mandela book withdrawn after outrage fr...   \n",
       "94775  Oil firm BP cuts CEO pay by Ã¢ÂÂ¹48 crore on ...   \n",
       "82430  I disagree that AI overlord will control human...   \n",
       "33460  Ex-HSBC Bank foreign exchange exec gets 2 year...   \n",
       "57608  Artwork shows Trump dressed as Wonder Woman, b...   \n",
       "\n",
       "                                                    text  \n",
       "67854  A day after footage of English cricketer Ben S...  \n",
       "57260  Richa Chadha has said she'll name and shame se...  \n",
       "69353  Russia and China on Monday began the second st...  \n",
       "20182  Qatar-based news channel Al Jazeera may have t...  \n",
       "12137  Avinash Sangwan, a 20-year-old dance instructo...  \n",
       "78817  A new book detailing Nelson Mandela's last day...  \n",
       "94775  Oil giant BP has cut CEO Bob Dudley's 2016 pay...  \n",
       "82430  David Kenny, Senior Vice President for IBM's s...  \n",
       "33460  Mark Johnson, the former head of HSBC Bank's f...  \n",
       "57608  A painting showing US President Donald Trump d...  "
      ]
     },
     "execution_count": 195,
     "metadata": {},
     "output_type": "execute_result"
    }
   ],
   "source": [
    "data.sample(10)"
   ]
  },
  {
   "cell_type": "markdown",
   "metadata": {},
   "source": [
    "### Data Preprocessing\n",
    "___"
   ]
  },
  {
   "cell_type": "code",
   "execution_count": 196,
   "metadata": {},
   "outputs": [
    {
     "data": {
      "text/plain": [
       "(98401, 98360, 98280)"
      ]
     },
     "execution_count": 196,
     "metadata": {},
     "output_type": "execute_result"
    }
   ],
   "source": [
    "# check duplicate\n",
    "len(data), data['text'].nunique(), data['headlines'].nunique()"
   ]
  },
  {
   "cell_type": "code",
   "execution_count": 197,
   "metadata": {},
   "outputs": [],
   "source": [
    "data.drop_duplicates(subset = 'text', inplace=True)"
   ]
  },
  {
   "cell_type": "code",
   "execution_count": 198,
   "metadata": {},
   "outputs": [
    {
     "data": {
      "text/plain": [
       "98360"
      ]
     },
     "execution_count": 198,
     "metadata": {},
     "output_type": "execute_result"
    }
   ],
   "source": [
    "data.dropna(inplace=True)\n",
    "\n",
    "# then, it means there is no NaN\n",
    "len(data)"
   ]
  },
  {
   "cell_type": "code",
   "execution_count": 199,
   "metadata": {},
   "outputs": [
    {
     "name": "stdout",
     "output_type": "stream",
     "text": [
      "정규화 사전의 수:  120\n"
     ]
    }
   ],
   "source": [
    "contractions = {\"ain't\": \"is not\", \"aren't\": \"are not\",\"can't\": \"cannot\", \"'cause\": \"because\", \"could've\": \"could have\", \"couldn't\": \"could not\",\n",
    "                           \"didn't\": \"did not\",  \"doesn't\": \"does not\", \"don't\": \"do not\", \"hadn't\": \"had not\", \"hasn't\": \"has not\", \"haven't\": \"have not\",\n",
    "                           \"he'd\": \"he would\",\"he'll\": \"he will\", \"he's\": \"he is\", \"how'd\": \"how did\", \"how'd'y\": \"how do you\", \"how'll\": \"how will\", \"how's\": \"how is\",\n",
    "                           \"I'd\": \"I would\", \"I'd've\": \"I would have\", \"I'll\": \"I will\", \"I'll've\": \"I will have\",\"I'm\": \"I am\", \"I've\": \"I have\", \"i'd\": \"i would\",\n",
    "                           \"i'd've\": \"i would have\", \"i'll\": \"i will\",  \"i'll've\": \"i will have\",\"i'm\": \"i am\", \"i've\": \"i have\", \"isn't\": \"is not\", \"it'd\": \"it would\",\n",
    "                           \"it'd've\": \"it would have\", \"it'll\": \"it will\", \"it'll've\": \"it will have\",\"it's\": \"it is\", \"let's\": \"let us\", \"ma'am\": \"madam\",\n",
    "                           \"mayn't\": \"may not\", \"might've\": \"might have\",\"mightn't\": \"might not\",\"mightn't've\": \"might not have\", \"must've\": \"must have\",\n",
    "                           \"mustn't\": \"must not\", \"mustn't've\": \"must not have\", \"needn't\": \"need not\", \"needn't've\": \"need not have\",\"o'clock\": \"of the clock\",\n",
    "                           \"oughtn't\": \"ought not\", \"oughtn't've\": \"ought not have\", \"shan't\": \"shall not\", \"sha'n't\": \"shall not\", \"shan't've\": \"shall not have\",\n",
    "                           \"she'd\": \"she would\", \"she'd've\": \"she would have\", \"she'll\": \"she will\", \"she'll've\": \"she will have\", \"she's\": \"she is\",\n",
    "                           \"should've\": \"should have\", \"shouldn't\": \"should not\", \"shouldn't've\": \"should not have\", \"so've\": \"so have\",\"so's\": \"so as\",\n",
    "                           \"this's\": \"this is\",\"that'd\": \"that would\", \"that'd've\": \"that would have\", \"that's\": \"that is\", \"there'd\": \"there would\",\n",
    "                           \"there'd've\": \"there would have\", \"there's\": \"there is\", \"here's\": \"here is\",\"they'd\": \"they would\", \"they'd've\": \"they would have\",\n",
    "                           \"they'll\": \"they will\", \"they'll've\": \"they will have\", \"they're\": \"they are\", \"they've\": \"they have\", \"to've\": \"to have\",\n",
    "                           \"wasn't\": \"was not\", \"we'd\": \"we would\", \"we'd've\": \"we would have\", \"we'll\": \"we will\", \"we'll've\": \"we will have\", \"we're\": \"we are\",\n",
    "                           \"we've\": \"we have\", \"weren't\": \"were not\", \"what'll\": \"what will\", \"what'll've\": \"what will have\", \"what're\": \"what are\",\n",
    "                           \"what's\": \"what is\", \"what've\": \"what have\", \"when's\": \"when is\", \"when've\": \"when have\", \"where'd\": \"where did\", \"where's\": \"where is\",\n",
    "                           \"where've\": \"where have\", \"who'll\": \"who will\", \"who'll've\": \"who will have\", \"who's\": \"who is\", \"who've\": \"who have\",\n",
    "                           \"why's\": \"why is\", \"why've\": \"why have\", \"will've\": \"will have\", \"won't\": \"will not\", \"won't've\": \"will not have\",\n",
    "                           \"would've\": \"would have\", \"wouldn't\": \"would not\", \"wouldn't've\": \"would not have\", \"y'all\": \"you all\",\n",
    "                           \"y'all'd\": \"you all would\",\"y'all'd've\": \"you all would have\",\"y'all're\": \"you all are\",\"y'all've\": \"you all have\",\n",
    "                           \"you'd\": \"you would\", \"you'd've\": \"you would have\", \"you'll\": \"you will\", \"you'll've\": \"you will have\",\n",
    "                           \"you're\": \"you are\", \"you've\": \"you have\"}\n",
    "\n",
    "print(\"정규화 사전의 수: \", len(contractions))"
   ]
  },
  {
   "cell_type": "code",
   "execution_count": 200,
   "metadata": {},
   "outputs": [
    {
     "data": {
      "text/plain": [
       "\"Saurav Kant, an alumnus of upGrad and IIIT-B's PG Program in Machine learning and Artificial Intelligence, was a Sr Systems Engineer at Infosys with almost 5 years of work experience. The program and upGrad's 360-degree career support helped him transition to a Data Scientist at Tech Mahindra with 90% salary hike. upGrad's Online Power Learning has powered 3 lakh+ careers.\""
      ]
     },
     "execution_count": 200,
     "metadata": {},
     "output_type": "execute_result"
    }
   ],
   "source": [
    "data['text'][0]"
   ]
  },
  {
   "cell_type": "code",
   "execution_count": 201,
   "metadata": {},
   "outputs": [
    {
     "name": "stdout",
     "output_type": "stream",
     "text": [
      "불용어 개수 : 179\n",
      "['i', 'me', 'my', 'myself', 'we', 'our', 'ours', 'ourselves', 'you', \"you're\", \"you've\", \"you'll\", \"you'd\", 'your', 'yours', 'yourself', 'yourselves', 'he', 'him', 'his', 'himself', 'she', \"she's\", 'her', 'hers', 'herself', 'it', \"it's\", 'its', 'itself', 'they', 'them', 'their', 'theirs', 'themselves', 'what', 'which', 'who', 'whom', 'this', 'that', \"that'll\", 'these', 'those', 'am', 'is', 'are', 'was', 'were', 'be', 'been', 'being', 'have', 'has', 'had', 'having', 'do', 'does', 'did', 'doing', 'a', 'an', 'the', 'and', 'but', 'if', 'or', 'because', 'as', 'until', 'while', 'of', 'at', 'by', 'for', 'with', 'about', 'against', 'between', 'into', 'through', 'during', 'before', 'after', 'above', 'below', 'to', 'from', 'up', 'down', 'in', 'out', 'on', 'off', 'over', 'under', 'again', 'further', 'then', 'once', 'here', 'there', 'when', 'where', 'why', 'how', 'all', 'any', 'both', 'each', 'few', 'more', 'most', 'other', 'some', 'such', 'no', 'nor', 'not', 'only', 'own', 'same', 'so', 'than', 'too', 'very', 's', 't', 'can', 'will', 'just', 'don', \"don't\", 'should', \"should've\", 'now', 'd', 'll', 'm', 'o', 're', 've', 'y', 'ain', 'aren', \"aren't\", 'couldn', \"couldn't\", 'didn', \"didn't\", 'doesn', \"doesn't\", 'hadn', \"hadn't\", 'hasn', \"hasn't\", 'haven', \"haven't\", 'isn', \"isn't\", 'ma', 'mightn', \"mightn't\", 'mustn', \"mustn't\", 'needn', \"needn't\", 'shan', \"shan't\", 'shouldn', \"shouldn't\", 'wasn', \"wasn't\", 'weren', \"weren't\", 'won', \"won't\", 'wouldn', \"wouldn't\"]\n"
     ]
    }
   ],
   "source": [
    "print('불용어 개수 :', len(stopwords.words('english') ))\n",
    "print(stopwords.words('english'))"
   ]
  },
  {
   "cell_type": "code",
   "execution_count": 202,
   "metadata": {},
   "outputs": [],
   "source": [
    "# we need to check NaN value in text after text preprocessing\n",
    "def preprocess_sentence(sentence, remove_stopwords=True):\n",
    "    sentence = sentence.lower() \n",
    "    sentence = BeautifulSoup(sentence, \"lxml\").text # html tag\n",
    "    sentence = re.sub(r'\\([^)]*\\)', '', sentence) \n",
    "    sentence = re.sub('\"','', sentence) \n",
    "    sentence = ' '.join([contractions[t] if t in contractions else t for t in sentence.split(\" \")])# contraction\n",
    "    sentence = re.sub(r\"'s\\b\",\"\", sentence) # possesive case\n",
    "    sentence = re.sub(\"[^a-zA-Z]\", \" \", sentence)\n",
    "        \n",
    "    if remove_stopwords:\n",
    "        tokens = ' '.join(word for word in sentence.split() if not word in stopwords.words('english') if len(word) > 1)\n",
    "    \n",
    "    \n",
    "    else:\n",
    "        tokens = ' '.join(word for word in sentence.split() if len(word) > 1)\n",
    "    return tokens"
   ]
  },
  {
   "cell_type": "code",
   "execution_count": 203,
   "metadata": {},
   "outputs": [],
   "source": [
    "# with open(os.getenv(\"HOME\")+'/aiffel/news_text.pickle', 'wb') as f:\n",
    "#     pickle.dump(clean_text, f)\n",
    "\n",
    "# with open(os.getenv(\"HOME\")+'/aiffel/news_summary.pickle', 'wb') as f:\n",
    "#     pickle.dump(clean_summary, f)"
   ]
  },
  {
   "cell_type": "code",
   "execution_count": 204,
   "metadata": {},
   "outputs": [
    {
     "data": {
      "text/plain": [
       "(98360, 98360)"
      ]
     },
     "execution_count": 204,
     "metadata": {},
     "output_type": "execute_result"
    }
   ],
   "source": [
    "if False:\n",
    "    clean_text = []\n",
    "\n",
    "    for sen in data['text']:\n",
    "        clean_text.append(preprocess_sentence(sen))\n",
    "\n",
    "    clean_summary = []\n",
    "\n",
    "    for sen in data['headlines']:\n",
    "        clean_summary.append(preprocess_sentence(sen, False))\n",
    "\n",
    "with open(os.getenv(\"HOME\")+'/aiffel/news_text.pickle', 'rb') as f:\n",
    "    clean_text = pickle.load(f)\n",
    "\n",
    "with open(os.getenv(\"HOME\")+'/aiffel/news_summary.pickle', 'rb') as f:\n",
    "    clean_summary = pickle.load(f)\n",
    "\n",
    "len(clean_text), len(clean_summary)"
   ]
  },
  {
   "cell_type": "code",
   "execution_count": 205,
   "metadata": {},
   "outputs": [
    {
     "data": {
      "text/plain": [
       "98360"
      ]
     },
     "execution_count": 205,
     "metadata": {},
     "output_type": "execute_result"
    }
   ],
   "source": [
    "data['text'] = np.array(clean_text)\n",
    "data['summary'] = np.array(clean_summary)\n",
    "\n",
    "data.dropna(axis=0, inplace=True)\n",
    "\n",
    "len(data)"
   ]
  },
  {
   "cell_type": "code",
   "execution_count": 206,
   "metadata": {},
   "outputs": [
    {
     "name": "stdout",
     "output_type": "stream",
     "text": [
      "전체 샘플수 : 98360\n"
     ]
    }
   ],
   "source": [
    "data.dropna(axis=0, inplace=True)\n",
    "print('전체 샘플수 :', (len(data)))"
   ]
  },
  {
   "cell_type": "code",
   "execution_count": 207,
   "metadata": {},
   "outputs": [],
   "source": [
    "data['num_Text'] = data['text'].apply(lambda x: len(x.split()))\n",
    "data['num_headlines'] = data['headlines'].apply(lambda x: len(x.split()))"
   ]
  },
  {
   "cell_type": "code",
   "execution_count": 208,
   "metadata": {},
   "outputs": [
    {
     "data": {
      "image/png": "[encoded data removed]",
      "text/plain": [
       "<Figure size 576x576 with 3 Axes>"
      ]
     },
     "metadata": {
      "needs_background": "light"
     },
     "output_type": "display_data"
    }
   ],
   "source": [
    "plt.figure(figsize=(8, 8))\n",
    "plt.suptitle('text length of Text', fontsize=30)\n",
    "\n",
    "#whisker range 60\n",
    "plt.subplot(131)\n",
    "sns.boxplot(data=data, y='num_Text', whis=[0, 60], color='orange')\n",
    "\n",
    "#whisker range 80\n",
    "plt.subplot(132)\n",
    "plt.tick_params(left=False, labelleft=False)\n",
    "sns.boxplot(data=data, y='num_Text', whis=[0, 80], color='orange').set_ylabel('')\n",
    "\n",
    "#whisker range 95\n",
    "plt.subplot(133)\n",
    "plt.tick_params(left=False, labelleft=False)\n",
    "sns.boxplot(data=data, y='num_Text', whis=[0, 95], color='orange').set_ylabel('')\n",
    "\n",
    "plt.show()"
   ]
  },
  {
   "cell_type": "code",
   "execution_count": 209,
   "metadata": {},
   "outputs": [
    {
     "data": {
      "image/png": "[encoded data removed]",
      "text/plain": [
       "<Figure size 576x576 with 3 Axes>"
      ]
     },
     "metadata": {
      "needs_background": "light"
     },
     "output_type": "display_data"
    }
   ],
   "source": [
    "plt.figure(figsize=(8, 8))\n",
    "plt.suptitle('text length of Headlines', fontsize=30)\n",
    "\n",
    "#whisker range 60\n",
    "plt.subplot(131)\n",
    "sns.boxplot(data=data, y='num_headlines', whis=[0, 60], color='blue')\n",
    "\n",
    "#whisker range 80\n",
    "plt.subplot(132)\n",
    "plt.tick_params(left=False, labelleft=False)\n",
    "sns.boxplot(data=data, y='num_headlines', whis=[0, 80], color='blue').set_ylabel('')\n",
    "\n",
    "#whisker range 95\n",
    "plt.subplot(133)\n",
    "plt.tick_params(left=False, labelleft=False)\n",
    "sns.boxplot(data=data, y='num_headlines', whis=[0, 95], color='blue').set_ylabel('')\n",
    "\n",
    "plt.show()"
   ]
  },
  {
   "cell_type": "code",
   "execution_count": 210,
   "metadata": {},
   "outputs": [],
   "source": [
    "# from graph, appropriate value for leangh of text, headlines\n",
    "text_max_len = 38\n",
    "headlines_max_len = 11"
   ]
  },
  {
   "cell_type": "code",
   "execution_count": 223,
   "metadata": {},
   "outputs": [
    {
     "data": {
      "text/plain": [
       "72916"
      ]
     },
     "execution_count": 223,
     "metadata": {},
     "output_type": "execute_result"
    }
   ],
   "source": [
    "data = data[data['text'].apply(lambda x: len(x.split()) <= text_max_len)]\n",
    "data = data[data['headlines'].apply(lambda x: len(x.split()) <= headlines_max_len)]\n",
    "data.reset_index(inplace=True, drop=True)\n",
    "data_ = data\n",
    "\n",
    "len(data) # before len(data) = 94360"
   ]
  },
  {
   "cell_type": "code",
   "execution_count": 228,
   "metadata": {},
   "outputs": [
    {
     "data": {
      "text/html": [
       "<div>\n",
       "<style scoped>\n",
       "    .dataframe tbody tr th:only-of-type {\n",
       "        vertical-align: middle;\n",
       "    }\n",
       "\n",
       "    .dataframe tbody tr th {\n",
       "        vertical-align: top;\n",
       "    }\n",
       "\n",
       "    .dataframe thead th {\n",
       "        text-align: right;\n",
       "    }\n",
       "</style>\n",
       "<table border=\"1\" class=\"dataframe\">\n",
       "  <thead>\n",
       "    <tr style=\"text-align: right;\">\n",
       "      <th></th>\n",
       "      <th>headlines</th>\n",
       "      <th>text</th>\n",
       "      <th>summary</th>\n",
       "      <th>num_Text</th>\n",
       "      <th>num_headlines</th>\n",
       "      <th>dec_input</th>\n",
       "      <th>dec_output</th>\n",
       "    </tr>\n",
       "  </thead>\n",
       "  <tbody>\n",
       "    <tr>\n",
       "      <th>0</th>\n",
       "      <td>Pune woman accuses ATS officer of thrashing, m...</td>\n",
       "      <td>woman maharashtra pune alleged sub inspector m...</td>\n",
       "      <td>new zealand end rohit sharma led india match w...</td>\n",
       "      <td>38</td>\n",
       "      <td>9</td>\n",
       "      <td>sostoken Pune woman accuses ATS officer of thr...</td>\n",
       "      <td>Pune woman accuses ATS officer of thrashing, m...</td>\n",
       "    </tr>\n",
       "    <tr>\n",
       "      <th>1</th>\n",
       "      <td>Ghaziabad teachers found missing from duty, sa...</td>\n",
       "      <td>basic education department officials wednesday...</td>\n",
       "      <td>aegon life iterm insurance plan helps customer...</td>\n",
       "      <td>34</td>\n",
       "      <td>9</td>\n",
       "      <td>sostoken Ghaziabad teachers found missing from...</td>\n",
       "      <td>Ghaziabad teachers found missing from duty, sa...</td>\n",
       "    </tr>\n",
       "    <tr>\n",
       "      <th>2</th>\n",
       "      <td>Drunk US man who took Ã¢ÂÂ¹1-lakh Uber ride s...</td>\n",
       "      <td>drunk us man accidentally took km uber ride we...</td>\n",
       "      <td>rahat fateh ali khan denies getting notice for...</td>\n",
       "      <td>34</td>\n",
       "      <td>10</td>\n",
       "      <td>sostoken Drunk US man who took Ã¢ÂÂ¹1-lakh Ub...</td>\n",
       "      <td>Drunk US man who took Ã¢ÂÂ¹1-lakh Uber ride s...</td>\n",
       "    </tr>\n",
       "    <tr>\n",
       "      <th>3</th>\n",
       "      <td>8 injured as iron bridge collapses in Maharashtra</td>\n",
       "      <td>least eight people injured sunday small iron b...</td>\n",
       "      <td>cong wins ramgarh bypoll in rajasthan takes to...</td>\n",
       "      <td>34</td>\n",
       "      <td>11</td>\n",
       "      <td>sostoken 8 injured as iron bridge collapses in...</td>\n",
       "      <td>8 injured as iron bridge collapses in Maharash...</td>\n",
       "    </tr>\n",
       "    <tr>\n",
       "      <th>4</th>\n",
       "      <td>Pic of Chinese woman cooking fish on car bonne...</td>\n",
       "      <td>picture chinese woman cooking fish car bonnet ...</td>\n",
       "      <td>up cousins fed human excreta for friendship wi...</td>\n",
       "      <td>33</td>\n",
       "      <td>9</td>\n",
       "      <td>sostoken Pic of Chinese woman cooking fish on ...</td>\n",
       "      <td>Pic of Chinese woman cooking fish on car bonne...</td>\n",
       "    </tr>\n",
       "  </tbody>\n",
       "</table>\n",
       "</div>"
      ],
      "text/plain": [
       "                                           headlines  \\\n",
       "0  Pune woman accuses ATS officer of thrashing, m...   \n",
       "1  Ghaziabad teachers found missing from duty, sa...   \n",
       "2  Drunk US man who took Ã¢ÂÂ¹1-lakh Uber ride s...   \n",
       "3  8 injured as iron bridge collapses in Maharashtra   \n",
       "4  Pic of Chinese woman cooking fish on car bonne...   \n",
       "\n",
       "                                                text  \\\n",
       "0  woman maharashtra pune alleged sub inspector m...   \n",
       "1  basic education department officials wednesday...   \n",
       "2  drunk us man accidentally took km uber ride we...   \n",
       "3  least eight people injured sunday small iron b...   \n",
       "4  picture chinese woman cooking fish car bonnet ...   \n",
       "\n",
       "                                             summary  num_Text  num_headlines  \\\n",
       "0  new zealand end rohit sharma led india match w...        38              9   \n",
       "1  aegon life iterm insurance plan helps customer...        34              9   \n",
       "2  rahat fateh ali khan denies getting notice for...        34             10   \n",
       "3  cong wins ramgarh bypoll in rajasthan takes to...        34             11   \n",
       "4  up cousins fed human excreta for friendship wi...        33              9   \n",
       "\n",
       "                                           dec_input  \\\n",
       "0  sostoken Pune woman accuses ATS officer of thr...   \n",
       "1  sostoken Ghaziabad teachers found missing from...   \n",
       "2  sostoken Drunk US man who took Ã¢ÂÂ¹1-lakh Ub...   \n",
       "3  sostoken 8 injured as iron bridge collapses in...   \n",
       "4  sostoken Pic of Chinese woman cooking fish on ...   \n",
       "\n",
       "                                          dec_output  \n",
       "0  Pune woman accuses ATS officer of thrashing, m...  \n",
       "1  Ghaziabad teachers found missing from duty, sa...  \n",
       "2  Drunk US man who took Ã¢ÂÂ¹1-lakh Uber ride s...  \n",
       "3  8 injured as iron bridge collapses in Maharash...  \n",
       "4  Pic of Chinese woman cooking fish on car bonne...  "
      ]
     },
     "execution_count": 228,
     "metadata": {},
     "output_type": "execute_result"
    }
   ],
   "source": [
    "data['dec_input'] = data['headlines'].apply(lambda x: 'sostoken ' +x)\n",
    "data['dec_output'] = data['headlines'].apply(lambda x: x+' eostoken')\n",
    "data.head()"
   ]
  },
  {
   "cell_type": "code",
   "execution_count": 229,
   "metadata": {},
   "outputs": [],
   "source": [
    "enc_input = data['text'].values\n",
    "dec_input = data['dec_input'].values\n",
    "dec_output = data['dec_output'].values"
   ]
  },
  {
   "cell_type": "code",
   "execution_count": 230,
   "metadata": {},
   "outputs": [
    {
     "data": {
      "text/plain": [
       "array([31784, 19032, 58922, ..., 18394, 46319, 35329])"
      ]
     },
     "execution_count": 230,
     "metadata": {},
     "output_type": "execute_result"
    }
   ],
   "source": [
    "indices = np.arange(data.shape[0])\n",
    "np.random.shuffle(indices)\n",
    "indices"
   ]
  },
  {
   "cell_type": "code",
   "execution_count": 231,
   "metadata": {},
   "outputs": [],
   "source": [
    "enc_input = enc_input[indices]\n",
    "dec_input = dec_input[indices]\n",
    "dec_output = dec_output[indices]"
   ]
  },
  {
   "cell_type": "code",
   "execution_count": 232,
   "metadata": {},
   "outputs": [
    {
     "data": {
      "text/plain": [
       "(58332, 14583)"
      ]
     },
     "execution_count": 232,
     "metadata": {},
     "output_type": "execute_result"
    }
   ],
   "source": [
    "# ratio train to test\n",
    "r = int(enc_input.shape[0] * 0.8)\n",
    "\n",
    "enc_input_train = enc_input[:r]\n",
    "dec_input_train = dec_input[:r]\n",
    "dec_output_train = dec_output[:r]\n",
    "\n",
    "enc_input_test = enc_input[r:]\n",
    "dec_input_test = dec_input[r:]\n",
    "dec_output_test = dec_output[r:]\n",
    "\n",
    "r, r//4"
   ]
  },
  {
   "cell_type": "code",
   "execution_count": 233,
   "metadata": {},
   "outputs": [
    {
     "data": {
      "text/plain": [
       "59538"
      ]
     },
     "execution_count": 233,
     "metadata": {},
     "output_type": "execute_result"
    }
   ],
   "source": [
    "src_tokenizer = Tokenizer()\n",
    "src_tokenizer.fit_on_texts(enc_input_train)\n",
    "\n",
    "len(src_tokenizer.word_index)"
   ]
  },
  {
   "cell_type": "code",
   "execution_count": 234,
   "metadata": {},
   "outputs": [
    {
     "name": "stdout",
     "output_type": "stream",
     "text": [
      "('patparganj', 1)\n",
      "('freak', 5)\n",
      "('contrado', 1)\n",
      "('hairy', 3)\n",
      "('spotty', 2)\n",
      "('bum', 1)\n",
      "('displacing', 5)\n",
      "('oskar', 3)\n",
      "('gr', 3)\n",
      "('ning', 2)\n",
      "('bookkeeper', 2)\n",
      "('resonate', 2)\n",
      "('puzhal', 2)\n",
      "('pulp', 3)\n",
      "('solidified', 5)\n",
      "('mould', 6)\n",
      "('claudio', 4)\n",
      "('marchisio', 3)\n",
      "('turin', 6)\n",
      "('anis', 2)\n",
      "('deceitfully', 2)\n",
      "\n",
      "희소한 단어 비율: 68.42%\n",
      "희소한 단어 빈도수 비율: 4.19%\n"
     ]
    }
   ],
   "source": [
    "threshold = 6\n",
    "rare_cnt = 0\n",
    "rare_freq = 0\n",
    "freq = 0\n",
    "print_cnt = 0\n",
    "\n",
    "for key, value in src_tokenizer.word_counts.items():\n",
    "    freq += value\n",
    "\n",
    "    if value <= threshold:\n",
    "        rare_cnt += 1\n",
    "        rare_freq += value\n",
    "    \n",
    "    if value <= threshold and print_cnt <= 20:\n",
    "        print_cnt += 1\n",
    "        print((key, value))\n",
    "\n",
    "ratio_rare_all = rare_cnt/len(src_tokenizer.word_index)\n",
    "\n",
    "print()\n",
    "print('희소한 단어 비율: {:0.2f}%'.format(ratio_rare_all*100))\n",
    "print('희소한 단어 빈도수 비율: {:0.2f}%'.format(rare_freq/freq*100))"
   ]
  },
  {
   "cell_type": "code",
   "execution_count": 235,
   "metadata": {},
   "outputs": [
    {
     "data": {
      "text/plain": [
       "18803"
      ]
     },
     "execution_count": 235,
     "metadata": {},
     "output_type": "execute_result"
    }
   ],
   "source": [
    "# reduce token size\n",
    "len(src_tokenizer.word_index) - int(len(src_tokenizer.word_index)*ratio_rare_all)"
   ]
  },
  {
   "cell_type": "code",
   "execution_count": 236,
   "metadata": {},
   "outputs": [
    {
     "data": {
      "text/plain": [
       "59538"
      ]
     },
     "execution_count": 236,
     "metadata": {},
     "output_type": "execute_result"
    }
   ],
   "source": [
    "src_vocab_size = 18796\n",
    "\n",
    "src_tokenizer = Tokenizer(num_words=src_vocab_size)\n",
    "src_tokenizer.fit_on_texts(enc_input_train)\n",
    "\n",
    "# this value is still same after we give it the number of words; but tokenizer works good\n",
    "len(src_tokenizer.word_docs)"
   ]
  },
  {
   "cell_type": "code",
   "execution_count": 237,
   "metadata": {},
   "outputs": [],
   "source": [
    "enc_input_train = src_tokenizer.texts_to_sequences(enc_input_train)\n",
    "enc_input_test = src_tokenizer.texts_to_sequences(enc_input_test)"
   ]
  },
  {
   "cell_type": "code",
   "execution_count": 238,
   "metadata": {},
   "outputs": [
    {
     "data": {
      "text/plain": [
       "35539"
      ]
     },
     "execution_count": 238,
     "metadata": {},
     "output_type": "execute_result"
    }
   ],
   "source": [
    "tar_tokenizer = Tokenizer()\n",
    "tar_tokenizer.fit_on_texts(dec_input_train)\n",
    "\n",
    "len(tar_tokenizer.word_index)"
   ]
  },
  {
   "cell_type": "code",
   "execution_count": 239,
   "metadata": {},
   "outputs": [
    {
     "name": "stdout",
     "output_type": "stream",
     "text": [
      "('525', 3)\n",
      "('syringes', 2)\n",
      "('iitian', 2)\n",
      "('freak', 1)\n",
      "(\"'hairy\", 1)\n",
      "(\"leggings'\", 1)\n",
      "('grid', 3)\n",
      "('races', 4)\n",
      "('stationery', 1)\n",
      "('25yrs', 3)\n",
      "(\"'pehredaar\", 4)\n",
      "('piya', 5)\n",
      "(\"ki'\", 3)\n",
      "('kingpin', 1)\n",
      "('tripathi', 3)\n",
      "('mutilate', 1)\n",
      "(\"spy's\", 3)\n",
      "('kishor', 2)\n",
      "('afg', 3)\n",
      "('payload', 1)\n",
      "('bins', 3)\n",
      "\n",
      "희소한 단어 비율: 72.96%\n",
      "희소한 단어 빈도수 비율: 7.44%\n"
     ]
    }
   ],
   "source": [
    "threshold = 5\n",
    "rare_cnt = 0\n",
    "rare_freq = 0\n",
    "freq = 0\n",
    "print_cnt = 0\n",
    "\n",
    "for key, value in tar_tokenizer.word_counts.items():\n",
    "    freq += value\n",
    "\n",
    "    if value <= threshold:\n",
    "        rare_cnt += 1\n",
    "        rare_freq += value\n",
    "    \n",
    "    if value <= threshold and print_cnt <= 20:\n",
    "        print_cnt += 1\n",
    "        print((key, value))\n",
    "\n",
    "ratio_rare_all = rare_cnt/len(tar_tokenizer.word_index)\n",
    "\n",
    "print()\n",
    "print('희소한 단어 비율: {:0.2f}%'.format(ratio_rare_all*100))\n",
    "print('희소한 단어 빈도수 비율: {:0.2f}%'.format(rare_freq/freq*100))"
   ]
  },
  {
   "cell_type": "code",
   "execution_count": 240,
   "metadata": {},
   "outputs": [
    {
     "data": {
      "text/plain": [
       "9608"
      ]
     },
     "execution_count": 240,
     "metadata": {},
     "output_type": "execute_result"
    }
   ],
   "source": [
    "# reduce token size\n",
    "len(tar_tokenizer.word_index) - int(len(tar_tokenizer.word_index)*ratio_rare_all)"
   ]
  },
  {
   "cell_type": "code",
   "execution_count": 241,
   "metadata": {},
   "outputs": [],
   "source": [
    "# fit_on_texts; input and output\n",
    "tar_vocab_size = 9583\n",
    "\n",
    "tar_tokenizer = Tokenizer(num_words=tar_vocab_size)\n",
    "tar_tokenizer.fit_on_texts(dec_input_train)\n",
    "tar_tokenizer.fit_on_texts(dec_output_train)\n",
    "\n",
    "dec_input_train = tar_tokenizer.texts_to_sequences(dec_input_train)\n",
    "dec_input_test = tar_tokenizer.texts_to_sequences(dec_input_test)\n",
    "\n",
    "dec_output_train = tar_tokenizer.texts_to_sequences(dec_output_train)\n",
    "dec_output_test = tar_tokenizer.texts_to_sequences(dec_output_test)\n"
   ]
  },
  {
   "cell_type": "code",
   "execution_count": 242,
   "metadata": {},
   "outputs": [
    {
     "data": {
      "text/plain": [
       "[1, 3550, 290, 270, 602, 6, 25, 3, 7, 5624]"
      ]
     },
     "execution_count": 242,
     "metadata": {},
     "output_type": "execute_result"
    }
   ],
   "source": [
    "dec_input_train[0]"
   ]
  },
  {
   "cell_type": "code",
   "execution_count": 243,
   "metadata": {},
   "outputs": [],
   "source": [
    "enc_input_train = pad_sequences(enc_input_train, maxlen=text_max_len, padding='post')\n",
    "enc_input_test = pad_sequences(enc_input_test, maxlen=text_max_len, padding='post')\n",
    "dec_input_train = pad_sequences(dec_input_train, maxlen=summary_max_len, padding='post')\n",
    "dec_output_train = pad_sequences(dec_output_train, maxlen=summary_max_len, padding='post')\n",
    "dec_input_test = pad_sequences(dec_input_test, maxlen=summary_max_len, padding='post')\n",
    "dec_output_test = pad_sequences(dec_output_test, maxlen=summary_max_len, padding='post')"
   ]
  },
  {
   "cell_type": "code",
   "execution_count": 245,
   "metadata": {},
   "outputs": [],
   "source": [
    "# 인코더 설계 시작\n",
    "embedding_dim = 128\n",
    "hidden_size = 256\n",
    "\n",
    "# 인코더\n",
    "encoder_inputs = Input(shape=(text_max_len,))\n",
    "\n",
    "# 인코더의 임베딩 층\n",
    "enc_emb = Embedding(src_vocab_size, embedding_dim)(encoder_inputs)\n",
    "\n",
    "# 인코더의 LSTM 1\n",
    "# encoder_lstm1 = LSTM(hidden_size, return_sequences=True, return_state=True ,dropout = 0.4, recurrent_dropout = 0.4)\n",
    "encoder_lstm1 = LSTM(hidden_size, return_sequences=True, return_state=True ,dropout = 0.4)\n",
    "encoder_output1, state_h1, state_c1 = encoder_lstm1(enc_emb)\n",
    "\n",
    "# 인코더의 LSTM 2\n",
    "# encoder_lstm2 = LSTM(hidden_size, return_sequences=True, return_state=True, dropout=0.4, recurrent_dropout=0.4)\n",
    "encoder_lstm2 = LSTM(hidden_size, return_sequences=True, return_state=True, dropout=0.4)\n",
    "encoder_output2, state_h2, state_c2 = encoder_lstm2(encoder_output1)\n",
    "\n",
    "# 인코더의 LSTM 3\n",
    "# encoder_lstm3 = LSTM(hidden_size, return_state=True, return_sequences=True, dropout=0.4, recurrent_dropout=0.4)\n",
    "encoder_lstm3 = LSTM(hidden_size, return_state=True, return_sequences=True, dropout=0.4)\n",
    "encoder_outputs, state_h, state_c= encoder_lstm3(encoder_output2)"
   ]
  },
  {
   "cell_type": "code",
   "execution_count": 246,
   "metadata": {},
   "outputs": [],
   "source": [
    "# 디코더 설계\n",
    "decoder_inputs = Input(shape=(None,))\n",
    "\n",
    "# 디코더의 임베딩 층\n",
    "dec_emb_layer = Embedding(tar_vocab_size, embedding_dim)\n",
    "dec_emb = dec_emb_layer(decoder_inputs)\n",
    "\n",
    "# 디코더의 LSTM\n",
    "# decoder_lstm = LSTM(hidden_size, return_sequences=True, return_state=True, dropout=0.4, recurrent_dropout=0.2)\n",
    "decoder_lstm = LSTM(hidden_size, return_sequences=True, return_state=True, dropout=0.4)\n",
    "decoder_outputs, _, _ = decoder_lstm(dec_emb, initial_state=[state_h, state_c])"
   ]
  },
  {
   "cell_type": "markdown",
   "metadata": {},
   "source": [
    "### Attention Module\n",
    "---"
   ]
  },
  {
   "cell_type": "code",
   "execution_count": 247,
   "metadata": {},
   "outputs": [
    {
     "name": "stdout",
     "output_type": "stream",
     "text": [
      "Model: \"model_11\"\n",
      "__________________________________________________________________________________________________\n",
      "Layer (type)                    Output Shape         Param #     Connected to                     \n",
      "==================================================================================================\n",
      "input_16 (InputLayer)           [(None, 38)]         0                                            \n",
      "__________________________________________________________________________________________________\n",
      "embedding_6 (Embedding)         (None, 38, 128)      2405888     input_16[0][0]                   \n",
      "__________________________________________________________________________________________________\n",
      "lstm_12 (LSTM)                  [(None, 38, 256), (N 394240      embedding_6[0][0]                \n",
      "__________________________________________________________________________________________________\n",
      "input_17 (InputLayer)           [(None, None)]       0                                            \n",
      "__________________________________________________________________________________________________\n",
      "lstm_13 (LSTM)                  [(None, 38, 256), (N 525312      lstm_12[0][0]                    \n",
      "__________________________________________________________________________________________________\n",
      "embedding_7 (Embedding)         (None, None, 128)    1226624     input_17[0][0]                   \n",
      "__________________________________________________________________________________________________\n",
      "lstm_14 (LSTM)                  [(None, 38, 256), (N 525312      lstm_13[0][0]                    \n",
      "__________________________________________________________________________________________________\n",
      "lstm_15 (LSTM)                  [(None, None, 256),  394240      embedding_7[0][0]                \n",
      "                                                                 lstm_14[0][1]                    \n",
      "                                                                 lstm_14[0][2]                    \n",
      "__________________________________________________________________________________________________\n",
      "attention_layer (AdditiveAttent (None, None, 256)    256         lstm_15[0][0]                    \n",
      "                                                                 lstm_14[0][0]                    \n",
      "__________________________________________________________________________________________________\n",
      "concat_layer (Concatenate)      (None, None, 512)    0           lstm_15[0][0]                    \n",
      "                                                                 attention_layer[0][0]            \n",
      "__________________________________________________________________________________________________\n",
      "dense_5 (Dense)                 (None, None, 9583)   4916079     concat_layer[0][0]               \n",
      "==================================================================================================\n",
      "Total params: 10,387,951\n",
      "Trainable params: 10,387,951\n",
      "Non-trainable params: 0\n",
      "__________________________________________________________________________________________________\n"
     ]
    }
   ],
   "source": [
    "from tensorflow.keras.layers import AdditiveAttention\n",
    "\n",
    "# 어텐션 층(어텐션 함수)\n",
    "attn_layer = AdditiveAttention(name='attention_layer')\n",
    "\n",
    "# 인코더와 디코더의 모든 time step의 hidden state를 어텐션 층에 전달하고 결과를 리턴\n",
    "attn_out = attn_layer([decoder_outputs, encoder_outputs])\n",
    "\n",
    "\n",
    "# 어텐션의 결과와 디코더의 hidden state들을 연결\n",
    "decoder_concat_input = Concatenate(axis=-1, name='concat_layer')([decoder_outputs, attn_out])\n",
    "\n",
    "# 디코더의 출력층\n",
    "decoder_softmax_layer = Dense(tar_vocab_size, activation='softmax')\n",
    "decoder_softmax_outputs = decoder_softmax_layer(decoder_concat_input)\n",
    "\n",
    "# 모델 정의\n",
    "model = Model([encoder_inputs, decoder_inputs], decoder_softmax_outputs)\n",
    "model.summary()"
   ]
  },
  {
   "cell_type": "code",
   "execution_count": 248,
   "metadata": {},
   "outputs": [
    {
     "name": "stdout",
     "output_type": "stream",
     "text": [
      "Epoch 1/50\n",
      "228/228 [==============================] - 22s 76ms/step - loss: 6.7439 - val_loss: 6.3640\n",
      "Epoch 2/50\n",
      "228/228 [==============================] - 17s 73ms/step - loss: 6.2880 - val_loss: 6.1731\n",
      "Epoch 3/50\n",
      "228/228 [==============================] - 17s 74ms/step - loss: 6.0505 - val_loss: 5.9479\n",
      "Epoch 4/50\n",
      "228/228 [==============================] - 17s 75ms/step - loss: 5.7278 - val_loss: 5.5998\n",
      "Epoch 5/50\n",
      "228/228 [==============================] - 17s 77ms/step - loss: 5.3341 - val_loss: 5.2992\n",
      "Epoch 6/50\n",
      "228/228 [==============================] - 17s 77ms/step - loss: 4.9790 - val_loss: 5.0661\n",
      "Epoch 7/50\n",
      "228/228 [==============================] - 17s 76ms/step - loss: 4.6865 - val_loss: 4.9193\n",
      "Epoch 8/50\n",
      "228/228 [==============================] - 17s 76ms/step - loss: 4.4420 - val_loss: 4.8070\n",
      "Epoch 9/50\n",
      "228/228 [==============================] - 17s 76ms/step - loss: 4.2254 - val_loss: 4.7363\n",
      "Epoch 10/50\n",
      "228/228 [==============================] - 17s 76ms/step - loss: 4.0311 - val_loss: 4.6861\n",
      "Epoch 11/50\n",
      "228/228 [==============================] - 17s 76ms/step - loss: 3.8572 - val_loss: 4.6461\n",
      "Epoch 12/50\n",
      "228/228 [==============================] - 17s 76ms/step - loss: 3.6975 - val_loss: 4.6246\n",
      "Epoch 13/50\n",
      "228/228 [==============================] - 17s 76ms/step - loss: 3.5514 - val_loss: 4.6051\n",
      "Epoch 14/50\n",
      "228/228 [==============================] - 17s 76ms/step - loss: 3.4156 - val_loss: 4.5972\n",
      "Epoch 15/50\n",
      "228/228 [==============================] - 17s 76ms/step - loss: 3.2927 - val_loss: 4.6002\n",
      "Epoch 16/50\n",
      "228/228 [==============================] - 17s 76ms/step - loss: 3.1765 - val_loss: 4.6070\n",
      "Epoch 00016: early stopping\n"
     ]
    }
   ],
   "source": [
    "model.compile(optimizer='adam', loss='sparse_categorical_crossentropy')\n",
    "es = EarlyStopping(monitor='val_loss', patience=2, verbose=1)\n",
    "history = model.fit(x=[enc_input_train, dec_input_train], y=dec_output_train, \\\n",
    "        validation_data=([enc_input_test, dec_input_test], dec_output_test), \\\n",
    "        batch_size=256, callbacks=[es], epochs=50)"
   ]
  },
  {
   "cell_type": "code",
   "execution_count": 249,
   "metadata": {},
   "outputs": [
    {
     "data": {
      "image/png": "[encoded data removed]",
      "text/plain": [
       "<Figure size 576x576 with 1 Axes>"
      ]
     },
     "metadata": {
      "needs_background": "light"
     },
     "output_type": "display_data"
    }
   ],
   "source": [
    "plt.figure(figsize=(8, 8))\n",
    "\n",
    "plt.plot(history.history['loss'], label='train')\n",
    "plt.plot(history.history['val_loss'], label='test')\n",
    "plt.grid(True)\n",
    "plt.legend()\n",
    "plt.show()"
   ]
  },
  {
   "cell_type": "markdown",
   "metadata": {},
   "source": [
    "### Abstract Summary\n",
    "___"
   ]
  },
  {
   "cell_type": "code",
   "execution_count": 250,
   "metadata": {},
   "outputs": [],
   "source": [
    "src_index_to_word = src_tokenizer.index_word # 원문 단어 집합에서 정수 -> 단어를 얻음\n",
    "tar_word_to_index = tar_tokenizer.word_index # 요약 단어 집합에서 단어 -> 정수를 얻음\n",
    "tar_index_to_word = tar_tokenizer.index_word # 요약 단어 집합에서 정수 -> 단어를 얻음"
   ]
  },
  {
   "cell_type": "code",
   "execution_count": 251,
   "metadata": {},
   "outputs": [],
   "source": [
    "# 인코더 설계\n",
    "encoder_model = Model(inputs=encoder_inputs, outputs=[encoder_outputs, state_h, state_c])\n",
    "\n",
    "# 이전 시점의 상태들을 저장하는 텐서\n",
    "decoder_state_input_h = Input(shape=(hidden_size,))\n",
    "decoder_state_input_c = Input(shape=(hidden_size,))\n",
    "\n",
    "dec_emb2 = dec_emb_layer(decoder_inputs)\n",
    "\n",
    "# 문장의 다음 단어를 예측하기 위해서 초기 상태(initial_state)를 이전 시점의 상태로 사용. 이는 뒤의 함수 decode_sequence()에 구현\n",
    "# 훈련 과정에서와 달리 LSTM의 리턴하는 은닉 상태와 셀 상태인 state_h와 state_c를 버리지 않음.\n",
    "decoder_outputs2, state_h2, state_c2 = decoder_lstm(dec_emb2, initial_state=[decoder_state_input_h, decoder_state_input_c])"
   ]
  },
  {
   "cell_type": "code",
   "execution_count": 252,
   "metadata": {},
   "outputs": [],
   "source": [
    "# 어텐션 함수\n",
    "decoder_hidden_state_input = Input(shape=(text_max_len, hidden_size))\n",
    "attn_out_inf = attn_layer([decoder_outputs2, decoder_hidden_state_input])\n",
    "decoder_inf_concat = Concatenate(axis=-1, name='concat')([decoder_outputs2, attn_out_inf])\n",
    "\n",
    "# 디코더의 출력층\n",
    "decoder_outputs2 = decoder_softmax_layer(decoder_inf_concat) \n",
    "\n",
    "# 최종 디코더 모델\n",
    "decoder_model = Model(\n",
    "    [decoder_inputs] + [decoder_hidden_state_input,decoder_state_input_h, decoder_state_input_c],\n",
    "    [decoder_outputs2] + [state_h2, state_c2])"
   ]
  },
  {
   "cell_type": "code",
   "execution_count": 253,
   "metadata": {},
   "outputs": [],
   "source": [
    "def decode_sequence(input_seq):\n",
    "    # 입력으로부터 인코더의 상태를 얻음\n",
    "    e_out, e_h, e_c = encoder_model.predict(input_seq)\n",
    "\n",
    "     # <SOS>에 해당하는 토큰 생성\n",
    "    target_seq = np.zeros((1,1))\n",
    "    target_seq[0, 0] = tar_word_to_index['sostoken']\n",
    "\n",
    "    stop_condition = False\n",
    "    decoded_sentence = ''\n",
    "    while not stop_condition: # stop_condition이 True가 될 때까지 루프 반복\n",
    "\n",
    "        output_tokens, h, c = decoder_model.predict([target_seq] + [e_out, e_h, e_c])\n",
    "        sampled_token_index = np.argmax(output_tokens[0, -1, :])\n",
    "        sampled_token = tar_index_to_word[sampled_token_index]\n",
    "\n",
    "        if (sampled_token!='eostoken'):\n",
    "            decoded_sentence += ' '+sampled_token\n",
    "\n",
    "        #  <eos>에 도달하거나 최대 길이를 넘으면 중단.\n",
    "        if (sampled_token == 'eostoken'  or len(decoded_sentence.split()) >= (summary_max_len-1)):\n",
    "            stop_condition = True\n",
    "\n",
    "        # 길이가 1인 타겟 시퀀스를 업데이트\n",
    "        target_seq = np.zeros((1,1))\n",
    "        target_seq[0, 0] = sampled_token_index\n",
    "\n",
    "        # 상태를 업데이트 합니다.\n",
    "        e_h, e_c = h, c\n",
    "\n",
    "    return decoded_sentence"
   ]
  },
  {
   "cell_type": "code",
   "execution_count": 254,
   "metadata": {},
   "outputs": [],
   "source": [
    "# 원문의 정수 시퀀스를 텍스트 시퀀스로 변환\n",
    "def seq2text(input_seq):\n",
    "    temp=''\n",
    "    for i in input_seq:\n",
    "        if (i!=0):\n",
    "            temp = temp + src_index_to_word[i]+' '\n",
    "    return temp\n",
    "\n",
    "# 요약문의 정수 시퀀스를 텍스트 시퀀스로 변환\n",
    "def seq2summary(input_seq):\n",
    "    temp=''\n",
    "    for i in input_seq:\n",
    "        if ((i!=0 and i!=tar_word_to_index['sostoken']) and i!=tar_word_to_index['eostoken']):\n",
    "            temp = temp + tar_index_to_word[i] + ' '\n",
    "    return temp"
   ]
  },
  {
   "cell_type": "code",
   "execution_count": 255,
   "metadata": {},
   "outputs": [
    {
     "name": "stdout",
     "output_type": "stream",
     "text": [
      "원문 : nawazuddin siddiqui said surprised approached portray shiv sena founder bal thackeray biopic titled thackeray extremely happy bollywood want play role came added nawazuddin said actor role worth playing \n",
      "실제 요약 : was surprised when i was offered role siddiqui \n",
      "예측 요약 :  nawazuddin siddiqui to play in biopic\n",
      "\n",
      "\n",
      "원문 : sonu ke titu ki sweety actress nushrat said money concern priority quantity matter would like portray something would challenge actor added nushrat reportedly offered crore south indian film refused felt role strong enough \n",
      "실제 요약 : a priority for me ke ki ' actress \n",
      "예측 요약 :  sonu nigam sonu shaves sonu to sonu\n",
      "\n",
      "\n",
      "원문 : commerce giant amazon ceo jeff bezos said amazon directly created lakh jobs including people company absorbed acquired companies entire workforce google parent alphabet employees end amazon global employee base lakh \n",
      "실제 요약 : added more jobs in than google parent's workforce \n",
      "예측 요약 :  amazon to sell for investing in healthcare\n",
      "\n",
      "\n"
     ]
    }
   ],
   "source": [
    "for i in range(3):\n",
    "    print(\"원문 :\", seq2text(enc_input_test[i]))\n",
    "    print(\"실제 요약 :\", seq2summary(dec_input_test[i]))\n",
    "    print(\"예측 요약 :\", decode_sequence(enc_input_test[i].reshape(1, text_max_len)))\n",
    "    print(\"\\n\")"
   ]
  },
  {
   "cell_type": "markdown",
   "metadata": {},
   "source": [
    "### Extract Summary & Final result\n",
    "___"
   ]
  },
  {
   "cell_type": "code",
   "execution_count": 260,
   "metadata": {},
   "outputs": [
    {
     "name": "stdout",
     "output_type": "stream",
     "text": [
      "원문 : union minister nitin gadkari said considering pace work getting completed hopeful river ganga completely clean march added difficult task complete said projects namami gange programme worth crore nearing completion\n",
      "실제 요약 : Hopeful river Ganga will be totally clean by 2020: Gadkari\n",
      "예측 요약 :  nawazuddin siddiqui to play in biopic\n",
      "추출 요약 : \n",
      "\n",
      "\n",
      "원문 : finance minister arun jaitley monday said would appropriate congress chief rahul gandhi asked right question namely killed investigation death sohrabuddin sheikh cbi court acquitted accused sohrabuddin case gandhi tweeted one killed kauser bi sohrabuddin shiekh died\n",
      "실제 요약 : Rahul should ask who killed Sohrabuddin probe: Jaitley\n",
      "예측 요약 :  sonu nigam sonu shaves sonu to sonu\n",
      "추출 요약 : \n",
      "\n",
      "\n",
      "원문 : billy monger year old driver formula legs amputated high speed crash back finnish driver patrik pasma donington park sunday formula one drivers including lewis hamilton jenson button come forward help raise money treatment care year old\n",
      "실제 요약 : 17-year-old driver loses both legs after crash in Formula 4\n",
      "예측 요약 :  amazon to sell for investing in healthcare\n",
      "추출 요약 : \n",
      "\n",
      "\n"
     ]
    }
   ],
   "source": [
    "# now put in two suammary in seires\n",
    "data = pd.read_csv\n",
    "data['text'] = data['text'].values[indices]\n",
    "data['headlines'] = data['headlines'].values[indices]\n",
    "\n",
    "for i in range(3):\n",
    "    text = data['text'][r+i]\n",
    "\n",
    "    print(\"원문 :\", text)\n",
    "    print(\"실제 요약 :\", data['headlines'][r+i])\n",
    "    print(\"예측 요약 :\", decode_sequence(enc_input_test[i].reshape(1, text_max_len)))\n",
    "    print(\"추출 요약 :\", summarize(text, ratio=0.5))\n",
    "    print('\\n')"
   ]
  },
  {
   "cell_type": "code",
   "execution_count": null,
   "metadata": {},
   "outputs": [],
   "source": []
  },
  {
   "cell_type": "code",
   "execution_count": null,
   "metadata": {},
   "outputs": [
    {
     "name": "stdout",
     "output_type": "stream",
     "text": [
      "['north korea removed anti us sold gift shops improvement relations two countries according reports included stamps posters among others replaced items focused positive themes reports added north korea selling spread propaganda us']\n"
     ]
    },
    {
     "data": {
      "text/plain": [
       "'The US government on Friday said that there has been no change in law regarding the H-1B visa system and it continues to be the same as before. \"President (Donald) Trump asked for review of the H-1B system. But so far no legislation has been passed on H-1B,\" the government added. The work visa is popular among Indian IT professionals.'"
      ]
     },
     "execution_count": 106,
     "metadata": {},
     "output_type": "execute_result"
    }
   ],
   "source": [
    "print(src_tokenizer.sequences_to_texts(enc_input_test[0].reshape(1, text_max_len)))\n",
    "data['text'][r]"
   ]
  },
  {
   "cell_type": "markdown",
   "metadata": {},
   "source": [
    "___\n",
    "___\n",
    "# 회고 \n",
    "## 내용 요약\n",
    "### 텍스트 요약기\n",
    "### 요약 방식  \n",
    "#### Extractive summarization; 추출적 요약  \n",
    "---  \n",
    "  \n",
    "_원문의 문장을 그대로 추출하는 것으로 요약하는 방식._  \n",
    "  \n",
    "핵심 문장임을 Binary Classification; 분류 라고 볼 수 있다.  \n",
    "텍스트 랭크; textrank와 같은 알고리즘을 사용하며 포털 사이트 네이버 기사에서 요약봇을 통해 확인할 수 있다.  \n",
    "  \n",
    "단점 : 문단의 문장을 그대로 추출하기 때문에 문장 간 상호연결이 어색하다.  \n",
    "  \n",
    "```  \n",
    "from summa.summarizer import summarize  \n",
    "  \n",
    "summarize(text, word=, ratio=, split=)  \n",
    "```  \n",
    "  \n",
    "#### Abstractive summarization; 추상적 요약  \n",
    "---  \n",
    "  \n",
    "_원문의 내용을 토대로 '새로운 내용을 생성'함으로 요약_  \n",
    "  \n",
    "RNN을 이용하여 구현한다.  \n",
    "  \n",
    "Long term dependency; 장기 의존성 을 해결하기 위해서 LSTM을 사용할 것이며  \n",
    "아키텍쳐는 sequence to sequence, 추가로 attention  \n",
    "  \n",
    "### seq2seq  \n",
    "_sequence to sequence_  \n",
    "  \n",
    "---  \n",
    "\n",
    "<img src=\"https://velog.velcdn.com/images/jujemu/post/2dde5c48-d9ad-43be-a2be-a5bbb98850bb/image.png\" width=\"400\" height=\"300\">\n",
    "\n",
    "___출처 : https://arxiv.org/pdf/1812.02303.pdf___\n",
    "  \n",
    "encoder -> context vector -> decoder -> 요약 생성  \n",
    "  \n",
    "encoder의 마지막 time step의 hidden state -> context vector  \n",
    "이 때, context vector는 고정  \n",
    "  \n",
    "__하지만 attention mechanism을 곁들이면__  \n",
    "<img src=\"https://velog.velcdn.com/images/jujemu/post/d2215c0e-23b9-4c2d-bdc5-44e6a32a8176/image.png\" width=\"400\" height=\"300\">\n",
    "\n",
    "___출처 : https://arxiv.org/pdf/1812.02303.pdf___  \n",
    "  \n",
    "encoder의 모든 hidden state가 context vector에 가중곱으로 포함  \n",
    "decoder의 각 예측 마다 가중곱을 달리함  \n",
    "  \n",
    "___don' forget train_dataset into decoder must include token of start and end___  \n",
    "  \n",
    "___훈련 시에 decoder input data를 넣어줌으로 attention 가중곱을 time step을 학습 시킨다. context vector에 따른 출력이 input과 비교함으로 loss 계산을 한다.___  \n",
    "  \n",
    "#### things confused  \n",
    "seq2seq는 모델인가? 아키텍쳐인가? cell로 쓰이는 LSTM은 모델인가?  \n",
    "  \n",
    "### stopwords in NLTK  \n",
    "_natural language toolkit_  \n",
    "  \n",
    "---  \n",
    "  \n",
    "자주 등장하지만 유의미한 토큰을 만드는 것에 기여하지 못하는 단어들  \n",
    "Ex> i me my mine, 조사, 접미사 등  \n",
    "  \n",
    "### text data preprocessing  \n",
    "---  \n",
    "1. text.lower(); 소문자화  \n",
    "2. BeautifulSoup(sentence, \"lxml\").text; html 문구 제거  \n",
    "3. special character process; by regular expression  \n",
    "4. removing from possesive case  \n",
    "5. after preprocessing, we need to check NaN  \n",
    "  \n",
    "### text normalization  \n",
    "---  \n",
    "같은 의미이지만 표기법이 다른 것들을 표기를 통일시키는 것  \n",
    "Ex> I'm -> i am  \n",
    "  \n",
    "  \n",
    "## Additional  \n",
    "### fix random seed  \n",
    "tf.random.set_seed(42)  \n",
    "np.random.seed(42)  \n",
    "\n",
    "\n",
    "## 익스를 통해서\n",
    "___\n",
    "\n",
    "loss 변동을 통해 early stop을 배웠다.\n",
    "유용해 보이지만 초반엔 패러미터를 넉넉하게 설정하여 loss의 절대적인 수준에서 제어할 필요가 있다고 생각한다.\n",
    "머리에 남기기 위해서 본 익스 전에 amazon review는 직접 타이핑 하는 것으로 전반적인 흐름과 각 library를 기억하고자 했다.\n",
    "\n",
    "restart를 하여 지금까지의 cell이 정상 작동하는 과정에서 항상 model 학습에 시간이 너무 먹어\n",
    "pickle과 keras.Model에서 제공하는 save method를 사용했다.\n",
    "일부 저장이 안되는 문제가 있지만, 현재로는 history를 제외한 나머지는 복구할 수 있는 것으로 보인다.\n",
    "\n",
    "## 결과 통찰\n",
    "___\n",
    "### 첫 번째\n",
    "원문 : The US government on Friday said that there has been no change in law regarding the H-1B visa system and it continues to be the same as before. \"President (Donald) Trump asked for review of the H-1B system. But so far no legislation has been passed on H-1B,\" the government added. The work visa is popular among Indian IT professionals.\n",
    "실제 요약 : No change in law for H-1B visa, system remains the same: US\n",
    "예측 요약 :  us imposes funds to boost tariffs\n",
    "추출 요약 : The US government on Friday said that there has been no change in law regarding the H-1B visa system and it continues to be the same as before.\n",
    "But so far no legislation has been passed on H-1B,\" the government added.\n",
    "#### 결과\n",
    "추출 요약의 경우 비율이 절반으로 설정하여 원문을 거의 가져왔음으로 높은 문장력을 보였다. 하지만 예측 요약을 경우에 주체를 정확히 잡았지만 대상이 잘못 잡혀 세금 문제로 오해했다.\n",
    "\n",
    "### 두 번째\n",
    "원문 : Virat Kohli became the fastest batsman to hit 52 international hundreds after slamming his third consecutive Test ton against Sri Lanka on Saturday. Kohli achieved the feat in his 350th innings, surpassing Hashim Amla's record of 378 innings. Kohli also became only the third player after Sachin Tendulkar and Ricky Ponting to hit 11 international hundreds in a year.\n",
    "실제 요약 : Kohli slams 52nd international hundred, fastest to do so\n",
    "예측 요약 :  tweets user on twitter user\n",
    "추출 요약 : Kohli also became only the third player after Sachin Tendulkar and Ricky Ponting to hit 11 international hundreds in a year.\n",
    "#### 결과\n",
    "\n",
    "\n",
    "\n"
   ]
  },
  {
   "cell_type": "code",
   "execution_count": null,
   "metadata": {},
   "outputs": [
    {
     "name": "stdout",
     "output_type": "stream",
     "text": [
      "361\n",
      "424\n"
     ]
    },
    {
     "data": {
      "text/plain": [
       "588"
      ]
     },
     "execution_count": 107,
     "metadata": {},
     "output_type": "execute_result"
    }
   ],
   "source": [
    "# 없는 단어라서 실제로 token에 있는 것인지 확인\n",
    "print(tar_tokenizer.word_index['dhoni'])\n",
    "print(tar_tokenizer.word_counts['dhoni'])\n",
    "\n",
    "tar_tokenizer.word_index['fir']"
   ]
  }
 ],
 "metadata": {
  "kernelspec": {
   "display_name": "Python 3 (ipykernel)",
   "language": "python",
   "name": "python3"
  },
  "language_info": {
   "codemirror_mode": {
    "name": "ipython",
    "version": 3
   },
   "file_extension": ".py",
   "mimetype": "text/x-python",
   "name": "python",
   "nbconvert_exporter": "python",
   "pygments_lexer": "ipython3",
   "version": "3.9.7"
  },
  "orig_nbformat": 4
 },
 "nbformat": 4,
 "nbformat_minor": 2
}
