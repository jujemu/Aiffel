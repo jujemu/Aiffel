{
  "cells": [
    {
      "cell_type": "markdown",
      "metadata": {
        "id": "F9dxbcfv5V0U"
      },
      "source": [
        "<img src='https://upload.wikimedia.org/wikipedia/en/0/0d/American_beauty_soundtrack.jpg' width=50%, height=auto>"
      ]
    },
    {
      "cell_type": "markdown",
      "metadata": {
        "id": "4khaa91k5aAX"
      },
      "source": [
        "# Recommendation Model"
      ]
    },
    {
      "cell_type": "code",
      "execution_count": null,
      "metadata": {
        "colab": {
          "base_uri": "https://localhost:8080/"
        },
        "id": "xXIcCgPdlncz",
        "outputId": "d0fd7d35-b955-47ea-cf31-fdeab333854d"
      },
      "outputs": [
        {
          "name": "stdout",
          "output_type": "stream",
          "text": [
            "Mounted at /content/drive\n"
          ]
        }
      ],
      "source": [
        "from google.colab import drive\n",
        "drive.mount('/content/drive')"
      ]
    },
    {
      "cell_type": "markdown",
      "metadata": {
        "id": "-1C0FK-E5eBK"
      },
      "source": [
        "## 결과만 보기\n",
        "___"
      ]
    },
    {
      "cell_type": "markdown",
      "metadata": {
        "id": "ISSuabl_5V0g"
      },
      "source": [
        "### Top rating #30"
      ]
    },
    {
      "cell_type": "code",
      "execution_count": 118,
      "metadata": {
        "colab": {
          "base_uri": "https://localhost:8080/"
        },
        "id": "aYiqODjy5V0g",
        "outputId": "4f489e18-7d67-4b5d-9440-9896795e86ca"
      },
      "outputs": [
        {
          "output_type": "execute_result",
          "data": {
            "text/plain": [
              "title\n",
              "american beauty                                   3211\n",
              "star wars: episode iv - a new hope                2910\n",
              "star wars: episode v - the empire strikes back    2885\n",
              "star wars: episode vi - return of the jedi        2716\n",
              "saving private ryan                               2561\n",
              "terminator 2: judgment day                        2509\n",
              "silence of the lambs, the                         2498\n",
              "raiders of the lost ark                           2473\n",
              "back to the future                                2460\n",
              "matrix, the                                       2434\n",
              "jurassic park                                     2413\n",
              "sixth sense, the                                  2385\n",
              "fargo                                             2371\n",
              "braveheart                                        2314\n",
              "men in black                                      2297\n",
              "schindler's list                                  2257\n",
              "princess bride, the                               2252\n",
              "shakespeare in love                               2213\n",
              "l.a. confidential                                 2210\n",
              "shawshank redemption, the                         2194\n",
              "godfather, the                                    2167\n",
              "groundhog day                                     2121\n",
              "e.t. the extra-terrestrial                        2102\n",
              "being john malkovich                              2066\n",
              "ghostbusters                                      2051\n",
              "pulp fiction                                      2030\n",
              "forrest gump                                      2022\n",
              "terminator, the                                   2019\n",
              "toy story                                         2000\n",
              "fugitive, the                                     1941\n",
              "Name: counts, dtype: int64"
            ]
          },
          "metadata": {},
          "execution_count": 118
        }
      ],
      "source": [
        "top_rating_movies"
      ]
    },
    {
      "cell_type": "markdown",
      "metadata": {
        "id": "do4cnQsFUlVn"
      },
      "source": [
        "### Configuration of Model Parameters"
      ]
    },
    {
      "cell_type": "code",
      "execution_count": 119,
      "metadata": {
        "colab": {
          "base_uri": "https://localhost:8080/"
        },
        "id": "80-xfVM9U5M1",
        "outputId": "85c3e9c0-ce60-4e29-cfca-71b47b2071d2"
      },
      "outputs": [
        {
          "output_type": "execute_result",
          "data": {
            "text/plain": [
              "{'dtype': numpy.float32,\n",
              " 'factors': 1000,\n",
              " 'iterations': 30000,\n",
              " 'regularization': 0.0001,\n",
              " 'use_gpu': True}"
            ]
          },
          "metadata": {},
          "execution_count": 119
        }
      ],
      "source": [
        "# 조금 걸렸습니다.\n",
        "dict_"
      ]
    },
    {
      "cell_type": "markdown",
      "metadata": {
        "id": "Dy8d9pPRTs_6"
      },
      "source": [
        "### Rating of My Favorite predited by Model"
      ]
    },
    {
      "cell_type": "code",
      "execution_count": 120,
      "metadata": {
        "colab": {
          "base_uri": "https://localhost:8080/",
          "height": 35
        },
        "id": "toBLW7lmTtTK",
        "outputId": "2cb87e89-5ed2-44f0-b69f-8eb422ee4be9"
      },
      "outputs": [
        {
          "output_type": "execute_result",
          "data": {
            "text/plain": [
              "'79.984%'"
            ],
            "application/vnd.google.colaboratory.intrinsic+json": {
              "type": "string"
            }
          },
          "metadata": {},
          "execution_count": 120
        }
      ],
      "source": [
        "# user와 content의 행렬 내적\n",
        "# 내가 좋아하는 영화 Titanic을 모델이 얼마나 좋아하나 예측한 값\n",
        "# 벡터 내적값\n",
        "f\"{np.dot(my_vector_, titanic_vector_)*100:.3f}%\""
      ]
    },
    {
      "cell_type": "markdown",
      "source": [
        "### Recommend Movie from Content seen"
      ],
      "metadata": {
        "id": "yvTfQm_tr4UA"
      }
    },
    {
      "cell_type": "code",
      "source": [
        "# 컨텐츠를 기반으로 추천\n",
        "ls_recem_movie"
      ],
      "metadata": {
        "colab": {
          "base_uri": "https://localhost:8080/"
        },
        "id": "IMf1jLmgr7tv",
        "outputId": "de912deb-b895-4e15-8798-c119ffd7690e"
      },
      "execution_count": 132,
      "outputs": [
        {
          "output_type": "execute_result",
          "data": {
            "text/plain": [
              "['simon sez',\n",
              " 'gay deceivers, the',\n",
              " 'kama sutra: a tale of love',\n",
              " 'associate, the']"
            ]
          },
          "metadata": {},
          "execution_count": 132
        }
      ]
    },
    {
      "cell_type": "markdown",
      "metadata": {
        "id": "sj6Xh50y5vU_"
      },
      "source": [
        "## Path to my Drive"
      ]
    },
    {
      "cell_type": "code",
      "execution_count": 50,
      "metadata": {
        "id": "kU9pzH8v6bfk"
      },
      "outputs": [],
      "source": [
        "path = \"/content/drive/MyDrive/Ex/Ex-15\""
      ]
    },
    {
      "cell_type": "markdown",
      "metadata": {
        "id": "Izf5cLpN5gaY"
      },
      "source": [
        "## Index\n",
        "___\n",
        "\n",
        "\n",
        "\n",
        "1.   항목 추가\n",
        "\n",
        "1.   항목 추가\n",
        "\n",
        "1.   항목 추가\n",
        "2.   항목 추가\n",
        "\n",
        "\n",
        "2.   항목 추가\n",
        "\n",
        "\n",
        "2.   항목 추가\n",
        "\n"
      ]
    },
    {
      "cell_type": "markdown",
      "metadata": {
        "id": "pZsBNu3B5kiN"
      },
      "source": [
        "## Set up"
      ]
    },
    {
      "cell_type": "markdown",
      "metadata": {
        "id": "C756inPWw3aI"
      },
      "source": [
        "### Pip\n",
        "___"
      ]
    },
    {
      "cell_type": "code",
      "execution_count": 51,
      "metadata": {
        "id": "LP3a9L6Fw50Y"
      },
      "outputs": [],
      "source": [
        "%%capture\n",
        "# need to install in colab\n",
        "!pip install implicit"
      ]
    },
    {
      "cell_type": "markdown",
      "metadata": {
        "id": "SzIkwVQY6Dnj"
      },
      "source": [
        "### Import Module\n",
        "___"
      ]
    },
    {
      "cell_type": "code",
      "execution_count": 52,
      "metadata": {
        "id": "ikINNZSC6GWg"
      },
      "outputs": [],
      "source": [
        "import os\n",
        "import sys\n",
        "import pickle\n",
        "import random\n",
        "\n",
        "import pandas as pd\n",
        "import numpy as np\n",
        "\n",
        "import matplotlib as mpl\n",
        "import matplotlib.pyplot as plt\n",
        "import seaborn as sns\n",
        "\n",
        "import warnings\n",
        "\n",
        "import tensorflow as tf"
      ]
    },
    {
      "cell_type": "code",
      "execution_count": 53,
      "metadata": {
        "id": "Kabarl-b5V0q"
      },
      "outputs": [],
      "source": [
        "from scipy.sparse import csr_matrix\n",
        "\n",
        "from implicit.als import AlternatingLeastSquares"
      ]
    },
    {
      "cell_type": "markdown",
      "metadata": {
        "id": "IQkRbLdo5V0r"
      },
      "source": [
        "### Configuration"
      ]
    },
    {
      "cell_type": "code",
      "execution_count": 54,
      "metadata": {
        "id": "clokpeFoC51m"
      },
      "outputs": [],
      "source": [
        "random_seed = 1234\n",
        "\n",
        "random.seed(random_seed)\n",
        "np.random.seed(random_seed)\n",
        "tf.random.set_seed(random_seed)"
      ]
    },
    {
      "cell_type": "code",
      "execution_count": 55,
      "metadata": {
        "id": "16IK6Gp6GVR0"
      },
      "outputs": [],
      "source": [
        "%matplotlib inline\n",
        "\n",
        "plt.style.use('seaborn')\n",
        "mpl.rcParams['figure.figsize'] = (10, 10)\n",
        "# mpl.rcParams['xtick.labelbottom'] = False\n",
        "# mpl.rcParams['ytick.labelleft'] = False\n",
        "mpl.rcParams['axes.grid'] = False\n",
        "mpl.rcParams.update({'figure.autolayout': True})\n",
        "\n",
        "warnings.filterwarnings('ignore')"
      ]
    },
    {
      "cell_type": "code",
      "execution_count": 56,
      "metadata": {
        "id": "q-HBrjlM6WUK"
      },
      "outputs": [],
      "source": [
        "# configuration recommended by implicit library\n",
        "os.environ['OPENBLAS_NUM_THREADS']='1'\n",
        "os.environ['KMP_DUPLICATE_LIB_OK']='True'\n",
        "os.environ['MKL_NUM_THREADS']='1'"
      ]
    },
    {
      "cell_type": "code",
      "execution_count": 57,
      "metadata": {
        "colab": {
          "base_uri": "https://localhost:8080/"
        },
        "id": "iNFBjf0o8Ts9",
        "outputId": "50f37638-4c50-4600-9c36-059c1c269b78"
      },
      "outputs": [
        {
          "output_type": "stream",
          "name": "stdout",
          "text": [
            "1.21.6\n",
            "1.4.1\n",
            "0.5.2\n"
          ]
        }
      ],
      "source": [
        "import numpy as np\n",
        "import scipy\n",
        "import implicit\n",
        "\n",
        "print(np.__version__)\n",
        "print(scipy.__version__)\n",
        "print(implicit.__version__)"
      ]
    },
    {
      "cell_type": "markdown",
      "metadata": {
        "id": "_ExY4SIX5l_a"
      },
      "source": [
        "## Preface\n",
        "___"
      ]
    },
    {
      "cell_type": "markdown",
      "metadata": {
        "id": "JHg9uQWQqE8m"
      },
      "source": [
        "### Recommender system"
      ]
    },
    {
      "cell_type": "markdown",
      "metadata": {
        "id": "CsqI-vypqIby"
      },
      "source": [
        "_What is recommendation system?_\n",
        "> 나와 성향이 비슷한 사람들이 좋아하는 것을 나에게 추천한다.\n",
        "\n",
        "There are __two parts__ of recommendation algorithm.\n",
        "\n",
        "1. Collarative Filtering\n",
        "2. Content-based Filtering"
      ]
    },
    {
      "cell_type": "markdown",
      "metadata": {
        "id": "DBxk_2LK7zNG"
      },
      "source": [
        "### 1. Collarative Filtering\n",
        "_협업 필터링_\n",
        "___\n",
        "\n",
        "<font size=4><b>기존 사용자의 행동 패턴을 분석하여 비슷한 이용자에게 기존 사용자의 패턴대로 추천하는 것.  \n",
        "대표적인 예로 '이 상품을 구매한 사용자가 같이 본 상품'을 들 수 있다.  </b></font>\n",
        "<span style=\"line-height:0.5em\">\n",
        "</br>  \n",
        "대표 알고리즘 \n",
        " - Matrix Factorization  \n",
        " - k-nearest neighbor algorithm; kNN\n",
        "\n",
        "<p>\n",
        "\n",
        "단점 \n",
        " - Cold Start : 신곡과 같은 분석되지 않은 정보로는 추천할 수 없다. \n",
        " - Long tail : 비대칭적으로 쏠린 정보에 의해 사용자들에게 관심이 없는 자료는 분석하기 어려워 충분한 정보를 제공할 수 없다.\n"
      ]
    },
    {
      "cell_type": "markdown",
      "metadata": {
        "id": "NXm2AIms9MG2"
      },
      "source": [
        "### 2. Content-based Filtering\n",
        "_콘텐츠 기반 필터링_\n",
        "___\n",
        "\n",
        "<font size=4> __사용자가 아닌 컨텐츠 자체를 분석하는 것으로 비슷한 결의 콘텐츠를 추천하는 것__  \n",
        "item profile(항목 분석)과 user profile(사용자의 선호도)의 유사성을 측정한 뒤 사용자가 좋아할 만한 컨텐츠를 제공한다.  </font>  \n",
        "<span style=\"line-height:0.5em\">\n",
        "</br>\n",
        "대표 알고리즘 \n",
        " - Clustrering analysis(군집 분석)  \n",
        " - Artificial neural network\n",
        " - tf-dif(term frequency-inverse document frequency)"
      ]
    },
    {
      "cell_type": "markdown",
      "metadata": {
        "id": "McNtETyZEmDu"
      },
      "source": [
        "### Social Issue\n",
        "___\n",
        "\n",
        "___Filter Bubble___\n",
        "\n",
        "추천 시스템이 발전함에 따라서 사용자의 기존 성향대로 편향되게 정보에 노출되는 현상  \n",
        "일반 대중들은 경각심을 가질 필요가 있다고 생각한다.  \n"
      ]
    },
    {
      "cell_type": "markdown",
      "metadata": {
        "id": "H5rbNM3LqJ-o"
      },
      "source": [
        "### Rating Matrix\n",
        "_평가 행렬_  \n",
        "_row : user_  \n",
        "_column : content_   \n",
        "_element : rating_ "
      ]
    },
    {
      "cell_type": "markdown",
      "metadata": {
        "id": "OuAR7lwmrj2Y"
      },
      "source": [
        "#### Matrix Factorization\n",
        "_MF, 행렬분해_  \n",
        "_Collabarative Filtering_\n",
        "\n",
        "</br>\n",
        "<img src='https://velog.velcdn.com/images/jujemu/post/368a6c4e-e050-4c01-bd82-c8ea4dd1c33e/image.png' width=80% height=auto></img>\n",
        "\n",
        "Rating Matrix; ___R___ 을 matrix ___P___,___Q___의 곱으로 표현  \n",
        "각 ___P___와 ___Q___는 ___k___ 차원을 갖는 Feature matrix  \n",
        "___P___ : user  \n",
        "___Q___ : content  \n",
        "\n",
        "<font size=5> _Example_ </font>\n",
        "\n",
        "<img src='https://velog.velcdn.com/images/jujemu/post/3d3d9d95-9734-4d9d-94ba-24533e8ec72a/image.png'></img>\n",
        "\n",
        "_그림 출처 : CuMF_SGD: Fast and Scalable Matrix Factorization(https://arxiv.org/pdf/1610.05838.pdf)_\n"
      ]
    },
    {
      "cell_type": "markdown",
      "metadata": {
        "id": "U5Hks7dmzHOv"
      },
      "source": [
        "#### Compressed Sparse Row Matrix\n",
        "_CSR_\n",
        "_Sparse Matrix_\n",
        "\n",
        "Rating Matrix가 가진 문제점은 모든 user와 모든 content의 정보가 담긴 행렬이라는 점이다.  \n",
        "\n",
        "항의 대부분이 유의미하지 않은 값으로 채워진 이러한 행렬을 ___Sparse Matrx___이라고 한다.\n",
        "\n",
        "_How to make CSR Matrix : https://docs.scipy.org/doc/scipy/reference/generated/scipy.sparse.csr_matrix.html_\n",
        "\n"
      ]
    },
    {
      "cell_type": "markdown",
      "metadata": {
        "id": "s11HaoZ9wtuL"
      },
      "source": [
        "### <font size=5 color='blue'>Today's targeting model\n",
        "___"
      ]
    },
    {
      "cell_type": "markdown",
      "metadata": {
        "id": "h7ZhJ9mAxkX5"
      },
      "source": [
        "행렬분해 모델에서 user, content feature matrix를 적절한 k 차원에서 행렬곱을 실행하여 얻은 행렬에서,  \n",
        "예측된 유저의 컨텐츠 선호도가 실제 유저의 컨텐츠 평가 수치에 가깝게 만드는 것"
      ]
    },
    {
      "cell_type": "markdown",
      "metadata": {
        "id": "DdQW4F9S8o3h"
      },
      "source": [
        "# 참고\n",
        "___"
      ]
    },
    {
      "cell_type": "markdown",
      "metadata": {
        "id": "9RSM0lnL8uHZ"
      },
      "source": [
        "- 컨텐츠 알고리즘의 진화  \n",
        "http://dl.moazine.com/viewer/index.asp?libraryid=9MtJb2T3nzH3yk7c212iu821DPFsY2ECOso0&a_i=8wwot4affaz3r6syx11VOYm2&keyword=&s_i=9#page/4\n",
        "\n",
        "- Collaborative Filtering for Implicit Feedback Datasets  \n",
        "http://yifanhu.net/PUB/cf.pdf\n",
        "\n",
        "- kakao arena; 한국 멜론 음악 관련 정보  \n",
        "https://arena.kakao.com/c/7"
      ]
    },
    {
      "cell_type": "markdown",
      "metadata": {
        "id": "dbGirpK25V08"
      },
      "source": [
        "# 실습"
      ]
    },
    {
      "cell_type": "code",
      "execution_count": 58,
      "metadata": {
        "colab": {
          "base_uri": "https://localhost:8080/",
          "height": 206
        },
        "id": "pQ4sKYFT5V08",
        "outputId": "cb8f3a0a-8fb5-490c-e750-735f22c443c2"
      },
      "outputs": [
        {
          "output_type": "execute_result",
          "data": {
            "text/plain": [
              "   user_id  movie_id  ratings  timestamp\n",
              "0        1      1193        5  978300760\n",
              "1        1       661        3  978302109\n",
              "2        1       914        3  978301968\n",
              "3        1      3408        4  978300275\n",
              "4        1      2355        5  978824291"
            ],
            "text/html": [
              "\n",
              "  <div id=\"df-2c68cbee-6848-4490-bdd2-c590cf2a8ee6\">\n",
              "    <div class=\"colab-df-container\">\n",
              "      <div>\n",
              "<style scoped>\n",
              "    .dataframe tbody tr th:only-of-type {\n",
              "        vertical-align: middle;\n",
              "    }\n",
              "\n",
              "    .dataframe tbody tr th {\n",
              "        vertical-align: top;\n",
              "    }\n",
              "\n",
              "    .dataframe thead th {\n",
              "        text-align: right;\n",
              "    }\n",
              "</style>\n",
              "<table border=\"1\" class=\"dataframe\">\n",
              "  <thead>\n",
              "    <tr style=\"text-align: right;\">\n",
              "      <th></th>\n",
              "      <th>user_id</th>\n",
              "      <th>movie_id</th>\n",
              "      <th>ratings</th>\n",
              "      <th>timestamp</th>\n",
              "    </tr>\n",
              "  </thead>\n",
              "  <tbody>\n",
              "    <tr>\n",
              "      <th>0</th>\n",
              "      <td>1</td>\n",
              "      <td>1193</td>\n",
              "      <td>5</td>\n",
              "      <td>978300760</td>\n",
              "    </tr>\n",
              "    <tr>\n",
              "      <th>1</th>\n",
              "      <td>1</td>\n",
              "      <td>661</td>\n",
              "      <td>3</td>\n",
              "      <td>978302109</td>\n",
              "    </tr>\n",
              "    <tr>\n",
              "      <th>2</th>\n",
              "      <td>1</td>\n",
              "      <td>914</td>\n",
              "      <td>3</td>\n",
              "      <td>978301968</td>\n",
              "    </tr>\n",
              "    <tr>\n",
              "      <th>3</th>\n",
              "      <td>1</td>\n",
              "      <td>3408</td>\n",
              "      <td>4</td>\n",
              "      <td>978300275</td>\n",
              "    </tr>\n",
              "    <tr>\n",
              "      <th>4</th>\n",
              "      <td>1</td>\n",
              "      <td>2355</td>\n",
              "      <td>5</td>\n",
              "      <td>978824291</td>\n",
              "    </tr>\n",
              "  </tbody>\n",
              "</table>\n",
              "</div>\n",
              "      <button class=\"colab-df-convert\" onclick=\"convertToInteractive('df-2c68cbee-6848-4490-bdd2-c590cf2a8ee6')\"\n",
              "              title=\"Convert this dataframe to an interactive table.\"\n",
              "              style=\"display:none;\">\n",
              "        \n",
              "  <svg xmlns=\"http://www.w3.org/2000/svg\" height=\"24px\"viewBox=\"0 0 24 24\"\n",
              "       width=\"24px\">\n",
              "    <path d=\"M0 0h24v24H0V0z\" fill=\"none\"/>\n",
              "    <path d=\"M18.56 5.44l.94 2.06.94-2.06 2.06-.94-2.06-.94-.94-2.06-.94 2.06-2.06.94zm-11 1L8.5 8.5l.94-2.06 2.06-.94-2.06-.94L8.5 2.5l-.94 2.06-2.06.94zm10 10l.94 2.06.94-2.06 2.06-.94-2.06-.94-.94-2.06-.94 2.06-2.06.94z\"/><path d=\"M17.41 7.96l-1.37-1.37c-.4-.4-.92-.59-1.43-.59-.52 0-1.04.2-1.43.59L10.3 9.45l-7.72 7.72c-.78.78-.78 2.05 0 2.83L4 21.41c.39.39.9.59 1.41.59.51 0 1.02-.2 1.41-.59l7.78-7.78 2.81-2.81c.8-.78.8-2.07 0-2.86zM5.41 20L4 18.59l7.72-7.72 1.47 1.35L5.41 20z\"/>\n",
              "  </svg>\n",
              "      </button>\n",
              "      \n",
              "  <style>\n",
              "    .colab-df-container {\n",
              "      display:flex;\n",
              "      flex-wrap:wrap;\n",
              "      gap: 12px;\n",
              "    }\n",
              "\n",
              "    .colab-df-convert {\n",
              "      background-color: #E8F0FE;\n",
              "      border: none;\n",
              "      border-radius: 50%;\n",
              "      cursor: pointer;\n",
              "      display: none;\n",
              "      fill: #1967D2;\n",
              "      height: 32px;\n",
              "      padding: 0 0 0 0;\n",
              "      width: 32px;\n",
              "    }\n",
              "\n",
              "    .colab-df-convert:hover {\n",
              "      background-color: #E2EBFA;\n",
              "      box-shadow: 0px 1px 2px rgba(60, 64, 67, 0.3), 0px 1px 3px 1px rgba(60, 64, 67, 0.15);\n",
              "      fill: #174EA6;\n",
              "    }\n",
              "\n",
              "    [theme=dark] .colab-df-convert {\n",
              "      background-color: #3B4455;\n",
              "      fill: #D2E3FC;\n",
              "    }\n",
              "\n",
              "    [theme=dark] .colab-df-convert:hover {\n",
              "      background-color: #434B5C;\n",
              "      box-shadow: 0px 1px 3px 1px rgba(0, 0, 0, 0.15);\n",
              "      filter: drop-shadow(0px 1px 2px rgba(0, 0, 0, 0.3));\n",
              "      fill: #FFFFFF;\n",
              "    }\n",
              "  </style>\n",
              "\n",
              "      <script>\n",
              "        const buttonEl =\n",
              "          document.querySelector('#df-2c68cbee-6848-4490-bdd2-c590cf2a8ee6 button.colab-df-convert');\n",
              "        buttonEl.style.display =\n",
              "          google.colab.kernel.accessAllowed ? 'block' : 'none';\n",
              "\n",
              "        async function convertToInteractive(key) {\n",
              "          const element = document.querySelector('#df-2c68cbee-6848-4490-bdd2-c590cf2a8ee6');\n",
              "          const dataTable =\n",
              "            await google.colab.kernel.invokeFunction('convertToInteractive',\n",
              "                                                     [key], {});\n",
              "          if (!dataTable) return;\n",
              "\n",
              "          const docLinkHtml = 'Like what you see? Visit the ' +\n",
              "            '<a target=\"_blank\" href=https://colab.research.google.com/notebooks/data_table.ipynb>data table notebook</a>'\n",
              "            + ' to learn more about interactive tables.';\n",
              "          element.innerHTML = '';\n",
              "          dataTable['output_type'] = 'display_data';\n",
              "          await google.colab.output.renderOutput(dataTable, element);\n",
              "          const docLink = document.createElement('div');\n",
              "          docLink.innerHTML = docLinkHtml;\n",
              "          element.appendChild(docLink);\n",
              "        }\n",
              "      </script>\n",
              "    </div>\n",
              "  </div>\n",
              "  "
            ]
          },
          "metadata": {},
          "execution_count": 58
        }
      ],
      "source": [
        "rating_file_path = path + '/ml-1m/ratings.dat'\n",
        "ratings_cols = ['user_id', 'movie_id', 'ratings', 'timestamp']\n",
        "ratings = pd.read_csv(rating_file_path, sep='::', names=ratings_cols, engine='python', encoding = \"ISO-8859-1\")\n",
        "orginal_data_size = len(ratings)\n",
        "ratings.head()"
      ]
    },
    {
      "cell_type": "code",
      "execution_count": 59,
      "metadata": {
        "colab": {
          "base_uri": "https://localhost:8080/",
          "height": 206
        },
        "id": "XpemMFv55V08",
        "outputId": "164080ef-bb48-4468-eea2-654be7b70e2e"
      },
      "outputs": [
        {
          "output_type": "execute_result",
          "data": {
            "text/plain": [
              "   user_id  movie_id  ratings\n",
              "0        1      1193        5\n",
              "1        1       661        3\n",
              "2        1       914        3\n",
              "3        1      3408        4\n",
              "4        1      2355        5"
            ],
            "text/html": [
              "\n",
              "  <div id=\"df-a316df0e-741d-4fc3-ada5-b2f3684156cf\">\n",
              "    <div class=\"colab-df-container\">\n",
              "      <div>\n",
              "<style scoped>\n",
              "    .dataframe tbody tr th:only-of-type {\n",
              "        vertical-align: middle;\n",
              "    }\n",
              "\n",
              "    .dataframe tbody tr th {\n",
              "        vertical-align: top;\n",
              "    }\n",
              "\n",
              "    .dataframe thead th {\n",
              "        text-align: right;\n",
              "    }\n",
              "</style>\n",
              "<table border=\"1\" class=\"dataframe\">\n",
              "  <thead>\n",
              "    <tr style=\"text-align: right;\">\n",
              "      <th></th>\n",
              "      <th>user_id</th>\n",
              "      <th>movie_id</th>\n",
              "      <th>ratings</th>\n",
              "    </tr>\n",
              "  </thead>\n",
              "  <tbody>\n",
              "    <tr>\n",
              "      <th>0</th>\n",
              "      <td>1</td>\n",
              "      <td>1193</td>\n",
              "      <td>5</td>\n",
              "    </tr>\n",
              "    <tr>\n",
              "      <th>1</th>\n",
              "      <td>1</td>\n",
              "      <td>661</td>\n",
              "      <td>3</td>\n",
              "    </tr>\n",
              "    <tr>\n",
              "      <th>2</th>\n",
              "      <td>1</td>\n",
              "      <td>914</td>\n",
              "      <td>3</td>\n",
              "    </tr>\n",
              "    <tr>\n",
              "      <th>3</th>\n",
              "      <td>1</td>\n",
              "      <td>3408</td>\n",
              "      <td>4</td>\n",
              "    </tr>\n",
              "    <tr>\n",
              "      <th>4</th>\n",
              "      <td>1</td>\n",
              "      <td>2355</td>\n",
              "      <td>5</td>\n",
              "    </tr>\n",
              "  </tbody>\n",
              "</table>\n",
              "</div>\n",
              "      <button class=\"colab-df-convert\" onclick=\"convertToInteractive('df-a316df0e-741d-4fc3-ada5-b2f3684156cf')\"\n",
              "              title=\"Convert this dataframe to an interactive table.\"\n",
              "              style=\"display:none;\">\n",
              "        \n",
              "  <svg xmlns=\"http://www.w3.org/2000/svg\" height=\"24px\"viewBox=\"0 0 24 24\"\n",
              "       width=\"24px\">\n",
              "    <path d=\"M0 0h24v24H0V0z\" fill=\"none\"/>\n",
              "    <path d=\"M18.56 5.44l.94 2.06.94-2.06 2.06-.94-2.06-.94-.94-2.06-.94 2.06-2.06.94zm-11 1L8.5 8.5l.94-2.06 2.06-.94-2.06-.94L8.5 2.5l-.94 2.06-2.06.94zm10 10l.94 2.06.94-2.06 2.06-.94-2.06-.94-.94-2.06-.94 2.06-2.06.94z\"/><path d=\"M17.41 7.96l-1.37-1.37c-.4-.4-.92-.59-1.43-.59-.52 0-1.04.2-1.43.59L10.3 9.45l-7.72 7.72c-.78.78-.78 2.05 0 2.83L4 21.41c.39.39.9.59 1.41.59.51 0 1.02-.2 1.41-.59l7.78-7.78 2.81-2.81c.8-.78.8-2.07 0-2.86zM5.41 20L4 18.59l7.72-7.72 1.47 1.35L5.41 20z\"/>\n",
              "  </svg>\n",
              "      </button>\n",
              "      \n",
              "  <style>\n",
              "    .colab-df-container {\n",
              "      display:flex;\n",
              "      flex-wrap:wrap;\n",
              "      gap: 12px;\n",
              "    }\n",
              "\n",
              "    .colab-df-convert {\n",
              "      background-color: #E8F0FE;\n",
              "      border: none;\n",
              "      border-radius: 50%;\n",
              "      cursor: pointer;\n",
              "      display: none;\n",
              "      fill: #1967D2;\n",
              "      height: 32px;\n",
              "      padding: 0 0 0 0;\n",
              "      width: 32px;\n",
              "    }\n",
              "\n",
              "    .colab-df-convert:hover {\n",
              "      background-color: #E2EBFA;\n",
              "      box-shadow: 0px 1px 2px rgba(60, 64, 67, 0.3), 0px 1px 3px 1px rgba(60, 64, 67, 0.15);\n",
              "      fill: #174EA6;\n",
              "    }\n",
              "\n",
              "    [theme=dark] .colab-df-convert {\n",
              "      background-color: #3B4455;\n",
              "      fill: #D2E3FC;\n",
              "    }\n",
              "\n",
              "    [theme=dark] .colab-df-convert:hover {\n",
              "      background-color: #434B5C;\n",
              "      box-shadow: 0px 1px 3px 1px rgba(0, 0, 0, 0.15);\n",
              "      filter: drop-shadow(0px 1px 2px rgba(0, 0, 0, 0.3));\n",
              "      fill: #FFFFFF;\n",
              "    }\n",
              "  </style>\n",
              "\n",
              "      <script>\n",
              "        const buttonEl =\n",
              "          document.querySelector('#df-a316df0e-741d-4fc3-ada5-b2f3684156cf button.colab-df-convert');\n",
              "        buttonEl.style.display =\n",
              "          google.colab.kernel.accessAllowed ? 'block' : 'none';\n",
              "\n",
              "        async function convertToInteractive(key) {\n",
              "          const element = document.querySelector('#df-a316df0e-741d-4fc3-ada5-b2f3684156cf');\n",
              "          const dataTable =\n",
              "            await google.colab.kernel.invokeFunction('convertToInteractive',\n",
              "                                                     [key], {});\n",
              "          if (!dataTable) return;\n",
              "\n",
              "          const docLinkHtml = 'Like what you see? Visit the ' +\n",
              "            '<a target=\"_blank\" href=https://colab.research.google.com/notebooks/data_table.ipynb>data table notebook</a>'\n",
              "            + ' to learn more about interactive tables.';\n",
              "          element.innerHTML = '';\n",
              "          dataTable['output_type'] = 'display_data';\n",
              "          await google.colab.output.renderOutput(dataTable, element);\n",
              "          const docLink = document.createElement('div');\n",
              "          docLink.innerHTML = docLinkHtml;\n",
              "          element.appendChild(docLink);\n",
              "        }\n",
              "      </script>\n",
              "    </div>\n",
              "  </div>\n",
              "  "
            ]
          },
          "metadata": {},
          "execution_count": 59
        }
      ],
      "source": [
        "# 필요없는 항 timestamp 삭제\n",
        "del ratings['timestamp']\n",
        "ratings.head()"
      ]
    },
    {
      "cell_type": "code",
      "execution_count": 60,
      "metadata": {
        "colab": {
          "base_uri": "https://localhost:8080/"
        },
        "id": "nmxdhuQ95V09",
        "outputId": "712d64d4-bea9-4b0f-c0e1-0d0a5e0ad7ca"
      },
      "outputs": [
        {
          "output_type": "stream",
          "name": "stdout",
          "text": [
            "orginal_data_size: 1000209, filtered_data_size: 836478\n",
            "Ratio of Remaining Data is 83.63%\n"
          ]
        }
      ],
      "source": [
        "# 3점 이상만 남깁니다.\n",
        "ratings = ratings[ratings['ratings']>=3]\n",
        "filtered_data_size = len(ratings)\n",
        "\n",
        "print(f'orginal_data_size: {orginal_data_size}, filtered_data_size: {filtered_data_size}')\n",
        "print(f'Ratio of Remaining Data is {filtered_data_size / orginal_data_size:.2%}')"
      ]
    },
    {
      "cell_type": "code",
      "execution_count": 61,
      "metadata": {
        "id": "4jBrEdve5V09"
      },
      "outputs": [],
      "source": [
        "# ratings 컬럼의 이름을 counts로 바꿉니다.\n",
        "ratings.rename(columns={'ratings':'counts'}, inplace=True)"
      ]
    },
    {
      "cell_type": "code",
      "execution_count": 62,
      "metadata": {
        "colab": {
          "base_uri": "https://localhost:8080/",
          "height": 206
        },
        "id": "mXb59W665V09",
        "outputId": "a599868e-f9e1-46e0-f2e4-63b24790d830"
      },
      "outputs": [
        {
          "output_type": "execute_result",
          "data": {
            "text/plain": [
              "   movie_id                               title                         genre\n",
              "0         1                    Toy Story (1995)   Animation|Children's|Comedy\n",
              "1         2                      Jumanji (1995)  Adventure|Children's|Fantasy\n",
              "2         3             Grumpier Old Men (1995)                Comedy|Romance\n",
              "3         4            Waiting to Exhale (1995)                  Comedy|Drama\n",
              "4         5  Father of the Bride Part II (1995)                        Comedy"
            ],
            "text/html": [
              "\n",
              "  <div id=\"df-45d40486-95d3-465a-85cf-5489a0ba325e\">\n",
              "    <div class=\"colab-df-container\">\n",
              "      <div>\n",
              "<style scoped>\n",
              "    .dataframe tbody tr th:only-of-type {\n",
              "        vertical-align: middle;\n",
              "    }\n",
              "\n",
              "    .dataframe tbody tr th {\n",
              "        vertical-align: top;\n",
              "    }\n",
              "\n",
              "    .dataframe thead th {\n",
              "        text-align: right;\n",
              "    }\n",
              "</style>\n",
              "<table border=\"1\" class=\"dataframe\">\n",
              "  <thead>\n",
              "    <tr style=\"text-align: right;\">\n",
              "      <th></th>\n",
              "      <th>movie_id</th>\n",
              "      <th>title</th>\n",
              "      <th>genre</th>\n",
              "    </tr>\n",
              "  </thead>\n",
              "  <tbody>\n",
              "    <tr>\n",
              "      <th>0</th>\n",
              "      <td>1</td>\n",
              "      <td>Toy Story (1995)</td>\n",
              "      <td>Animation|Children's|Comedy</td>\n",
              "    </tr>\n",
              "    <tr>\n",
              "      <th>1</th>\n",
              "      <td>2</td>\n",
              "      <td>Jumanji (1995)</td>\n",
              "      <td>Adventure|Children's|Fantasy</td>\n",
              "    </tr>\n",
              "    <tr>\n",
              "      <th>2</th>\n",
              "      <td>3</td>\n",
              "      <td>Grumpier Old Men (1995)</td>\n",
              "      <td>Comedy|Romance</td>\n",
              "    </tr>\n",
              "    <tr>\n",
              "      <th>3</th>\n",
              "      <td>4</td>\n",
              "      <td>Waiting to Exhale (1995)</td>\n",
              "      <td>Comedy|Drama</td>\n",
              "    </tr>\n",
              "    <tr>\n",
              "      <th>4</th>\n",
              "      <td>5</td>\n",
              "      <td>Father of the Bride Part II (1995)</td>\n",
              "      <td>Comedy</td>\n",
              "    </tr>\n",
              "  </tbody>\n",
              "</table>\n",
              "</div>\n",
              "      <button class=\"colab-df-convert\" onclick=\"convertToInteractive('df-45d40486-95d3-465a-85cf-5489a0ba325e')\"\n",
              "              title=\"Convert this dataframe to an interactive table.\"\n",
              "              style=\"display:none;\">\n",
              "        \n",
              "  <svg xmlns=\"http://www.w3.org/2000/svg\" height=\"24px\"viewBox=\"0 0 24 24\"\n",
              "       width=\"24px\">\n",
              "    <path d=\"M0 0h24v24H0V0z\" fill=\"none\"/>\n",
              "    <path d=\"M18.56 5.44l.94 2.06.94-2.06 2.06-.94-2.06-.94-.94-2.06-.94 2.06-2.06.94zm-11 1L8.5 8.5l.94-2.06 2.06-.94-2.06-.94L8.5 2.5l-.94 2.06-2.06.94zm10 10l.94 2.06.94-2.06 2.06-.94-2.06-.94-.94-2.06-.94 2.06-2.06.94z\"/><path d=\"M17.41 7.96l-1.37-1.37c-.4-.4-.92-.59-1.43-.59-.52 0-1.04.2-1.43.59L10.3 9.45l-7.72 7.72c-.78.78-.78 2.05 0 2.83L4 21.41c.39.39.9.59 1.41.59.51 0 1.02-.2 1.41-.59l7.78-7.78 2.81-2.81c.8-.78.8-2.07 0-2.86zM5.41 20L4 18.59l7.72-7.72 1.47 1.35L5.41 20z\"/>\n",
              "  </svg>\n",
              "      </button>\n",
              "      \n",
              "  <style>\n",
              "    .colab-df-container {\n",
              "      display:flex;\n",
              "      flex-wrap:wrap;\n",
              "      gap: 12px;\n",
              "    }\n",
              "\n",
              "    .colab-df-convert {\n",
              "      background-color: #E8F0FE;\n",
              "      border: none;\n",
              "      border-radius: 50%;\n",
              "      cursor: pointer;\n",
              "      display: none;\n",
              "      fill: #1967D2;\n",
              "      height: 32px;\n",
              "      padding: 0 0 0 0;\n",
              "      width: 32px;\n",
              "    }\n",
              "\n",
              "    .colab-df-convert:hover {\n",
              "      background-color: #E2EBFA;\n",
              "      box-shadow: 0px 1px 2px rgba(60, 64, 67, 0.3), 0px 1px 3px 1px rgba(60, 64, 67, 0.15);\n",
              "      fill: #174EA6;\n",
              "    }\n",
              "\n",
              "    [theme=dark] .colab-df-convert {\n",
              "      background-color: #3B4455;\n",
              "      fill: #D2E3FC;\n",
              "    }\n",
              "\n",
              "    [theme=dark] .colab-df-convert:hover {\n",
              "      background-color: #434B5C;\n",
              "      box-shadow: 0px 1px 3px 1px rgba(0, 0, 0, 0.15);\n",
              "      filter: drop-shadow(0px 1px 2px rgba(0, 0, 0, 0.3));\n",
              "      fill: #FFFFFF;\n",
              "    }\n",
              "  </style>\n",
              "\n",
              "      <script>\n",
              "        const buttonEl =\n",
              "          document.querySelector('#df-45d40486-95d3-465a-85cf-5489a0ba325e button.colab-df-convert');\n",
              "        buttonEl.style.display =\n",
              "          google.colab.kernel.accessAllowed ? 'block' : 'none';\n",
              "\n",
              "        async function convertToInteractive(key) {\n",
              "          const element = document.querySelector('#df-45d40486-95d3-465a-85cf-5489a0ba325e');\n",
              "          const dataTable =\n",
              "            await google.colab.kernel.invokeFunction('convertToInteractive',\n",
              "                                                     [key], {});\n",
              "          if (!dataTable) return;\n",
              "\n",
              "          const docLinkHtml = 'Like what you see? Visit the ' +\n",
              "            '<a target=\"_blank\" href=https://colab.research.google.com/notebooks/data_table.ipynb>data table notebook</a>'\n",
              "            + ' to learn more about interactive tables.';\n",
              "          element.innerHTML = '';\n",
              "          dataTable['output_type'] = 'display_data';\n",
              "          await google.colab.output.renderOutput(dataTable, element);\n",
              "          const docLink = document.createElement('div');\n",
              "          docLink.innerHTML = docLinkHtml;\n",
              "          element.appendChild(docLink);\n",
              "        }\n",
              "      </script>\n",
              "    </div>\n",
              "  </div>\n",
              "  "
            ]
          },
          "metadata": {},
          "execution_count": 62
        }
      ],
      "source": [
        "# 영화 제목을 보기 위해 메타 데이터를 읽어옵니다.\n",
        "# 메타 데이터란, 다른 데이터의 정보가 들어있는 데이터\n",
        "movie_file_path = path + '/ml-1m/movies.dat'\n",
        "cols = ['movie_id', 'title', 'genre'] \n",
        "movies = pd.read_csv(movie_file_path, sep='::', names=cols, engine='python', encoding='ISO-8859-1')\n",
        "movies.head()"
      ]
    },
    {
      "cell_type": "code",
      "execution_count": 63,
      "metadata": {
        "colab": {
          "base_uri": "https://localhost:8080/"
        },
        "id": "J4PzLEon5V09",
        "outputId": "cc43bcae-6cc9-4344-b1ba-51d4ba54265e"
      },
      "outputs": [
        {
          "output_type": "execute_result",
          "data": {
            "text/plain": [
              "(Index(['user_id', 'movie_id', 'counts'], dtype='object'),\n",
              " Index(['movie_id', 'title', 'genre'], dtype='object'))"
            ]
          },
          "metadata": {},
          "execution_count": 63
        }
      ],
      "source": [
        "ratings.columns, movies.columns"
      ]
    },
    {
      "cell_type": "code",
      "execution_count": 64,
      "metadata": {
        "colab": {
          "base_uri": "https://localhost:8080/"
        },
        "id": "Bx1rFYhw5V0-",
        "outputId": "07220c61-de81-4544-da9e-1fe65904995f"
      },
      "outputs": [
        {
          "output_type": "execute_result",
          "data": {
            "text/plain": [
              "(836478, 3883)"
            ]
          },
          "metadata": {},
          "execution_count": 64
        }
      ],
      "source": [
        "len_original = len(ratings)\n",
        "len(ratings), len(movies)"
      ]
    },
    {
      "cell_type": "code",
      "execution_count": 65,
      "metadata": {
        "colab": {
          "base_uri": "https://localhost:8080/"
        },
        "id": "R3THwQT-5V0-",
        "outputId": "325b88c6-21ea-4116-8b5f-3b9ebafee65f"
      },
      "outputs": [
        {
          "output_type": "execute_result",
          "data": {
            "text/plain": [
              "(3952, 3952)"
            ]
          },
          "metadata": {},
          "execution_count": 65
        }
      ],
      "source": [
        "# ratings에 있는 영화가 movies에 모두 있는지 확인\n",
        "# id의 최대값 확인 --> 동일\n",
        "ratings['movie_id'].max(), movies['movie_id'].max()"
      ]
    },
    {
      "cell_type": "code",
      "execution_count": 66,
      "metadata": {
        "colab": {
          "base_uri": "https://localhost:8080/"
        },
        "id": "iyiwDQ7J5V0-",
        "outputId": "def6454a-ce71-4dd1-cb5e-8834c997a752"
      },
      "outputs": [
        {
          "output_type": "execute_result",
          "data": {
            "text/plain": [
              "array([   1,    2,    3, ..., 3950, 3951, 3952])"
            ]
          },
          "metadata": {},
          "execution_count": 66
        }
      ],
      "source": [
        "# 비교를 위해서 정렬 후 numpy로 저장\n",
        "m = np.array(movies['movie_id'].sort_values())\n",
        "m"
      ]
    },
    {
      "cell_type": "code",
      "execution_count": 67,
      "metadata": {
        "colab": {
          "base_uri": "https://localhost:8080/"
        },
        "id": "DPERe6at5V0-",
        "outputId": "101ddd01-44e0-4e85-9a89-57a24f2409ad"
      },
      "outputs": [
        {
          "output_type": "execute_result",
          "data": {
            "text/plain": [
              "array([   1,    2,    3, ..., 3950, 3951, 3952])"
            ]
          },
          "metadata": {},
          "execution_count": 67
        }
      ],
      "source": [
        "r = np.array(ratings['movie_id'].sort_values().unique())\n",
        "r"
      ]
    },
    {
      "cell_type": "code",
      "execution_count": 68,
      "metadata": {
        "colab": {
          "base_uri": "https://localhost:8080/"
        },
        "id": "1AgZQv4nnMI9",
        "outputId": "8c6ec991-22cb-44c5-8a99-39684659bd48"
      },
      "outputs": [
        {
          "output_type": "execute_result",
          "data": {
            "text/plain": [
              "(3883, 3628)"
            ]
          },
          "metadata": {},
          "execution_count": 68
        }
      ],
      "source": [
        "# 다음의 값으로 완전히 동일하지 않은 것으로 보이며\n",
        "# ratings movie_id가 movies에 존재하는 것만 확인하면 된다.\n",
        "len(m), len(r)"
      ]
    },
    {
      "cell_type": "code",
      "execution_count": 69,
      "metadata": {
        "colab": {
          "base_uri": "https://localhost:8080/"
        },
        "id": "R2ZPCTlu5V0_",
        "outputId": "a5ca84ca-1f74-4f7f-e52e-07751bd4565a"
      },
      "outputs": [
        {
          "output_type": "execute_result",
          "data": {
            "text/plain": [
              "0"
            ]
          },
          "metadata": {},
          "execution_count": 69
        }
      ],
      "source": [
        "# ratings의 영화가 movies에 모두 있는 것을 확인\n",
        "mask = ratings['movie_id'].isin(m)\n",
        "mask[mask == False].sum()"
      ]
    },
    {
      "cell_type": "code",
      "execution_count": 70,
      "metadata": {
        "id": "Bk3SlE6eGLUh"
      },
      "outputs": [],
      "source": [
        "id_to_movie = {k:v for k,v in zip(movies['movie_id'], movies['title'])}"
      ]
    },
    {
      "cell_type": "code",
      "execution_count": 71,
      "metadata": {
        "id": "N02kKwmK5V1A"
      },
      "outputs": [],
      "source": [
        "ratings['title'] = ratings['movie_id'].map(id_to_movie.get)"
      ]
    },
    {
      "cell_type": "code",
      "execution_count": 72,
      "metadata": {
        "colab": {
          "base_uri": "https://localhost:8080/"
        },
        "id": "FVi2xAj-5V1A",
        "outputId": "83f8b4bd-ffde-45db-e4af-b12cfa643101"
      },
      "outputs": [
        {
          "output_type": "execute_result",
          "data": {
            "text/plain": [
              "['user_id', 'movie_id', 'counts', 'title']"
            ]
          },
          "metadata": {},
          "execution_count": 72
        }
      ],
      "source": [
        "ls = ratings.columns.to_list()\n",
        "ls"
      ]
    },
    {
      "cell_type": "code",
      "execution_count": 73,
      "metadata": {
        "colab": {
          "base_uri": "https://localhost:8080/",
          "height": 206
        },
        "id": "1e2RmEgU5V1B",
        "outputId": "de099646-b05d-4dfb-830a-610e9ec2fac1"
      },
      "outputs": [
        {
          "output_type": "execute_result",
          "data": {
            "text/plain": [
              "                                    title  counts  user_id  movie_id\n",
              "0  One Flew Over the Cuckoo's Nest (1975)       5        1      1193\n",
              "1        James and the Giant Peach (1996)       3        1       661\n",
              "2                     My Fair Lady (1964)       3        1       914\n",
              "3                  Erin Brockovich (2000)       4        1      3408\n",
              "4                    Bug's Life, A (1998)       5        1      2355"
            ],
            "text/html": [
              "\n",
              "  <div id=\"df-65bace7a-1f1f-46a7-a11b-370fccb21a75\">\n",
              "    <div class=\"colab-df-container\">\n",
              "      <div>\n",
              "<style scoped>\n",
              "    .dataframe tbody tr th:only-of-type {\n",
              "        vertical-align: middle;\n",
              "    }\n",
              "\n",
              "    .dataframe tbody tr th {\n",
              "        vertical-align: top;\n",
              "    }\n",
              "\n",
              "    .dataframe thead th {\n",
              "        text-align: right;\n",
              "    }\n",
              "</style>\n",
              "<table border=\"1\" class=\"dataframe\">\n",
              "  <thead>\n",
              "    <tr style=\"text-align: right;\">\n",
              "      <th></th>\n",
              "      <th>title</th>\n",
              "      <th>counts</th>\n",
              "      <th>user_id</th>\n",
              "      <th>movie_id</th>\n",
              "    </tr>\n",
              "  </thead>\n",
              "  <tbody>\n",
              "    <tr>\n",
              "      <th>0</th>\n",
              "      <td>One Flew Over the Cuckoo's Nest (1975)</td>\n",
              "      <td>5</td>\n",
              "      <td>1</td>\n",
              "      <td>1193</td>\n",
              "    </tr>\n",
              "    <tr>\n",
              "      <th>1</th>\n",
              "      <td>James and the Giant Peach (1996)</td>\n",
              "      <td>3</td>\n",
              "      <td>1</td>\n",
              "      <td>661</td>\n",
              "    </tr>\n",
              "    <tr>\n",
              "      <th>2</th>\n",
              "      <td>My Fair Lady (1964)</td>\n",
              "      <td>3</td>\n",
              "      <td>1</td>\n",
              "      <td>914</td>\n",
              "    </tr>\n",
              "    <tr>\n",
              "      <th>3</th>\n",
              "      <td>Erin Brockovich (2000)</td>\n",
              "      <td>4</td>\n",
              "      <td>1</td>\n",
              "      <td>3408</td>\n",
              "    </tr>\n",
              "    <tr>\n",
              "      <th>4</th>\n",
              "      <td>Bug's Life, A (1998)</td>\n",
              "      <td>5</td>\n",
              "      <td>1</td>\n",
              "      <td>2355</td>\n",
              "    </tr>\n",
              "  </tbody>\n",
              "</table>\n",
              "</div>\n",
              "      <button class=\"colab-df-convert\" onclick=\"convertToInteractive('df-65bace7a-1f1f-46a7-a11b-370fccb21a75')\"\n",
              "              title=\"Convert this dataframe to an interactive table.\"\n",
              "              style=\"display:none;\">\n",
              "        \n",
              "  <svg xmlns=\"http://www.w3.org/2000/svg\" height=\"24px\"viewBox=\"0 0 24 24\"\n",
              "       width=\"24px\">\n",
              "    <path d=\"M0 0h24v24H0V0z\" fill=\"none\"/>\n",
              "    <path d=\"M18.56 5.44l.94 2.06.94-2.06 2.06-.94-2.06-.94-.94-2.06-.94 2.06-2.06.94zm-11 1L8.5 8.5l.94-2.06 2.06-.94-2.06-.94L8.5 2.5l-.94 2.06-2.06.94zm10 10l.94 2.06.94-2.06 2.06-.94-2.06-.94-.94-2.06-.94 2.06-2.06.94z\"/><path d=\"M17.41 7.96l-1.37-1.37c-.4-.4-.92-.59-1.43-.59-.52 0-1.04.2-1.43.59L10.3 9.45l-7.72 7.72c-.78.78-.78 2.05 0 2.83L4 21.41c.39.39.9.59 1.41.59.51 0 1.02-.2 1.41-.59l7.78-7.78 2.81-2.81c.8-.78.8-2.07 0-2.86zM5.41 20L4 18.59l7.72-7.72 1.47 1.35L5.41 20z\"/>\n",
              "  </svg>\n",
              "      </button>\n",
              "      \n",
              "  <style>\n",
              "    .colab-df-container {\n",
              "      display:flex;\n",
              "      flex-wrap:wrap;\n",
              "      gap: 12px;\n",
              "    }\n",
              "\n",
              "    .colab-df-convert {\n",
              "      background-color: #E8F0FE;\n",
              "      border: none;\n",
              "      border-radius: 50%;\n",
              "      cursor: pointer;\n",
              "      display: none;\n",
              "      fill: #1967D2;\n",
              "      height: 32px;\n",
              "      padding: 0 0 0 0;\n",
              "      width: 32px;\n",
              "    }\n",
              "\n",
              "    .colab-df-convert:hover {\n",
              "      background-color: #E2EBFA;\n",
              "      box-shadow: 0px 1px 2px rgba(60, 64, 67, 0.3), 0px 1px 3px 1px rgba(60, 64, 67, 0.15);\n",
              "      fill: #174EA6;\n",
              "    }\n",
              "\n",
              "    [theme=dark] .colab-df-convert {\n",
              "      background-color: #3B4455;\n",
              "      fill: #D2E3FC;\n",
              "    }\n",
              "\n",
              "    [theme=dark] .colab-df-convert:hover {\n",
              "      background-color: #434B5C;\n",
              "      box-shadow: 0px 1px 3px 1px rgba(0, 0, 0, 0.15);\n",
              "      filter: drop-shadow(0px 1px 2px rgba(0, 0, 0, 0.3));\n",
              "      fill: #FFFFFF;\n",
              "    }\n",
              "  </style>\n",
              "\n",
              "      <script>\n",
              "        const buttonEl =\n",
              "          document.querySelector('#df-65bace7a-1f1f-46a7-a11b-370fccb21a75 button.colab-df-convert');\n",
              "        buttonEl.style.display =\n",
              "          google.colab.kernel.accessAllowed ? 'block' : 'none';\n",
              "\n",
              "        async function convertToInteractive(key) {\n",
              "          const element = document.querySelector('#df-65bace7a-1f1f-46a7-a11b-370fccb21a75');\n",
              "          const dataTable =\n",
              "            await google.colab.kernel.invokeFunction('convertToInteractive',\n",
              "                                                     [key], {});\n",
              "          if (!dataTable) return;\n",
              "\n",
              "          const docLinkHtml = 'Like what you see? Visit the ' +\n",
              "            '<a target=\"_blank\" href=https://colab.research.google.com/notebooks/data_table.ipynb>data table notebook</a>'\n",
              "            + ' to learn more about interactive tables.';\n",
              "          element.innerHTML = '';\n",
              "          dataTable['output_type'] = 'display_data';\n",
              "          await google.colab.output.renderOutput(dataTable, element);\n",
              "          const docLink = document.createElement('div');\n",
              "          docLink.innerHTML = docLinkHtml;\n",
              "          element.appendChild(docLink);\n",
              "        }\n",
              "      </script>\n",
              "    </div>\n",
              "  </div>\n",
              "  "
            ]
          },
          "metadata": {},
          "execution_count": 73
        }
      ],
      "source": [
        "ls = ['title', 'counts', 'user_id','movie_id']\n",
        "ratings = ratings[ls]\n",
        "ratings.head()"
      ]
    },
    {
      "cell_type": "code",
      "execution_count": 74,
      "metadata": {
        "colab": {
          "base_uri": "https://localhost:8080/",
          "height": 81
        },
        "id": "kcOe_W4EoyYI",
        "outputId": "9a794a36-4374-4c23-8beb-8b3648844563"
      },
      "outputs": [
        {
          "output_type": "execute_result",
          "data": {
            "text/plain": [
              "     movie_id                             title                         genre\n",
              "655       661  James and the Giant Peach (1996)  Animation|Children's|Musical"
            ],
            "text/html": [
              "\n",
              "  <div id=\"df-cd264c2b-0c2d-4508-a71c-bb2c8c1188d9\">\n",
              "    <div class=\"colab-df-container\">\n",
              "      <div>\n",
              "<style scoped>\n",
              "    .dataframe tbody tr th:only-of-type {\n",
              "        vertical-align: middle;\n",
              "    }\n",
              "\n",
              "    .dataframe tbody tr th {\n",
              "        vertical-align: top;\n",
              "    }\n",
              "\n",
              "    .dataframe thead th {\n",
              "        text-align: right;\n",
              "    }\n",
              "</style>\n",
              "<table border=\"1\" class=\"dataframe\">\n",
              "  <thead>\n",
              "    <tr style=\"text-align: right;\">\n",
              "      <th></th>\n",
              "      <th>movie_id</th>\n",
              "      <th>title</th>\n",
              "      <th>genre</th>\n",
              "    </tr>\n",
              "  </thead>\n",
              "  <tbody>\n",
              "    <tr>\n",
              "      <th>655</th>\n",
              "      <td>661</td>\n",
              "      <td>James and the Giant Peach (1996)</td>\n",
              "      <td>Animation|Children's|Musical</td>\n",
              "    </tr>\n",
              "  </tbody>\n",
              "</table>\n",
              "</div>\n",
              "      <button class=\"colab-df-convert\" onclick=\"convertToInteractive('df-cd264c2b-0c2d-4508-a71c-bb2c8c1188d9')\"\n",
              "              title=\"Convert this dataframe to an interactive table.\"\n",
              "              style=\"display:none;\">\n",
              "        \n",
              "  <svg xmlns=\"http://www.w3.org/2000/svg\" height=\"24px\"viewBox=\"0 0 24 24\"\n",
              "       width=\"24px\">\n",
              "    <path d=\"M0 0h24v24H0V0z\" fill=\"none\"/>\n",
              "    <path d=\"M18.56 5.44l.94 2.06.94-2.06 2.06-.94-2.06-.94-.94-2.06-.94 2.06-2.06.94zm-11 1L8.5 8.5l.94-2.06 2.06-.94-2.06-.94L8.5 2.5l-.94 2.06-2.06.94zm10 10l.94 2.06.94-2.06 2.06-.94-2.06-.94-.94-2.06-.94 2.06-2.06.94z\"/><path d=\"M17.41 7.96l-1.37-1.37c-.4-.4-.92-.59-1.43-.59-.52 0-1.04.2-1.43.59L10.3 9.45l-7.72 7.72c-.78.78-.78 2.05 0 2.83L4 21.41c.39.39.9.59 1.41.59.51 0 1.02-.2 1.41-.59l7.78-7.78 2.81-2.81c.8-.78.8-2.07 0-2.86zM5.41 20L4 18.59l7.72-7.72 1.47 1.35L5.41 20z\"/>\n",
              "  </svg>\n",
              "      </button>\n",
              "      \n",
              "  <style>\n",
              "    .colab-df-container {\n",
              "      display:flex;\n",
              "      flex-wrap:wrap;\n",
              "      gap: 12px;\n",
              "    }\n",
              "\n",
              "    .colab-df-convert {\n",
              "      background-color: #E8F0FE;\n",
              "      border: none;\n",
              "      border-radius: 50%;\n",
              "      cursor: pointer;\n",
              "      display: none;\n",
              "      fill: #1967D2;\n",
              "      height: 32px;\n",
              "      padding: 0 0 0 0;\n",
              "      width: 32px;\n",
              "    }\n",
              "\n",
              "    .colab-df-convert:hover {\n",
              "      background-color: #E2EBFA;\n",
              "      box-shadow: 0px 1px 2px rgba(60, 64, 67, 0.3), 0px 1px 3px 1px rgba(60, 64, 67, 0.15);\n",
              "      fill: #174EA6;\n",
              "    }\n",
              "\n",
              "    [theme=dark] .colab-df-convert {\n",
              "      background-color: #3B4455;\n",
              "      fill: #D2E3FC;\n",
              "    }\n",
              "\n",
              "    [theme=dark] .colab-df-convert:hover {\n",
              "      background-color: #434B5C;\n",
              "      box-shadow: 0px 1px 3px 1px rgba(0, 0, 0, 0.15);\n",
              "      filter: drop-shadow(0px 1px 2px rgba(0, 0, 0, 0.3));\n",
              "      fill: #FFFFFF;\n",
              "    }\n",
              "  </style>\n",
              "\n",
              "      <script>\n",
              "        const buttonEl =\n",
              "          document.querySelector('#df-cd264c2b-0c2d-4508-a71c-bb2c8c1188d9 button.colab-df-convert');\n",
              "        buttonEl.style.display =\n",
              "          google.colab.kernel.accessAllowed ? 'block' : 'none';\n",
              "\n",
              "        async function convertToInteractive(key) {\n",
              "          const element = document.querySelector('#df-cd264c2b-0c2d-4508-a71c-bb2c8c1188d9');\n",
              "          const dataTable =\n",
              "            await google.colab.kernel.invokeFunction('convertToInteractive',\n",
              "                                                     [key], {});\n",
              "          if (!dataTable) return;\n",
              "\n",
              "          const docLinkHtml = 'Like what you see? Visit the ' +\n",
              "            '<a target=\"_blank\" href=https://colab.research.google.com/notebooks/data_table.ipynb>data table notebook</a>'\n",
              "            + ' to learn more about interactive tables.';\n",
              "          element.innerHTML = '';\n",
              "          dataTable['output_type'] = 'display_data';\n",
              "          await google.colab.output.renderOutput(dataTable, element);\n",
              "          const docLink = document.createElement('div');\n",
              "          docLink.innerHTML = docLinkHtml;\n",
              "          element.appendChild(docLink);\n",
              "        }\n",
              "      </script>\n",
              "    </div>\n",
              "  </div>\n",
              "  "
            ]
          },
          "metadata": {},
          "execution_count": 74
        }
      ],
      "source": [
        "# 제대로 title 데이터 삽입이 됐는지 확인합니다.\n",
        "movies[movies['movie_id'] == 661]"
      ]
    },
    {
      "cell_type": "code",
      "execution_count": 75,
      "metadata": {
        "colab": {
          "base_uri": "https://localhost:8080/"
        },
        "id": "ykXQsWPkuxN4",
        "outputId": "471c6c89-1cc4-4c26-a96f-28d17701619d"
      },
      "outputs": [
        {
          "output_type": "stream",
          "name": "stdout",
          "text": [
            "<class 'pandas.core.frame.DataFrame'>\n",
            "Int64Index: 836478 entries, 0 to 1000208\n",
            "Data columns (total 4 columns):\n",
            " #   Column    Non-Null Count   Dtype \n",
            "---  ------    --------------   ----- \n",
            " 0   title     836478 non-null  object\n",
            " 1   counts    836478 non-null  int64 \n",
            " 2   user_id   836478 non-null  int64 \n",
            " 3   movie_id  836478 non-null  int64 \n",
            "dtypes: int64(3), object(1)\n",
            "memory usage: 31.9+ MB\n"
          ]
        }
      ],
      "source": [
        "# title 컬럼에 결측값이 있는지 확인\n",
        "ratings.info()"
      ]
    },
    {
      "cell_type": "code",
      "execution_count": 76,
      "metadata": {
        "id": "BelKRoZIzyxa"
      },
      "outputs": [],
      "source": [
        "# Indexing\n",
        "# 이미 id로 index되어있지만\n",
        "# 비어있는 index가 있으므로 다시 설정한다.\n",
        "user_unique = ratings['user_id'].unique()\n",
        "movie_unique = ratings['movie_id'].unique()\n",
        "\n",
        "user_to_idx = {v:k for k,v in enumerate(user_unique)}\n",
        "movie_to_idx = {v:k for k,v in enumerate(movie_unique)}"
      ]
    },
    {
      "cell_type": "code",
      "execution_count": 77,
      "metadata": {
        "colab": {
          "base_uri": "https://localhost:8080/",
          "height": 460
        },
        "id": "DEHuuGTnzyxb",
        "outputId": "07b772eb-1dd0-42d3-9ac4-e51a6c82471d"
      },
      "outputs": [
        {
          "output_type": "stream",
          "name": "stdout",
          "text": [
            "user_id column indexing OK!!\n",
            "movie column indexing OK!!\n"
          ]
        },
        {
          "output_type": "execute_result",
          "data": {
            "text/plain": [
              "                                          title  counts  user_id  movie_id\n",
              "0        One Flew Over the Cuckoo's Nest (1975)       5        0         0\n",
              "1              James and the Giant Peach (1996)       3        0         1\n",
              "2                           My Fair Lady (1964)       3        0         2\n",
              "3                        Erin Brockovich (2000)       4        0         3\n",
              "4                          Bug's Life, A (1998)       5        0         4\n",
              "...                                         ...     ...      ...       ...\n",
              "1000203                          Platoon (1986)       3     6038      1030\n",
              "1000205                 Crying Game, The (1992)       5     6038       986\n",
              "1000206         Welcome to the Dollhouse (1995)       5     6038       311\n",
              "1000207                  Sophie's Choice (1982)       4     6038       142\n",
              "1000208       E.T. the Extra-Terrestrial (1982)       4     6038        26\n",
              "\n",
              "[836478 rows x 4 columns]"
            ],
            "text/html": [
              "\n",
              "  <div id=\"df-011cbed0-2b3a-484f-91fa-399699902daa\">\n",
              "    <div class=\"colab-df-container\">\n",
              "      <div>\n",
              "<style scoped>\n",
              "    .dataframe tbody tr th:only-of-type {\n",
              "        vertical-align: middle;\n",
              "    }\n",
              "\n",
              "    .dataframe tbody tr th {\n",
              "        vertical-align: top;\n",
              "    }\n",
              "\n",
              "    .dataframe thead th {\n",
              "        text-align: right;\n",
              "    }\n",
              "</style>\n",
              "<table border=\"1\" class=\"dataframe\">\n",
              "  <thead>\n",
              "    <tr style=\"text-align: right;\">\n",
              "      <th></th>\n",
              "      <th>title</th>\n",
              "      <th>counts</th>\n",
              "      <th>user_id</th>\n",
              "      <th>movie_id</th>\n",
              "    </tr>\n",
              "  </thead>\n",
              "  <tbody>\n",
              "    <tr>\n",
              "      <th>0</th>\n",
              "      <td>One Flew Over the Cuckoo's Nest (1975)</td>\n",
              "      <td>5</td>\n",
              "      <td>0</td>\n",
              "      <td>0</td>\n",
              "    </tr>\n",
              "    <tr>\n",
              "      <th>1</th>\n",
              "      <td>James and the Giant Peach (1996)</td>\n",
              "      <td>3</td>\n",
              "      <td>0</td>\n",
              "      <td>1</td>\n",
              "    </tr>\n",
              "    <tr>\n",
              "      <th>2</th>\n",
              "      <td>My Fair Lady (1964)</td>\n",
              "      <td>3</td>\n",
              "      <td>0</td>\n",
              "      <td>2</td>\n",
              "    </tr>\n",
              "    <tr>\n",
              "      <th>3</th>\n",
              "      <td>Erin Brockovich (2000)</td>\n",
              "      <td>4</td>\n",
              "      <td>0</td>\n",
              "      <td>3</td>\n",
              "    </tr>\n",
              "    <tr>\n",
              "      <th>4</th>\n",
              "      <td>Bug's Life, A (1998)</td>\n",
              "      <td>5</td>\n",
              "      <td>0</td>\n",
              "      <td>4</td>\n",
              "    </tr>\n",
              "    <tr>\n",
              "      <th>...</th>\n",
              "      <td>...</td>\n",
              "      <td>...</td>\n",
              "      <td>...</td>\n",
              "      <td>...</td>\n",
              "    </tr>\n",
              "    <tr>\n",
              "      <th>1000203</th>\n",
              "      <td>Platoon (1986)</td>\n",
              "      <td>3</td>\n",
              "      <td>6038</td>\n",
              "      <td>1030</td>\n",
              "    </tr>\n",
              "    <tr>\n",
              "      <th>1000205</th>\n",
              "      <td>Crying Game, The (1992)</td>\n",
              "      <td>5</td>\n",
              "      <td>6038</td>\n",
              "      <td>986</td>\n",
              "    </tr>\n",
              "    <tr>\n",
              "      <th>1000206</th>\n",
              "      <td>Welcome to the Dollhouse (1995)</td>\n",
              "      <td>5</td>\n",
              "      <td>6038</td>\n",
              "      <td>311</td>\n",
              "    </tr>\n",
              "    <tr>\n",
              "      <th>1000207</th>\n",
              "      <td>Sophie's Choice (1982)</td>\n",
              "      <td>4</td>\n",
              "      <td>6038</td>\n",
              "      <td>142</td>\n",
              "    </tr>\n",
              "    <tr>\n",
              "      <th>1000208</th>\n",
              "      <td>E.T. the Extra-Terrestrial (1982)</td>\n",
              "      <td>4</td>\n",
              "      <td>6038</td>\n",
              "      <td>26</td>\n",
              "    </tr>\n",
              "  </tbody>\n",
              "</table>\n",
              "<p>836478 rows × 4 columns</p>\n",
              "</div>\n",
              "      <button class=\"colab-df-convert\" onclick=\"convertToInteractive('df-011cbed0-2b3a-484f-91fa-399699902daa')\"\n",
              "              title=\"Convert this dataframe to an interactive table.\"\n",
              "              style=\"display:none;\">\n",
              "        \n",
              "  <svg xmlns=\"http://www.w3.org/2000/svg\" height=\"24px\"viewBox=\"0 0 24 24\"\n",
              "       width=\"24px\">\n",
              "    <path d=\"M0 0h24v24H0V0z\" fill=\"none\"/>\n",
              "    <path d=\"M18.56 5.44l.94 2.06.94-2.06 2.06-.94-2.06-.94-.94-2.06-.94 2.06-2.06.94zm-11 1L8.5 8.5l.94-2.06 2.06-.94-2.06-.94L8.5 2.5l-.94 2.06-2.06.94zm10 10l.94 2.06.94-2.06 2.06-.94-2.06-.94-.94-2.06-.94 2.06-2.06.94z\"/><path d=\"M17.41 7.96l-1.37-1.37c-.4-.4-.92-.59-1.43-.59-.52 0-1.04.2-1.43.59L10.3 9.45l-7.72 7.72c-.78.78-.78 2.05 0 2.83L4 21.41c.39.39.9.59 1.41.59.51 0 1.02-.2 1.41-.59l7.78-7.78 2.81-2.81c.8-.78.8-2.07 0-2.86zM5.41 20L4 18.59l7.72-7.72 1.47 1.35L5.41 20z\"/>\n",
              "  </svg>\n",
              "      </button>\n",
              "      \n",
              "  <style>\n",
              "    .colab-df-container {\n",
              "      display:flex;\n",
              "      flex-wrap:wrap;\n",
              "      gap: 12px;\n",
              "    }\n",
              "\n",
              "    .colab-df-convert {\n",
              "      background-color: #E8F0FE;\n",
              "      border: none;\n",
              "      border-radius: 50%;\n",
              "      cursor: pointer;\n",
              "      display: none;\n",
              "      fill: #1967D2;\n",
              "      height: 32px;\n",
              "      padding: 0 0 0 0;\n",
              "      width: 32px;\n",
              "    }\n",
              "\n",
              "    .colab-df-convert:hover {\n",
              "      background-color: #E2EBFA;\n",
              "      box-shadow: 0px 1px 2px rgba(60, 64, 67, 0.3), 0px 1px 3px 1px rgba(60, 64, 67, 0.15);\n",
              "      fill: #174EA6;\n",
              "    }\n",
              "\n",
              "    [theme=dark] .colab-df-convert {\n",
              "      background-color: #3B4455;\n",
              "      fill: #D2E3FC;\n",
              "    }\n",
              "\n",
              "    [theme=dark] .colab-df-convert:hover {\n",
              "      background-color: #434B5C;\n",
              "      box-shadow: 0px 1px 3px 1px rgba(0, 0, 0, 0.15);\n",
              "      filter: drop-shadow(0px 1px 2px rgba(0, 0, 0, 0.3));\n",
              "      fill: #FFFFFF;\n",
              "    }\n",
              "  </style>\n",
              "\n",
              "      <script>\n",
              "        const buttonEl =\n",
              "          document.querySelector('#df-011cbed0-2b3a-484f-91fa-399699902daa button.colab-df-convert');\n",
              "        buttonEl.style.display =\n",
              "          google.colab.kernel.accessAllowed ? 'block' : 'none';\n",
              "\n",
              "        async function convertToInteractive(key) {\n",
              "          const element = document.querySelector('#df-011cbed0-2b3a-484f-91fa-399699902daa');\n",
              "          const dataTable =\n",
              "            await google.colab.kernel.invokeFunction('convertToInteractive',\n",
              "                                                     [key], {});\n",
              "          if (!dataTable) return;\n",
              "\n",
              "          const docLinkHtml = 'Like what you see? Visit the ' +\n",
              "            '<a target=\"_blank\" href=https://colab.research.google.com/notebooks/data_table.ipynb>data table notebook</a>'\n",
              "            + ' to learn more about interactive tables.';\n",
              "          element.innerHTML = '';\n",
              "          dataTable['output_type'] = 'display_data';\n",
              "          await google.colab.output.renderOutput(dataTable, element);\n",
              "          const docLink = document.createElement('div');\n",
              "          docLink.innerHTML = docLinkHtml;\n",
              "          element.appendChild(docLink);\n",
              "        }\n",
              "      </script>\n",
              "    </div>\n",
              "  </div>\n",
              "  "
            ]
          },
          "metadata": {},
          "execution_count": 77
        }
      ],
      "source": [
        "# indexing을 통해 데이터 컬럼 내 값을 바꾸는 코드\n",
        "# dictionary 자료형의 get 함수는 https://wikidocs.net/16 을 참고하세요.\n",
        "\n",
        "# user_to_idx.get을 통해 user_id 컬럼의 모든 값을 인덱싱한 Series를 구해 봅시다. \n",
        "# 혹시 정상적으로 인덱싱되지 않은 row가 있다면 인덱스가 NaN이 될 테니 dropna()로 제거합니다. \n",
        "temp_user_data = ratings['user_id'].map(user_to_idx.get).dropna()\n",
        "if len(temp_user_data) == len(ratings):   # 모든 row가 정상적으로 인덱싱되었다면\n",
        "    print('user_id column indexing OK!!')\n",
        "    ratings['user_id'] = temp_user_data   # ratings['user_id']을 인덱싱된 Series로 교체해 줍니다. \n",
        "else:\n",
        "    print('user_id column indexing Fail!!')\n",
        "\n",
        "# movie_to_idx을 통해 movie 컬럼도 동일한 방식으로 인덱싱해 줍니다. \n",
        "temp_movie_data = ratings['movie_id'].map(movie_to_idx.get).dropna()\n",
        "if len(temp_movie_data) == len(ratings):\n",
        "    print('movie column indexing OK!!')\n",
        "    ratings['movie_id'] = temp_movie_data\n",
        "else:\n",
        "    print('movie column indexing Fail!!')\n",
        "\n",
        "ratings"
      ]
    },
    {
      "cell_type": "code",
      "execution_count": 78,
      "metadata": {
        "colab": {
          "base_uri": "https://localhost:8080/",
          "height": 206
        },
        "id": "cB-c67t85V1B",
        "outputId": "bfdfb052-e622-4771-b55c-5b9d70a47a42"
      },
      "outputs": [
        {
          "output_type": "execute_result",
          "data": {
            "text/plain": [
              "                             title  counts  user_id  movie_id\n",
              "0  one flew over the cuckoo's nest       5        0         0\n",
              "1        james and the giant peach       3        0         1\n",
              "2                     my fair lady       3        0         2\n",
              "3                  erin brockovich       4        0         3\n",
              "4                    bug's life, a       5        0         4"
            ],
            "text/html": [
              "\n",
              "  <div id=\"df-382d96ef-4e55-4106-bdba-03d83d688abc\">\n",
              "    <div class=\"colab-df-container\">\n",
              "      <div>\n",
              "<style scoped>\n",
              "    .dataframe tbody tr th:only-of-type {\n",
              "        vertical-align: middle;\n",
              "    }\n",
              "\n",
              "    .dataframe tbody tr th {\n",
              "        vertical-align: top;\n",
              "    }\n",
              "\n",
              "    .dataframe thead th {\n",
              "        text-align: right;\n",
              "    }\n",
              "</style>\n",
              "<table border=\"1\" class=\"dataframe\">\n",
              "  <thead>\n",
              "    <tr style=\"text-align: right;\">\n",
              "      <th></th>\n",
              "      <th>title</th>\n",
              "      <th>counts</th>\n",
              "      <th>user_id</th>\n",
              "      <th>movie_id</th>\n",
              "    </tr>\n",
              "  </thead>\n",
              "  <tbody>\n",
              "    <tr>\n",
              "      <th>0</th>\n",
              "      <td>one flew over the cuckoo's nest</td>\n",
              "      <td>5</td>\n",
              "      <td>0</td>\n",
              "      <td>0</td>\n",
              "    </tr>\n",
              "    <tr>\n",
              "      <th>1</th>\n",
              "      <td>james and the giant peach</td>\n",
              "      <td>3</td>\n",
              "      <td>0</td>\n",
              "      <td>1</td>\n",
              "    </tr>\n",
              "    <tr>\n",
              "      <th>2</th>\n",
              "      <td>my fair lady</td>\n",
              "      <td>3</td>\n",
              "      <td>0</td>\n",
              "      <td>2</td>\n",
              "    </tr>\n",
              "    <tr>\n",
              "      <th>3</th>\n",
              "      <td>erin brockovich</td>\n",
              "      <td>4</td>\n",
              "      <td>0</td>\n",
              "      <td>3</td>\n",
              "    </tr>\n",
              "    <tr>\n",
              "      <th>4</th>\n",
              "      <td>bug's life, a</td>\n",
              "      <td>5</td>\n",
              "      <td>0</td>\n",
              "      <td>4</td>\n",
              "    </tr>\n",
              "  </tbody>\n",
              "</table>\n",
              "</div>\n",
              "      <button class=\"colab-df-convert\" onclick=\"convertToInteractive('df-382d96ef-4e55-4106-bdba-03d83d688abc')\"\n",
              "              title=\"Convert this dataframe to an interactive table.\"\n",
              "              style=\"display:none;\">\n",
              "        \n",
              "  <svg xmlns=\"http://www.w3.org/2000/svg\" height=\"24px\"viewBox=\"0 0 24 24\"\n",
              "       width=\"24px\">\n",
              "    <path d=\"M0 0h24v24H0V0z\" fill=\"none\"/>\n",
              "    <path d=\"M18.56 5.44l.94 2.06.94-2.06 2.06-.94-2.06-.94-.94-2.06-.94 2.06-2.06.94zm-11 1L8.5 8.5l.94-2.06 2.06-.94-2.06-.94L8.5 2.5l-.94 2.06-2.06.94zm10 10l.94 2.06.94-2.06 2.06-.94-2.06-.94-.94-2.06-.94 2.06-2.06.94z\"/><path d=\"M17.41 7.96l-1.37-1.37c-.4-.4-.92-.59-1.43-.59-.52 0-1.04.2-1.43.59L10.3 9.45l-7.72 7.72c-.78.78-.78 2.05 0 2.83L4 21.41c.39.39.9.59 1.41.59.51 0 1.02-.2 1.41-.59l7.78-7.78 2.81-2.81c.8-.78.8-2.07 0-2.86zM5.41 20L4 18.59l7.72-7.72 1.47 1.35L5.41 20z\"/>\n",
              "  </svg>\n",
              "      </button>\n",
              "      \n",
              "  <style>\n",
              "    .colab-df-container {\n",
              "      display:flex;\n",
              "      flex-wrap:wrap;\n",
              "      gap: 12px;\n",
              "    }\n",
              "\n",
              "    .colab-df-convert {\n",
              "      background-color: #E8F0FE;\n",
              "      border: none;\n",
              "      border-radius: 50%;\n",
              "      cursor: pointer;\n",
              "      display: none;\n",
              "      fill: #1967D2;\n",
              "      height: 32px;\n",
              "      padding: 0 0 0 0;\n",
              "      width: 32px;\n",
              "    }\n",
              "\n",
              "    .colab-df-convert:hover {\n",
              "      background-color: #E2EBFA;\n",
              "      box-shadow: 0px 1px 2px rgba(60, 64, 67, 0.3), 0px 1px 3px 1px rgba(60, 64, 67, 0.15);\n",
              "      fill: #174EA6;\n",
              "    }\n",
              "\n",
              "    [theme=dark] .colab-df-convert {\n",
              "      background-color: #3B4455;\n",
              "      fill: #D2E3FC;\n",
              "    }\n",
              "\n",
              "    [theme=dark] .colab-df-convert:hover {\n",
              "      background-color: #434B5C;\n",
              "      box-shadow: 0px 1px 3px 1px rgba(0, 0, 0, 0.15);\n",
              "      filter: drop-shadow(0px 1px 2px rgba(0, 0, 0, 0.3));\n",
              "      fill: #FFFFFF;\n",
              "    }\n",
              "  </style>\n",
              "\n",
              "      <script>\n",
              "        const buttonEl =\n",
              "          document.querySelector('#df-382d96ef-4e55-4106-bdba-03d83d688abc button.colab-df-convert');\n",
              "        buttonEl.style.display =\n",
              "          google.colab.kernel.accessAllowed ? 'block' : 'none';\n",
              "\n",
              "        async function convertToInteractive(key) {\n",
              "          const element = document.querySelector('#df-382d96ef-4e55-4106-bdba-03d83d688abc');\n",
              "          const dataTable =\n",
              "            await google.colab.kernel.invokeFunction('convertToInteractive',\n",
              "                                                     [key], {});\n",
              "          if (!dataTable) return;\n",
              "\n",
              "          const docLinkHtml = 'Like what you see? Visit the ' +\n",
              "            '<a target=\"_blank\" href=https://colab.research.google.com/notebooks/data_table.ipynb>data table notebook</a>'\n",
              "            + ' to learn more about interactive tables.';\n",
              "          element.innerHTML = '';\n",
              "          dataTable['output_type'] = 'display_data';\n",
              "          await google.colab.output.renderOutput(dataTable, element);\n",
              "          const docLink = document.createElement('div');\n",
              "          docLink.innerHTML = docLinkHtml;\n",
              "          element.appendChild(docLink);\n",
              "        }\n",
              "      </script>\n",
              "    </div>\n",
              "  </div>\n",
              "  "
            ]
          },
          "metadata": {},
          "execution_count": 78
        }
      ],
      "source": [
        "# 연도를 제외하고 영화 제목을 소문자화하여\n",
        "# 검색하기 쉽도록 합니다.\n",
        "def title_(ele):\n",
        "    if ele[-6] == '(':\n",
        "        ele = ele[:-6]\n",
        "    return str.lower(ele).strip()\n",
        "\n",
        "ratings['title'] = ratings['title'].map(title_)\n",
        "ratings.head()"
      ]
    },
    {
      "cell_type": "code",
      "execution_count": 79,
      "metadata": {
        "id": "3qjWLekiGk0H"
      },
      "outputs": [],
      "source": [
        "# id <--> movie 딕셔너리를 재정의합니다.\n",
        "a = ratings['movie_id']\n",
        "b = ratings['title']\n",
        "\n",
        "id_to_movie = {k:v for k,v in zip(a, b)}\n",
        "movie_to_id = {v:k for k,v in id_to_movie.items()}"
      ]
    },
    {
      "cell_type": "code",
      "execution_count": 80,
      "metadata": {
        "colab": {
          "base_uri": "https://localhost:8080/"
        },
        "id": "bky008tQ5V1B",
        "outputId": "5b2d7c38-8d01-4ae2-a3f2-0839996f5419"
      },
      "outputs": [
        {
          "output_type": "execute_result",
          "data": {
            "text/plain": [
              "title\n",
              "american beauty                                   3211\n",
              "star wars: episode iv - a new hope                2910\n",
              "star wars: episode v - the empire strikes back    2885\n",
              "star wars: episode vi - return of the jedi        2716\n",
              "saving private ryan                               2561\n",
              "terminator 2: judgment day                        2509\n",
              "silence of the lambs, the                         2498\n",
              "raiders of the lost ark                           2473\n",
              "back to the future                                2460\n",
              "matrix, the                                       2434\n",
              "jurassic park                                     2413\n",
              "sixth sense, the                                  2385\n",
              "fargo                                             2371\n",
              "braveheart                                        2314\n",
              "men in black                                      2297\n",
              "schindler's list                                  2257\n",
              "princess bride, the                               2252\n",
              "shakespeare in love                               2213\n",
              "l.a. confidential                                 2210\n",
              "shawshank redemption, the                         2194\n",
              "godfather, the                                    2167\n",
              "groundhog day                                     2121\n",
              "e.t. the extra-terrestrial                        2102\n",
              "being john malkovich                              2066\n",
              "ghostbusters                                      2051\n",
              "pulp fiction                                      2030\n",
              "forrest gump                                      2022\n",
              "terminator, the                                   2019\n",
              "toy story                                         2000\n",
              "fugitive, the                                     1941\n",
              "Name: counts, dtype: int64"
            ]
          },
          "metadata": {},
          "execution_count": 80
        }
      ],
      "source": [
        "top_rating_movies = ratings.groupby('title')['counts'].count().sort_values(ascending=False).head(30)\n",
        "top_rating_movies.columns = 'counts'\n",
        "top_rating_movies"
      ]
    },
    {
      "cell_type": "code",
      "execution_count": 81,
      "metadata": {
        "colab": {
          "base_uri": "https://localhost:8080/"
        },
        "id": "MY4pOcSq5V1C",
        "outputId": "1167a9c7-99f3-4802-ebfc-dac043aa106f"
      },
      "outputs": [
        {
          "output_type": "stream",
          "name": "stdout",
          "text": [
            "True\n",
            "607\n",
            "\n",
            "True\n",
            "175\n",
            "\n",
            "True\n",
            "160\n",
            "\n",
            "True\n",
            "1626\n",
            "\n",
            "True\n",
            "40\n",
            "\n",
            "True\n",
            "124\n",
            "\n"
          ]
        }
      ],
      "source": [
        "# 좋아하는 영화를 추가한 뒤 movies 데이터 프레임에 존재하는지 확인합니다.\n",
        "my_favorite = ['godfather, the', 'men in black', 'forrest gump', 'titanic', 'toy story', 'matrix, the']\n",
        "for my in my_favorite:\n",
        "  print(my in ratings['title'].to_list())\n",
        "  print(movie_to_id[my])\n",
        "  print()"
      ]
    },
    {
      "cell_type": "code",
      "execution_count": 82,
      "metadata": {
        "id": "92vpHPpCHmG7"
      },
      "outputs": [],
      "source": [
        "ls_id =[607, 175, 160, 1626, 40, 124]"
      ]
    },
    {
      "cell_type": "code",
      "execution_count": 83,
      "metadata": {
        "colab": {
          "base_uri": "https://localhost:8080/"
        },
        "id": "B1kvSGgx-kqn",
        "outputId": "b81b7020-86ca-4f06-f91c-451dd65c0083"
      },
      "outputs": [
        {
          "output_type": "execute_result",
          "data": {
            "text/plain": [
              "(6039, 6038)"
            ]
          },
          "metadata": {},
          "execution_count": 83
        }
      ],
      "source": [
        "# 저의 id를 max값 다음으로 넣겠습니다.\n",
        "ratings['user_id'].nunique(), ratings['user_id'].max()"
      ]
    },
    {
      "cell_type": "code",
      "execution_count": 84,
      "metadata": {
        "colab": {
          "base_uri": "https://localhost:8080/",
          "height": 269
        },
        "id": "4doV0uE55V1C",
        "outputId": "f7d4ba7c-298b-4cdb-adf4-760961dc22d5"
      },
      "outputs": [
        {
          "output_type": "execute_result",
          "data": {
            "text/plain": [
              "                              title  counts  user_id  movie_id\n",
              "1000208  e.t. the extra-terrestrial       4     6038        26\n",
              "0                    godfather, the       5     6039       607\n",
              "1                      men in black       5     6039       175\n",
              "2                      forrest gump       5     6039       160\n",
              "3                           titanic       5     6039      1626\n",
              "4                         toy story       5     6039        40\n",
              "5                       matrix, the       5     6039       124"
            ],
            "text/html": [
              "\n",
              "  <div id=\"df-6edaa984-2422-4498-beb8-140e8e829559\">\n",
              "    <div class=\"colab-df-container\">\n",
              "      <div>\n",
              "<style scoped>\n",
              "    .dataframe tbody tr th:only-of-type {\n",
              "        vertical-align: middle;\n",
              "    }\n",
              "\n",
              "    .dataframe tbody tr th {\n",
              "        vertical-align: top;\n",
              "    }\n",
              "\n",
              "    .dataframe thead th {\n",
              "        text-align: right;\n",
              "    }\n",
              "</style>\n",
              "<table border=\"1\" class=\"dataframe\">\n",
              "  <thead>\n",
              "    <tr style=\"text-align: right;\">\n",
              "      <th></th>\n",
              "      <th>title</th>\n",
              "      <th>counts</th>\n",
              "      <th>user_id</th>\n",
              "      <th>movie_id</th>\n",
              "    </tr>\n",
              "  </thead>\n",
              "  <tbody>\n",
              "    <tr>\n",
              "      <th>1000208</th>\n",
              "      <td>e.t. the extra-terrestrial</td>\n",
              "      <td>4</td>\n",
              "      <td>6038</td>\n",
              "      <td>26</td>\n",
              "    </tr>\n",
              "    <tr>\n",
              "      <th>0</th>\n",
              "      <td>godfather, the</td>\n",
              "      <td>5</td>\n",
              "      <td>6039</td>\n",
              "      <td>607</td>\n",
              "    </tr>\n",
              "    <tr>\n",
              "      <th>1</th>\n",
              "      <td>men in black</td>\n",
              "      <td>5</td>\n",
              "      <td>6039</td>\n",
              "      <td>175</td>\n",
              "    </tr>\n",
              "    <tr>\n",
              "      <th>2</th>\n",
              "      <td>forrest gump</td>\n",
              "      <td>5</td>\n",
              "      <td>6039</td>\n",
              "      <td>160</td>\n",
              "    </tr>\n",
              "    <tr>\n",
              "      <th>3</th>\n",
              "      <td>titanic</td>\n",
              "      <td>5</td>\n",
              "      <td>6039</td>\n",
              "      <td>1626</td>\n",
              "    </tr>\n",
              "    <tr>\n",
              "      <th>4</th>\n",
              "      <td>toy story</td>\n",
              "      <td>5</td>\n",
              "      <td>6039</td>\n",
              "      <td>40</td>\n",
              "    </tr>\n",
              "    <tr>\n",
              "      <th>5</th>\n",
              "      <td>matrix, the</td>\n",
              "      <td>5</td>\n",
              "      <td>6039</td>\n",
              "      <td>124</td>\n",
              "    </tr>\n",
              "  </tbody>\n",
              "</table>\n",
              "</div>\n",
              "      <button class=\"colab-df-convert\" onclick=\"convertToInteractive('df-6edaa984-2422-4498-beb8-140e8e829559')\"\n",
              "              title=\"Convert this dataframe to an interactive table.\"\n",
              "              style=\"display:none;\">\n",
              "        \n",
              "  <svg xmlns=\"http://www.w3.org/2000/svg\" height=\"24px\"viewBox=\"0 0 24 24\"\n",
              "       width=\"24px\">\n",
              "    <path d=\"M0 0h24v24H0V0z\" fill=\"none\"/>\n",
              "    <path d=\"M18.56 5.44l.94 2.06.94-2.06 2.06-.94-2.06-.94-.94-2.06-.94 2.06-2.06.94zm-11 1L8.5 8.5l.94-2.06 2.06-.94-2.06-.94L8.5 2.5l-.94 2.06-2.06.94zm10 10l.94 2.06.94-2.06 2.06-.94-2.06-.94-.94-2.06-.94 2.06-2.06.94z\"/><path d=\"M17.41 7.96l-1.37-1.37c-.4-.4-.92-.59-1.43-.59-.52 0-1.04.2-1.43.59L10.3 9.45l-7.72 7.72c-.78.78-.78 2.05 0 2.83L4 21.41c.39.39.9.59 1.41.59.51 0 1.02-.2 1.41-.59l7.78-7.78 2.81-2.81c.8-.78.8-2.07 0-2.86zM5.41 20L4 18.59l7.72-7.72 1.47 1.35L5.41 20z\"/>\n",
              "  </svg>\n",
              "      </button>\n",
              "      \n",
              "  <style>\n",
              "    .colab-df-container {\n",
              "      display:flex;\n",
              "      flex-wrap:wrap;\n",
              "      gap: 12px;\n",
              "    }\n",
              "\n",
              "    .colab-df-convert {\n",
              "      background-color: #E8F0FE;\n",
              "      border: none;\n",
              "      border-radius: 50%;\n",
              "      cursor: pointer;\n",
              "      display: none;\n",
              "      fill: #1967D2;\n",
              "      height: 32px;\n",
              "      padding: 0 0 0 0;\n",
              "      width: 32px;\n",
              "    }\n",
              "\n",
              "    .colab-df-convert:hover {\n",
              "      background-color: #E2EBFA;\n",
              "      box-shadow: 0px 1px 2px rgba(60, 64, 67, 0.3), 0px 1px 3px 1px rgba(60, 64, 67, 0.15);\n",
              "      fill: #174EA6;\n",
              "    }\n",
              "\n",
              "    [theme=dark] .colab-df-convert {\n",
              "      background-color: #3B4455;\n",
              "      fill: #D2E3FC;\n",
              "    }\n",
              "\n",
              "    [theme=dark] .colab-df-convert:hover {\n",
              "      background-color: #434B5C;\n",
              "      box-shadow: 0px 1px 3px 1px rgba(0, 0, 0, 0.15);\n",
              "      filter: drop-shadow(0px 1px 2px rgba(0, 0, 0, 0.3));\n",
              "      fill: #FFFFFF;\n",
              "    }\n",
              "  </style>\n",
              "\n",
              "      <script>\n",
              "        const buttonEl =\n",
              "          document.querySelector('#df-6edaa984-2422-4498-beb8-140e8e829559 button.colab-df-convert');\n",
              "        buttonEl.style.display =\n",
              "          google.colab.kernel.accessAllowed ? 'block' : 'none';\n",
              "\n",
              "        async function convertToInteractive(key) {\n",
              "          const element = document.querySelector('#df-6edaa984-2422-4498-beb8-140e8e829559');\n",
              "          const dataTable =\n",
              "            await google.colab.kernel.invokeFunction('convertToInteractive',\n",
              "                                                     [key], {});\n",
              "          if (!dataTable) return;\n",
              "\n",
              "          const docLinkHtml = 'Like what you see? Visit the ' +\n",
              "            '<a target=\"_blank\" href=https://colab.research.google.com/notebooks/data_table.ipynb>data table notebook</a>'\n",
              "            + ' to learn more about interactive tables.';\n",
              "          element.innerHTML = '';\n",
              "          dataTable['output_type'] = 'display_data';\n",
              "          await google.colab.output.renderOutput(dataTable, element);\n",
              "          const docLink = document.createElement('div');\n",
              "          docLink.innerHTML = docLinkHtml;\n",
              "          element.appendChild(docLink);\n",
              "        }\n",
              "      </script>\n",
              "    </div>\n",
              "  </div>\n",
              "  "
            ]
          },
          "metadata": {},
          "execution_count": 84
        }
      ],
      "source": [
        "# ratings['user_id'].max() is 6038\n",
        "my_list = pd.DataFrame({'user_id': [6039]*6, 'title': my_favorite, 'counts':[5]*6, 'movie_id' : ls_id})\n",
        "ratings = ratings.append(my_list)\n",
        "ratings.tail(7)"
      ]
    },
    {
      "cell_type": "code",
      "execution_count": 85,
      "metadata": {
        "colab": {
          "base_uri": "https://localhost:8080/"
        },
        "id": "ULTgIZr6p2Zs",
        "outputId": "c17873fd-6c96-47cd-9a47-029071e0adc3"
      },
      "outputs": [
        {
          "output_type": "stream",
          "name": "stdout",
          "text": [
            "<class 'pandas.core.frame.DataFrame'>\n",
            "Int64Index: 836484 entries, 0 to 5\n",
            "Data columns (total 4 columns):\n",
            " #   Column    Non-Null Count   Dtype \n",
            "---  ------    --------------   ----- \n",
            " 0   title     836484 non-null  object\n",
            " 1   counts    836484 non-null  int64 \n",
            " 2   user_id   836484 non-null  int64 \n",
            " 3   movie_id  836484 non-null  int64 \n",
            "dtypes: int64(3), object(1)\n",
            "memory usage: 31.9+ MB\n"
          ]
        }
      ],
      "source": [
        "# 결측치가 존재하는지 확인\n",
        "ratings.info()"
      ]
    },
    {
      "cell_type": "markdown",
      "metadata": {
        "id": "nT9JCImn_IbO"
      },
      "source": [
        "### Modeling\n",
        "___"
      ]
    },
    {
      "cell_type": "code",
      "execution_count": 86,
      "metadata": {
        "colab": {
          "base_uri": "https://localhost:8080/"
        },
        "id": "CjyOH8Jt_l0R",
        "outputId": "ade2df74-0bcd-422b-a92a-b9bec7f1be4b"
      },
      "outputs": [
        {
          "output_type": "execute_result",
          "data": {
            "text/plain": [
              "<6040x3628 sparse matrix of type '<class 'numpy.longlong'>'\n",
              "\twith 836484 stored elements in Compressed Sparse Row format>"
            ]
          },
          "metadata": {},
          "execution_count": 86
        }
      ],
      "source": [
        "num_user = ratings['user_id'].nunique()\n",
        "num_movie = ratings['movie_id'].nunique()\n",
        "\n",
        "csr_data = csr_matrix((ratings.counts, (ratings.user_id, ratings.movie_id)), shape= (num_user, num_movie))\n",
        "csr_data"
      ]
    },
    {
      "cell_type": "code",
      "execution_count": 87,
      "metadata": {
        "colab": {
          "base_uri": "https://localhost:8080/"
        },
        "id": "_swVe-1DAT0u",
        "outputId": "f1e7dfa9-2e16-4443-e7f4-2b1f7c7b7595"
      },
      "outputs": [
        {
          "output_type": "execute_result",
          "data": {
            "text/plain": [
              "(6040, 3628)"
            ]
          },
          "metadata": {},
          "execution_count": 87
        }
      ],
      "source": [
        "# Matrix row x column 확인\n",
        "num_user, num_movie"
      ]
    },
    {
      "cell_type": "code",
      "execution_count": 111,
      "metadata": {
        "colab": {
          "base_uri": "https://localhost:8080/"
        },
        "id": "77oD6wFbQDh_",
        "outputId": "85abf394-a5c1-4e6a-9921-43f10b584ad5"
      },
      "outputs": [
        {
          "output_type": "execute_result",
          "data": {
            "text/plain": [
              "{'dtype': numpy.float32,\n",
              " 'factors': 1000,\n",
              " 'iterations': 30000,\n",
              " 'regularization': 0.0001,\n",
              " 'use_gpu': True}"
            ]
          },
          "metadata": {},
          "execution_count": 111
        }
      ],
      "source": [
        "# Configuration of Model\n",
        "dict_ = dict(factors=1000, regularization=0.0001, use_gpu=True, iterations=30000, dtype=np.float32)\n",
        "dict_"
      ]
    },
    {
      "cell_type": "code",
      "execution_count": 112,
      "metadata": {
        "id": "LfAWqwLT1RRo"
      },
      "outputs": [],
      "source": [
        "als_model = AlternatingLeastSquares(**dict_)"
      ]
    },
    {
      "cell_type": "code",
      "execution_count": 113,
      "metadata": {
        "colab": {
          "base_uri": "https://localhost:8080/",
          "height": 49,
          "referenced_widgets": [
            "2bff6f7d0f1b409bbfe752a81a8d9bdb",
            "df3aeb4c805843ea8b5d745d83dafc9a",
            "375c9e21db384aff86ed11b0b70d4860",
            "7a579db2e3bd421a8245e93432ce3754",
            "b3d97a9c864e4ff8b7b6698cef222f51",
            "9c6bdf66daf541089a475f6a26971fcc",
            "116ba7ff22aa451b9279e143a52c295a",
            "d998f9318cb340f2869c0165bbd03cd8",
            "e8f3186137a942d8aa325386a96f92bc",
            "7852265a584f4c14af14493a77c61c09",
            "f487eda5cf854815a0da3b82f3804b85"
          ]
        },
        "id": "LaA0ZKQN1MW2",
        "outputId": "4b6989b6-e2cc-47e9-d4a1-10c2b24d5f93"
      },
      "outputs": [
        {
          "data": {
            "application/vnd.jupyter.widget-view+json": {
              "model_id": "2bff6f7d0f1b409bbfe752a81a8d9bdb",
              "version_major": 2,
              "version_minor": 0
            },
            "text/plain": [
              "  0%|          | 0/30000 [00:00<?, ?it/s]"
            ]
          },
          "metadata": {},
          "output_type": "display_data"
        }
      ],
      "source": [
        "# aiffel cloud환경에서 implicit version : 0.4.8\n",
        "# colab 환경에서 implicit version : 0.5.2\n",
        "# csr_data의 transpose는 aiffel환경에서만 필요한 것같다.\n",
        "\n",
        "als_model.fit(csr_data)"
      ]
    },
    {
      "cell_type": "code",
      "execution_count": 91,
      "metadata": {
        "id": "Pv_JJy5RiUDr"
      },
      "outputs": [],
      "source": [
        "# 모델이 history를 반환하는 것을 확인해보았더니\n",
        "# 아무것도 반환하지 않고 활용할 수 있는것도 없네요\n",
        "als_model?"
      ]
    },
    {
      "cell_type": "code",
      "execution_count": 114,
      "metadata": {
        "id": "3VJPngru8VaD"
      },
      "outputs": [],
      "source": [
        "# 유저는 처음부터 index되어 있었기에\n",
        "# length - 1 값으로 대입\n",
        "titanic = movie_to_id['titanic']\n",
        "my_vector, titanic_vector = als_model.user_factors[6039], als_model.item_factors[titanic]"
      ]
    },
    {
      "cell_type": "code",
      "execution_count": 115,
      "metadata": {
        "colab": {
          "base_uri": "https://localhost:8080/"
        },
        "id": "_tsFSuYe-G9m",
        "outputId": "7d39dce3-4012-4f83-be7f-8fa2156ab75f"
      },
      "outputs": [
        {
          "output_type": "execute_result",
          "data": {
            "text/plain": [
              "Matrix([[-5.49751939e-03  3.31124291e-02 -5.27904183e-02 -5.91633506e-02\n",
              "   9.38164890e-02 -5.72143793e-02 -1.09355450e-02  3.36916745e-02\n",
              "  -4.63183075e-02  1.18602231e-01  5.03438041e-02 -6.84403162e-03\n",
              "   1.66688591e-01 -7.07838759e-02 -2.00761873e-02  9.51767936e-02\n",
              "  -3.38523202e-02 -5.99106625e-02 -7.89882615e-02 -5.45236208e-02\n",
              "   4.59660478e-02  3.74794304e-02 -8.31061751e-02 -1.12100832e-01\n",
              "  -3.68615948e-02  9.87141281e-02  6.97599575e-02 -1.05432823e-01\n",
              "  -4.01524454e-02 -1.54032841e-01  1.09464996e-01 -1.68287102e-03\n",
              "   6.12985454e-02 -1.93929002e-02 -3.00223976e-02 -5.48625514e-02\n",
              "   8.64231139e-02  9.39319804e-02  9.03220568e-03  4.42842618e-02\n",
              "   4.67040874e-02  1.39478575e-02  1.16653681e-01 -1.88150898e-01\n",
              "   1.06934793e-01  6.96910098e-02 -2.93118004e-02 -6.77747801e-02\n",
              "  -9.04228315e-02  9.93331298e-02  4.24652807e-02 -3.24313045e-02\n",
              "  -1.26462933e-02  4.77715349e-03 -1.55816751e-03 -3.85232270e-02\n",
              "   1.01008072e-01 -4.50075045e-02 -2.39725951e-02 -5.60297072e-02\n",
              "  -5.56355976e-02 -1.47793991e-02 -6.97635040e-02 -9.23280343e-02\n",
              "   4.45446894e-02  3.32807377e-02 -5.96495084e-02  4.01063859e-02\n",
              "   8.27096496e-03 -8.73271842e-03 -5.30294441e-02 -7.72456219e-03\n",
              "  -5.18617332e-02  1.33013101e-02 -2.91995425e-02  8.84439126e-02\n",
              "  -3.45770195e-02  7.15069026e-02  5.79339303e-02  4.04450344e-03\n",
              "  -3.09792049e-02  4.02455870e-03 -2.03226283e-01 -4.41746339e-02\n",
              "   8.15743357e-02  4.20054281e-03  1.72785241e-02  7.79077038e-02\n",
              "  -6.23471290e-02 -4.99909855e-02 -5.92396706e-02  2.04311386e-02\n",
              "   4.87728007e-02 -2.15184353e-02  1.29611641e-01  6.14186041e-02\n",
              "  -9.41235423e-02 -8.16965289e-03 -5.60735390e-02  4.74862605e-02\n",
              "  -4.73710820e-02 -6.76158667e-02  5.13691641e-02 -2.01013684e-02\n",
              "  -2.96668634e-02 -1.23999514e-01  2.58212257e-03  6.51684403e-02\n",
              "   9.46392247e-04  2.88398415e-02  1.46996960e-01  1.64220154e-01\n",
              "  -1.85147040e-02  1.32975355e-01 -5.30517660e-03 -5.49031124e-02\n",
              "   4.01923880e-02 -2.89377347e-02 -4.84925434e-02  5.08015268e-02\n",
              "  -4.01691049e-02  7.45114461e-02 -6.42793328e-02 -8.10951069e-02\n",
              "  -1.29814252e-01 -4.02672887e-02 -4.53591608e-02  8.36850926e-02\n",
              "   7.06402026e-03  9.12945122e-02  2.38562692e-02 -5.32020144e-02\n",
              "  -3.13810036e-02  1.89473550e-03 -2.56982520e-02 -7.37403333e-02\n",
              "  -6.61952468e-03 -9.24759880e-02 -1.51360959e-01 -2.63393000e-02\n",
              "  -7.67624006e-02  1.73685830e-02 -1.55657843e-01 -6.24228679e-02\n",
              "  -6.13352619e-02 -4.61772121e-02 -4.33393605e-02 -2.09152345e-02\n",
              "  -9.09456238e-02  9.70088020e-02  9.66806710e-02 -9.15201381e-02\n",
              "  -9.03530419e-02 -7.28631094e-02  1.28573582e-01 -1.16828367e-01\n",
              "   2.37555313e-03  4.34024353e-03 -1.07957475e-01 -6.00098409e-02\n",
              "  -2.69564781e-02  1.47868032e-02 -5.83628006e-02 -6.67068958e-02\n",
              "   1.03856266e-01  1.11931875e-01  4.37499397e-02 -1.96837354e-02\n",
              "   6.49349764e-02  1.19305998e-01 -8.99029970e-02  1.85650736e-02\n",
              "   1.56681329e-01 -1.91415057e-01  6.11140057e-02 -1.13348188e-02\n",
              "   3.05548776e-02 -3.82406935e-02 -1.33847650e-02  1.03785850e-01\n",
              "   1.72407422e-02  4.08436917e-02  8.54840353e-02  6.32143244e-02\n",
              "  -4.76151556e-02  6.95719719e-02 -1.21200737e-02 -9.86782275e-03\n",
              "   3.57063413e-02 -2.33291760e-02 -6.00152984e-02 -1.14312512e-03\n",
              "  -1.27587333e-01  5.37564754e-02  3.64387035e-02 -2.55292635e-02\n",
              "  -9.63312536e-02 -4.01654281e-03 -1.04446359e-01  3.66560780e-02\n",
              "   6.36328533e-02 -2.96060052e-02  7.16280192e-02  1.31845726e-02\n",
              "  -1.25550359e-01 -1.28223687e-01 -1.55470505e-01  2.84771211e-02\n",
              "   3.83388065e-02 -6.84348168e-03  3.93223651e-02 -2.51378724e-03\n",
              "   8.00218657e-02  7.70049170e-02 -6.17664009e-02  1.09203957e-01\n",
              "  -5.67274261e-03  1.93159729e-02 -7.16073392e-03 -7.15034828e-02\n",
              "   4.46424559e-02  6.60267621e-02 -1.49851395e-02  6.33518621e-02\n",
              "  -3.96134704e-02  1.50094228e-03  7.71203116e-02  3.56425978e-02\n",
              "   2.62220111e-02  2.30601802e-02 -1.75961450e-01 -7.92419724e-03\n",
              "   1.95984375e-02 -7.94502497e-02 -1.25059679e-01  7.79564166e-03\n",
              "  -5.17555699e-02 -3.24345306e-02 -2.61390239e-01 -3.58198434e-02\n",
              "   1.41667053e-02 -1.89012848e-02 -6.28545601e-03  6.76044030e-03\n",
              "  -1.85815885e-03 -6.38119504e-02 -1.35277763e-01 -1.01329580e-01\n",
              "  -1.13953479e-01 -1.89529788e-02  1.18383862e-01  3.87097411e-02\n",
              "  -7.41358753e-03  1.34750511e-02  8.19320977e-02 -6.00345135e-02\n",
              "  -7.02742562e-02 -1.57778244e-02 -6.22717813e-02  2.09935624e-02\n",
              "   7.50475079e-02  1.73593052e-02  1.09348476e-01 -1.60191525e-02\n",
              "  -7.51837268e-02 -3.31653208e-02 -2.15552319e-02  1.56663768e-02\n",
              "  -8.11924925e-04 -5.32080606e-02  7.07822815e-02 -9.66085792e-02\n",
              "  -4.28094296e-03  2.70166527e-02  7.22861961e-02  7.97361657e-02\n",
              "  -1.27758412e-02  6.44319654e-02  7.95653649e-03  8.98587182e-02\n",
              "   6.75656721e-02  1.01700075e-01  1.15564518e-01 -6.23668469e-02\n",
              "   2.81600785e-02  1.32780969e-01  9.77586433e-02  2.84101367e-02\n",
              "  -3.02782692e-02  8.69135931e-02 -3.57955098e-02 -1.39097080e-01\n",
              "   2.56761890e-02 -6.72380105e-02  4.21462990e-02  2.61832681e-02\n",
              "   1.36711681e-02  2.10046694e-02 -9.88212526e-02  1.06931001e-01\n",
              "  -5.07595465e-02  1.10537201e-01  1.06073976e-01 -1.21158414e-01\n",
              "   8.31450243e-03 -1.37116909e-01  3.27274092e-02  9.93175209e-02\n",
              "  -8.17540139e-02  8.81166570e-03 -3.90097126e-02 -1.52012393e-01\n",
              "  -1.08365817e-02 -9.57613438e-02 -1.23029023e-01 -4.71511260e-02\n",
              "   4.70396737e-03 -2.91344896e-02  2.82148328e-02  9.21261385e-02\n",
              "  -8.90391096e-02 -1.73007846e-02 -3.00102327e-02  9.45311319e-03\n",
              "   5.12227928e-03  3.00288666e-02  8.30741450e-02  1.15165234e-01\n",
              "   1.16180244e-03 -8.86326134e-02 -7.82405064e-02 -1.90657973e-02\n",
              "  -4.45279572e-03  2.17466354e-02 -9.09350216e-02  6.69688582e-02\n",
              "  -1.15289856e-02  7.85182267e-02  3.75860855e-02  2.71706600e-02\n",
              "   2.49445401e-02  4.01261337e-02 -3.66269425e-02 -2.88732871e-02\n",
              "   7.04058409e-02 -4.82579358e-02 -1.61409721e-01 -5.08663952e-02\n",
              "   3.47020365e-02  7.74898231e-02 -1.53319277e-02  1.34990260e-01\n",
              "  -8.05772990e-02 -1.69333834e-02 -5.78107946e-02 -6.81655705e-02\n",
              "  -5.31542748e-02 -1.10480316e-01 -6.67721480e-02  5.48804514e-02\n",
              "  -1.25956982e-01  1.16095304e-01 -6.45535905e-03  1.37826115e-01\n",
              "   1.59999698e-01  7.73691162e-02  1.50703089e-02  7.07143918e-03\n",
              "   1.47093788e-01  2.52566617e-02  1.72882397e-02  1.34629190e-01\n",
              "  -1.35094732e-01  3.21381502e-02 -6.33939579e-02 -3.45654637e-02\n",
              "  -7.81081095e-02  2.09557321e-02 -3.38900946e-02  1.35764107e-02\n",
              "   5.96934035e-02  2.05229037e-02 -1.83500126e-01 -9.83802415e-03\n",
              "   2.56576017e-02  4.47952040e-02 -1.64789081e-01 -4.16826606e-02\n",
              "  -7.27432966e-02  1.72303677e-01 -1.44721158e-02 -3.89447771e-02\n",
              "  -1.71063378e-01  4.24846355e-03 -7.80813955e-03 -1.79122761e-03\n",
              "   5.20225102e-03 -1.66904792e-01 -1.77811831e-02  7.84443915e-02\n",
              "   1.50979254e-02  2.46579815e-02  9.02536660e-02 -1.07928105e-02\n",
              "   2.34914143e-02 -2.03170031e-02  6.00112900e-02 -1.95443071e-02\n",
              "   4.76981662e-02  9.08907950e-02  1.43651545e-01  1.50881976e-01\n",
              "   5.37729338e-02  3.56065929e-02  3.21374252e-03 -1.14142865e-01\n",
              "   4.66333190e-03  6.11648373e-02 -7.23965093e-02 -5.86733371e-02\n",
              "   1.78224951e-01 -3.33853327e-02  8.12958032e-02  1.85866971e-02\n",
              "  -1.52018905e-01  1.44278482e-02 -1.06081262e-01  1.27923340e-01\n",
              "   7.81962052e-02 -1.13099895e-01  9.53266993e-02 -2.06499621e-02\n",
              "  -2.84829028e-02  6.19743317e-02  4.27498762e-03  6.70509040e-02\n",
              "  -8.29557553e-02  1.02154300e-01 -1.62673712e-01 -5.65011939e-03\n",
              "   1.00081287e-01 -9.55189839e-02 -1.31411548e-03 -2.77537052e-02\n",
              "   7.90313631e-03  5.11023849e-02 -1.62403390e-01  4.82151546e-02\n",
              "   1.79820566e-03 -4.48070206e-02  1.11668929e-01 -7.57606551e-02\n",
              "   9.47800931e-03 -2.28114408e-02  8.20068642e-02 -5.18937595e-02\n",
              "   7.56570995e-02 -1.00535996e-01 -1.14039361e-01  1.17752723e-01\n",
              "  -4.16372307e-02 -6.99843615e-02  4.27794196e-02  1.61011852e-02\n",
              "   3.01758684e-02 -2.18999684e-02  2.86819432e-02  5.78035638e-02\n",
              "   1.26307802e-02  8.79029930e-02 -7.28875622e-02 -1.14341125e-01\n",
              "  -2.46462692e-02 -9.66868326e-02  1.06120430e-01  3.92197212e-03\n",
              "   1.13826491e-01 -6.51158318e-02  4.00923602e-02  1.00009106e-02\n",
              "  -1.63477995e-02  1.36765167e-01 -1.10012516e-01 -4.70061451e-02\n",
              "  -8.48981291e-02  2.18891382e-01  9.87117067e-02  4.32047434e-02\n",
              "   9.88962948e-02  1.68406144e-02 -1.09605663e-01  5.42182177e-02\n",
              "  -3.10025793e-02  2.59866267e-02  1.72898263e-01  3.78891267e-02\n",
              "  -3.22880805e-03  5.38321286e-02 -3.80256437e-02  1.29712358e-01\n",
              "   1.06564285e-02  3.55210528e-02 -1.51321232e-01  6.93407282e-03\n",
              "  -1.00322641e-01 -3.20073925e-02  8.47635344e-02 -4.00244072e-02\n",
              "   3.43028605e-02  1.04951687e-01  9.53469202e-02  2.14639343e-02\n",
              "  -8.28873366e-02  4.99787508e-03 -6.75144121e-02  1.12292962e-02\n",
              "  -9.74377766e-02 -5.13218381e-02  3.22847324e-03  1.99524924e-01\n",
              "  -5.25648333e-02  2.66057514e-02 -3.82229872e-02  6.38618991e-02\n",
              "   1.55417442e-01  6.13325182e-03  1.24617316e-01  8.80726278e-02\n",
              "  -4.10454646e-02 -2.02634299e-04 -1.25244521e-02  6.20277002e-02\n",
              "  -9.33232531e-03 -9.98105183e-02 -9.62046161e-02  1.67759489e-02\n",
              "   1.97960455e-02  9.37043801e-02 -5.94744310e-02 -8.74837264e-02\n",
              "  -2.32887864e-02 -6.15086555e-02 -9.58672464e-02  9.27174836e-03\n",
              "   5.69295511e-02  3.19425133e-03  2.85063032e-02 -1.28292963e-01\n",
              "  -2.32482031e-02 -4.57491577e-02 -7.21225841e-03  2.64579579e-02\n",
              "   8.06706026e-02 -5.93898371e-02 -8.09733942e-02 -5.96321076e-02\n",
              "   3.77778262e-02  9.58780497e-02 -9.71111134e-02 -2.14598086e-02\n",
              "   6.88387267e-03 -1.43302336e-01 -2.81480309e-02  4.81384769e-02\n",
              "  -7.91712329e-02 -1.10547960e-01  6.80498406e-02  8.41345489e-02\n",
              "   7.45458156e-02 -5.11700213e-02  1.05721310e-01 -7.67001435e-02\n",
              "  -3.87170129e-02 -6.82855025e-02 -4.00771573e-02  6.11909442e-02\n",
              "  -8.99088308e-02  6.35557473e-02 -2.37284154e-02 -1.10958561e-01\n",
              "   3.79496813e-02 -6.07481338e-02 -4.32855636e-02  5.76093160e-02\n",
              "  -5.67807965e-02  1.22493751e-01 -5.77007420e-03 -2.39859466e-02\n",
              "  -1.42517185e-03 -2.12421656e-01  2.77426224e-02  2.77624838e-02\n",
              "   1.02942940e-02 -5.70630506e-02 -9.52023566e-02 -1.53392684e-02\n",
              "   3.78873870e-02  1.48877176e-02 -3.36253569e-02  1.11798964e-01\n",
              "  -4.49667089e-02  1.02304570e-01 -5.46633750e-02 -5.71474731e-02\n",
              "   1.86077923e-01 -4.46549207e-02 -1.91438869e-02 -5.84653486e-03\n",
              "  -6.97041349e-03  3.10292095e-02 -2.65671145e-02  6.11768886e-02\n",
              "   1.48591781e-02 -9.57354084e-02  1.51696391e-02 -4.72987816e-02\n",
              "   7.60536790e-02  2.35273074e-02  5.20304441e-02 -5.48573025e-02\n",
              "  -2.66505014e-02 -1.17176719e-01 -8.28308910e-02  1.31784547e-02\n",
              "   3.92018184e-02 -7.42261335e-02  8.15444663e-02  5.65289594e-02\n",
              "   5.09787258e-03 -1.03380412e-01 -3.26197930e-02  4.53448407e-02\n",
              "  -3.78017016e-02 -1.12893365e-01 -1.37189683e-02 -1.11259064e-02\n",
              "  -1.30120128e-01 -1.23195173e-02 -4.05642204e-03 -3.05795446e-02\n",
              "  -6.25405014e-02  9.33503266e-04 -7.15870112e-02 -7.68871326e-03\n",
              "   5.46616092e-02  1.00101538e-01  8.06358978e-02 -4.18238752e-02\n",
              "   5.54785095e-02  1.04146212e-01  9.68836173e-02 -5.63814454e-02\n",
              "  -5.58548374e-04 -1.16579503e-01 -2.51223706e-02 -8.55319872e-02\n",
              "  -6.38654232e-02 -1.41407400e-02 -1.37497172e-01 -8.27802867e-02\n",
              "   6.00235313e-02 -6.93132589e-03  4.23331000e-02 -1.68886572e-01\n",
              "  -7.29406476e-02 -2.83196177e-02  1.40411511e-01 -8.12905580e-02\n",
              "   9.73253846e-02 -9.32938010e-02 -1.46314939e-02  8.00744891e-02\n",
              "  -7.29396716e-02  6.09480701e-02  1.05369151e-01  1.33429006e-01\n",
              "  -5.14404066e-02 -4.78184633e-02 -3.48717463e-03  4.60269973e-02\n",
              "   5.94350547e-02  5.86587302e-02 -1.22801349e-01 -4.34902050e-02\n",
              "  -1.07106951e-03 -3.25453877e-02 -2.00550571e-01 -3.58317755e-02\n",
              "   6.75967038e-02  1.19479373e-02 -4.89411410e-03  2.58485544e-02\n",
              "  -8.82304534e-02  5.63332401e-02  2.36841906e-02 -1.23819157e-01\n",
              "   3.66245545e-02  1.31519750e-01  8.90603364e-02 -1.15218535e-01\n",
              "  -9.92900357e-02 -1.47082746e-01  3.38940211e-02  4.83798124e-02\n",
              "  -7.67017016e-03  1.14923522e-01 -1.65414310e-03 -2.49951426e-02\n",
              "   6.62298175e-03 -7.88233504e-02  8.77226442e-02  3.29172239e-02\n",
              "   3.88651527e-02 -1.39080554e-01 -9.51833501e-02 -2.49878000e-02\n",
              "   2.52287369e-02 -5.88528626e-02  6.86630234e-02 -8.37606937e-02\n",
              "  -1.13204233e-02 -4.08744253e-02 -1.42968386e-01  8.20569173e-02\n",
              "   2.79158112e-02  2.38471888e-02  3.94135341e-02  1.00192111e-02\n",
              "  -5.79682961e-02  1.01146670e-02  1.15561582e-01 -6.76878691e-02\n",
              "   5.86082749e-02 -4.14330475e-02  8.87972638e-02  6.89312890e-02\n",
              "  -7.27659091e-02  4.13153023e-02 -4.65224087e-02 -1.26568213e-01\n",
              "   1.50371850e-01 -1.64345577e-02  7.73770958e-02 -2.61551533e-02\n",
              "  -8.33458975e-02 -8.64996687e-02  1.69550329e-01  9.15328562e-02\n",
              "  -2.69327164e-02  2.73826346e-02  9.50417146e-02 -7.00557828e-02\n",
              "   8.58479664e-02  2.75200829e-02  6.90680416e-03 -1.18803404e-01\n",
              "   4.53740358e-02 -6.06487785e-03 -5.45377024e-02  1.31864324e-01\n",
              "  -1.75065011e-01  1.60358157e-02 -9.50261503e-02  3.48942797e-03\n",
              "  -1.25706032e-01 -1.21334055e-02 -3.96073284e-03  6.67127548e-04\n",
              "  -1.27885267e-01 -8.60243589e-02  5.32758161e-02  4.15570587e-02\n",
              "  -7.89306015e-02  1.57653075e-02  2.34195702e-02  7.54645318e-02\n",
              "   3.11294645e-02 -1.23402327e-01  1.02123238e-01  1.51237119e-02\n",
              "   7.09216669e-03 -1.01572402e-01  6.89797848e-02  1.21277124e-01\n",
              "   7.29964897e-02 -9.62163433e-02  2.62884097e-03 -1.61965564e-01\n",
              "   1.04413316e-01  8.57545063e-02  1.11539224e-02  8.16836357e-02\n",
              "   8.99471343e-02 -7.81868249e-02  9.88169312e-02 -2.69070752e-02\n",
              "  -1.10802688e-01  1.72530353e-01  1.94398150e-01  1.62664633e-02\n",
              "   5.13105094e-02 -9.84380394e-02  9.08575132e-02 -8.87466446e-02\n",
              "   9.29143932e-03 -1.34867914e-02  1.86862648e-02 -2.79252441e-03\n",
              "  -2.03118958e-02  1.08660534e-01  1.25090376e-01  1.44496812e-02\n",
              "   7.28237256e-02 -4.58547706e-03  4.01674099e-02 -1.27715155e-01\n",
              "  -2.48457305e-02 -8.82379264e-02 -2.47368347e-02 -3.34991738e-02\n",
              "  -3.07143629e-02  6.52637258e-02  1.70069411e-02  4.85602021e-02\n",
              "   2.01530252e-02  2.73203831e-02 -2.48631351e-02  9.09861550e-02\n",
              "  -2.53494009e-02 -1.13568753e-01  1.23934262e-01  1.05454206e-01\n",
              "  -1.27079589e-02 -2.19154600e-02 -1.56544261e-02 -5.18771671e-02\n",
              "   3.50566879e-02 -2.56047230e-02 -1.42431870e-01  6.42594919e-02\n",
              "  -7.55142942e-02 -1.84607536e-01  3.38810608e-02 -1.48550831e-02\n",
              "  -3.02905329e-02  5.53781390e-02  9.44677442e-02  2.05862727e-02\n",
              "  -5.58533557e-02  1.18560635e-01  1.41064659e-01 -3.06496974e-02\n",
              "   1.19641833e-01 -1.81801915e-01 -1.54580604e-02 -4.62792069e-02\n",
              "  -2.72624642e-02 -3.39218453e-02 -9.91807207e-02  1.06042020e-01\n",
              "  -6.84326515e-03 -5.40583134e-02  5.22543453e-02  5.93527500e-03\n",
              "   3.94672342e-02  4.28829007e-02  1.31832793e-01  4.38508391e-02\n",
              "   1.36691099e-02  5.25136925e-02  1.83215067e-01 -1.69067662e-02\n",
              "  -1.13648921e-03 -9.20581147e-02  2.08523199e-02 -1.00886181e-01\n",
              "  -1.20064735e-01 -2.36736983e-02 -5.71196899e-02 -1.28407925e-01\n",
              "   5.57506755e-02 -3.06259841e-02  3.63876373e-02 -6.18547946e-02\n",
              "  -5.31577431e-02  1.13765538e-01 -9.26402882e-02 -3.48103568e-02\n",
              "   1.50742576e-01  1.97479017e-02  1.31095245e-01  2.60148868e-02\n",
              "  -1.05754234e-01 -9.62607786e-02 -7.32499436e-02  8.89345407e-02\n",
              "   2.51849174e-01 -2.12443899e-02 -6.42368719e-02  6.30110428e-02\n",
              "   1.20078221e-01  6.60130754e-02  4.79335748e-02  1.40199289e-01\n",
              "   2.13494729e-02 -8.65219086e-02 -6.45260438e-02  2.15504766e-02\n",
              "  -8.28738734e-02 -4.24697585e-02  3.40733374e-03 -9.90310237e-02\n",
              "   3.11178453e-02 -5.89755811e-02  1.47438915e-02 -1.19645067e-01\n",
              "  -8.94080698e-02 -5.94902027e-04 -1.38023779e-01  6.39508069e-02\n",
              "  -2.07761563e-02  2.85701267e-02 -5.10203429e-02  4.25574705e-02\n",
              "  -5.61006442e-02  6.67070746e-02 -7.97848776e-02  1.11720664e-02\n",
              "  -1.82539504e-02 -2.27027759e-01  5.39983027e-02 -6.73289448e-02\n",
              "  -8.17991514e-03 -3.32330912e-02 -4.31621820e-02 -2.26924866e-02\n",
              "   7.45506063e-02 -1.77465901e-02 -4.61162552e-02  5.94996251e-02\n",
              "   1.27693564e-01 -7.80258849e-02  2.43347026e-02  9.97778401e-02\n",
              "  -4.39387746e-02  8.24970473e-03  2.07203589e-02  7.85214752e-02\n",
              "   4.91715223e-02  1.11800954e-01  2.10261089e-03  3.32872346e-02\n",
              "  -1.24724440e-01  3.38266976e-02  1.65864751e-01 -3.95413786e-02\n",
              "   3.86904329e-02 -5.30228624e-03 -3.17439088e-03 -1.77649856e-01\n",
              "  -1.33194074e-01  1.04012229e-01 -9.72748026e-02 -1.26298308e-01\n",
              "   7.88491368e-02 -1.13199547e-01 -2.58442597e-03  8.00331235e-02\n",
              "   2.36332640e-01  1.17856577e-01 -1.12200283e-01 -1.71522459e-03\n",
              "  -8.25680792e-02  1.63168199e-02  2.24805027e-01  8.19472224e-02\n",
              "  -1.19391434e-01 -4.19205762e-02  9.08325426e-03 -1.69121269e-02\n",
              "   8.86058360e-02  2.74723977e-01  3.98967275e-03 -1.12630390e-01\n",
              "   4.17094119e-02  7.84080923e-02 -3.91842313e-02 -6.21224195e-02\n",
              "  -1.70264095e-01  7.18752891e-02 -1.88233018e-01 -4.09530886e-02\n",
              "   1.15201855e-02  1.78820677e-02 -1.06451944e-01  3.19192484e-02\n",
              "  -1.53474286e-02  5.67292236e-02 -5.07450029e-02  5.18722124e-02]])"
            ]
          },
          "metadata": {},
          "execution_count": 115
        }
      ],
      "source": [
        "my_vector"
      ]
    },
    {
      "cell_type": "code",
      "execution_count": 116,
      "metadata": {
        "colab": {
          "base_uri": "https://localhost:8080/"
        },
        "id": "9dt_Kwvz_QP2",
        "outputId": "3a1aa5a5-6d7a-48cf-9402-7a85e64969a4"
      },
      "outputs": [
        {
          "output_type": "execute_result",
          "data": {
            "text/plain": [
              "Matrix([[-3.08644236e-03 -1.26547236e-02 -4.87071313e-02 -5.95807545e-02\n",
              "   9.04280692e-02 -2.45258342e-02  6.86027016e-03  1.56147219e-03\n",
              "  -8.17718823e-03  4.42911647e-02  4.14472632e-02 -2.27536145e-03\n",
              "  -4.75000357e-03  4.09110449e-03 -1.14378510e-02  4.20534015e-02\n",
              "   2.66308547e-03  2.13193856e-02 -3.00285909e-02 -2.11802926e-02\n",
              "  -3.67777720e-02 -1.69554986e-02 -4.54403386e-02 -1.92715302e-02\n",
              "   5.13796834e-03  2.38904655e-02  3.44464625e-03 -5.37374988e-03\n",
              "  -2.26396974e-02 -1.75303202e-02  2.58368975e-03  5.13221361e-02\n",
              "  -1.20372726e-02 -1.47177884e-03 -1.02155684e-02  2.06841869e-04\n",
              "  -1.47220714e-03  1.18083227e-02 -1.05377836e-02  2.82025151e-02\n",
              "   7.02104019e-03  1.60230063e-02  3.56358662e-03 -3.29516316e-03\n",
              "   5.74108539e-03  1.28471414e-02 -2.39825584e-02  1.06805833e-02\n",
              "   1.22822085e-02  1.03235254e-02  1.32977320e-02 -1.92087162e-02\n",
              "  -8.32315627e-03 -2.64236387e-02  1.34317828e-02  2.79835030e-03\n",
              "   1.29854400e-02  9.04430076e-03 -8.98786541e-03  6.09696796e-03\n",
              "   6.48165401e-03  5.13065886e-03 -2.26296429e-02 -4.14138995e-02\n",
              "   1.46389073e-02  2.45882813e-02 -2.76325345e-02  1.62426159e-02\n",
              "   3.54979141e-03 -1.34669822e-02 -3.70216044e-03  1.43881198e-02\n",
              "  -1.04081715e-02  2.04281323e-02  5.61779656e-04  2.14683954e-02\n",
              "  -9.05297138e-03  2.33153515e-02  1.93197299e-02 -2.07885057e-02\n",
              "  -2.71830615e-02 -4.08834359e-03 -4.46512587e-02 -1.05096819e-02\n",
              "  -1.05550354e-02  4.46254434e-03 -7.87571259e-03 -3.74395889e-03\n",
              "   9.05502867e-03 -1.36281140e-02 -4.93330508e-03 -3.96478269e-03\n",
              "  -8.95111728e-03 -6.56582974e-03  2.41802931e-02 -7.47982776e-05\n",
              "  -2.15568244e-02 -1.30899157e-02 -9.16666072e-03  3.41246352e-02\n",
              "  -3.86941135e-02 -1.01316976e-03 -3.50207114e-03 -2.21098922e-02\n",
              "   7.13161426e-03 -3.68764950e-03  3.14799100e-02 -2.44843997e-02\n",
              "   1.57555919e-02 -5.82448952e-03  1.14207231e-02  2.98418999e-02\n",
              "  -1.03983597e-03  3.52888964e-02 -1.01380115e-02  2.49388465e-03\n",
              "   1.83584858e-02 -5.01479441e-03 -2.87142023e-03  2.52005849e-02\n",
              "   3.03887506e-03  1.02482187e-02 -1.73743255e-02 -3.86832934e-03\n",
              "  -5.45917042e-02  1.01139359e-02 -1.10016949e-02  1.47199640e-02\n",
              "  -1.95948444e-02  4.65310253e-02  1.17491614e-02  2.55250446e-02\n",
              "  -6.80332398e-03 -1.51598928e-02 -1.54662495e-02 -5.20430878e-03\n",
              "   3.96184921e-02 -3.13513093e-02  5.29944431e-03 -1.82437878e-02\n",
              "   2.42800098e-02  1.64454766e-02 -2.29840949e-02  1.07219294e-02\n",
              "  -2.38537323e-02  1.40921166e-02 -1.34121543e-02 -1.78114977e-02\n",
              "   1.04082515e-02  2.59113405e-02  1.38745224e-02 -7.92761706e-03\n",
              "   1.28161507e-02 -1.55003266e-02 -4.99860384e-03 -2.45503206e-02\n",
              "   1.03167966e-02 -7.54714757e-03 -3.74742486e-02  1.13867763e-02\n",
              "   1.28939543e-02  4.30692360e-03 -1.55956633e-02 -1.91779174e-02\n",
              "   2.85626333e-02  2.32107528e-02  1.76205579e-02 -1.47057837e-02\n",
              "   4.61587906e-02  1.08288042e-02 -1.79761015e-02 -1.38511062e-02\n",
              "   4.87889573e-02 -1.77448317e-02  2.77967528e-02 -1.73605140e-02\n",
              "  -1.45162502e-02  4.44012461e-03 -4.52342490e-03  3.36956419e-02\n",
              "   4.13563848e-03  5.59648313e-03  1.74431670e-02 -3.29980031e-02\n",
              "  -5.10885566e-03  3.24586779e-02  1.33189280e-02  1.98922697e-02\n",
              "   4.55907453e-03 -3.29280570e-02 -1.46156251e-02  4.73961746e-03\n",
              "   6.42046519e-03  2.49765646e-02  1.53666642e-02 -5.67427510e-03\n",
              "  -2.26929635e-02  6.92516100e-04 -2.12522205e-02 -3.16875055e-03\n",
              "  -9.60491970e-03 -9.74426698e-03  2.70345863e-02 -8.44162330e-03\n",
              "  -2.29186509e-02 -3.06319315e-02 -1.23559088e-02  3.01551186e-02\n",
              "  -6.70429412e-03 -1.78004578e-02  3.68113853e-02  3.20568234e-02\n",
              "   2.75583938e-02 -7.76924775e-04 -1.83046050e-02 -2.82063521e-02\n",
              "   2.63083968e-02 -1.12984302e-02 -1.26773659e-02 -1.50118647e-02\n",
              "   2.05393471e-02  6.51763938e-03 -5.92081482e-03 -1.56480614e-02\n",
              "   2.32530758e-02  6.71789004e-03  2.14725151e-03 -8.10504705e-03\n",
              "  -5.09585021e-03  2.63661798e-03 -3.09292860e-02 -3.24725695e-02\n",
              "   2.81371158e-02 -1.09962504e-02 -7.10155256e-03  1.43005643e-02\n",
              "  -2.07085945e-02 -1.31606013e-02 -2.21212581e-02 -3.63656022e-02\n",
              "  -4.19325493e-02 -4.10236930e-03 -8.90674442e-03  3.05652581e-02\n",
              "   2.07531210e-02 -1.18089365e-02 -2.05497704e-02 -2.48847902e-03\n",
              "  -1.88080000e-03  1.71967898e-03  1.91823617e-02  2.70034783e-02\n",
              "   5.39025525e-03 -5.31949988e-03  1.53184533e-02 -2.51245592e-02\n",
              "  -1.97820552e-02 -1.45209441e-02 -6.29761582e-03  6.49359543e-03\n",
              "  -3.50170955e-03  3.74214426e-02  6.57506213e-02 -2.85934359e-02\n",
              "  -2.95346081e-02  1.58542786e-02  3.41763459e-02 -1.29826125e-02\n",
              "   9.75454971e-03  2.31514256e-02  4.88563962e-02 -1.65312353e-03\n",
              "   7.50774937e-03 -6.50397129e-03  6.65670913e-03 -2.04760523e-04\n",
              "  -1.62395947e-02  1.23537118e-02  2.97690667e-02 -6.41577551e-03\n",
              "   2.47026160e-02  2.05159634e-02 -3.74648981e-02 -3.46488953e-02\n",
              "   7.97722116e-03  3.45080532e-02  2.73051504e-02 -1.25940619e-02\n",
              "   4.58260300e-03  1.39015960e-02 -3.70082934e-03 -6.80487091e-03\n",
              "   2.31047831e-02  5.07914415e-03  2.23138276e-03 -1.36220618e-03\n",
              "  -5.01876622e-02 -1.24567822e-02  2.70691682e-02  8.74289777e-03\n",
              "   5.65107958e-03  1.95187274e-02  3.74194309e-02 -2.55880039e-02\n",
              "  -9.93940979e-04 -4.32791598e-02 -2.11102534e-02  4.15877886e-02\n",
              "   1.47688075e-03 -1.15420418e-02 -4.29496914e-03 -1.69191603e-02\n",
              "  -1.68397999e-03 -3.80019881e-02 -2.37112604e-02 -2.20312327e-02\n",
              "   9.16831475e-03  5.29796956e-03  3.64804529e-02 -6.67332439e-03\n",
              "  -9.03671142e-03  1.45984469e-02  1.68333109e-02 -1.14662265e-02\n",
              "  -7.89392367e-03 -7.87310861e-03  8.41184147e-03  6.75805099e-03\n",
              "   1.67078301e-02  2.19875737e-03 -4.22435179e-02 -3.51252803e-03\n",
              "   3.16476338e-02 -1.58753544e-02 -2.28787344e-02 -9.01210494e-03\n",
              "  -3.50733590e-03  1.79410242e-02  1.34453643e-02  7.31702428e-03\n",
              "  -1.09315449e-02  2.00428069e-02  2.22299602e-02  1.72626469e-02\n",
              "   2.90407240e-03 -1.21408477e-02 -3.25687900e-02 -2.00088415e-02\n",
              "  -2.37728544e-02  2.99574551e-03 -2.03420576e-02  1.24380253e-02\n",
              "  -3.55437584e-02  1.13642784e-02 -6.49787160e-03  6.98608439e-03\n",
              "  -2.12158449e-02 -7.37701543e-03 -5.31700393e-03 -2.31363941e-02\n",
              "  -1.75961088e-02  7.10264174e-03  2.06878800e-02  3.29906568e-02\n",
              "   4.54278626e-02  3.52740474e-02  3.96390562e-04 -4.24254313e-03\n",
              "  -1.00996019e-02  6.60098623e-03 -5.35747316e-03  2.76264492e-02\n",
              "  -1.36986244e-02 -1.61782652e-02 -6.02346398e-02 -1.67351793e-02\n",
              "   6.83105318e-03 -3.48150916e-03  9.03275609e-03  1.84680913e-02\n",
              "   1.86343174e-02 -2.23523900e-02 -2.26436295e-02  9.52009298e-03\n",
              "  -3.72723788e-02  1.54049378e-02 -2.68880278e-02 -6.44720811e-03\n",
              "  -2.33546197e-02  6.36695102e-02 -1.04101817e-03 -3.45388725e-02\n",
              "   2.27396865e-03 -1.24315117e-02  2.98640900e-03 -4.53798659e-03\n",
              "   9.09259263e-03 -3.60787362e-02 -3.46471509e-03 -5.87012339e-03\n",
              "   7.32827000e-03  1.30581139e-02  1.45236794e-02 -1.42117823e-02\n",
              "   2.10533920e-03  6.95232628e-03  1.21383229e-02  1.65035445e-02\n",
              "   8.05480033e-03  3.52437459e-02  3.24139483e-02  3.67552787e-02\n",
              "  -1.38885330e-03  5.46022831e-03  3.68037634e-02 -1.67047363e-02\n",
              "  -6.46054745e-03 -7.96256028e-03 -2.14100964e-02 -3.43322158e-02\n",
              "   2.04459988e-02  1.69731900e-02  2.85165533e-02 -1.79337338e-02\n",
              "  -1.00891478e-02  4.59042098e-03 -2.42576245e-02  6.20450359e-03\n",
              "   3.21010835e-02  6.48132851e-03  1.00049712e-02  1.98782645e-02\n",
              "   7.06461375e-04  2.92240884e-02 -5.81959356e-03  7.92590529e-03\n",
              "   8.50777701e-03 -3.84849217e-03 -3.78486142e-02  1.66427009e-02\n",
              "   1.69084575e-02  1.37965113e-03  9.83701646e-03 -2.87922341e-02\n",
              "   7.64740305e-03 -1.67624485e-02 -1.61831006e-02 -2.97181914e-03\n",
              "  -4.27121781e-02 -6.42672705e-04  2.95739081e-02 -7.45909382e-03\n",
              "   1.72806047e-02  3.25590894e-02 -1.13014886e-02 -3.46885473e-02\n",
              "   1.84599664e-02 -7.51292612e-03 -2.86801998e-03  2.13850867e-02\n",
              "  -3.95598356e-03  1.87098514e-03 -2.42456868e-02  2.19890904e-02\n",
              "  -1.27866315e-02 -6.70819543e-04  2.00790297e-02  2.56770314e-03\n",
              "  -1.01701440e-02 -1.52173471e-02 -7.87308719e-03 -9.50520951e-03\n",
              "   9.23043489e-03 -7.05064135e-03  1.59919709e-02 -2.39098556e-02\n",
              "   2.18529738e-02 -3.44286896e-02  1.96992289e-02  1.19308922e-02\n",
              "   1.18053276e-02 -6.65422762e-03 -1.70246847e-02  3.51065770e-02\n",
              "   2.12510284e-02  1.34735098e-02 -1.55963958e-03  1.45122278e-02\n",
              "   1.72853563e-02  9.14706662e-03 -3.72926556e-02  1.60646886e-02\n",
              "   3.29681300e-02  1.80132315e-02  2.56892089e-02 -2.58796420e-02\n",
              "   4.03490886e-02 -4.68738563e-02  1.73987523e-02  3.19213420e-02\n",
              "   2.66054571e-02  1.96908158e-03 -9.21281707e-03  2.68309209e-02\n",
              "  -2.89727170e-02 -2.84303799e-02  6.74689049e-03 -1.71309691e-02\n",
              "   2.90318462e-03  3.13333012e-02 -5.89629496e-03 -6.58796821e-03\n",
              "  -4.31973748e-02 -9.06414352e-03  4.53887647e-03 -5.07508451e-03\n",
              "  -2.08252501e-02 -1.88203175e-02 -1.11974578e-03  3.21231149e-02\n",
              "   3.34408530e-03  4.17130180e-02  5.70930773e-03  5.01295999e-02\n",
              "   1.54324193e-02 -1.09648257e-02 -1.04429694e-02  3.44536901e-02\n",
              "  -1.08550424e-02  1.51328426e-02  3.66799370e-03  1.00427559e-02\n",
              "   6.97061660e-06  3.15294694e-03 -2.01789550e-02  3.80217517e-03\n",
              "   4.45097080e-03  9.13526956e-03 -2.34289467e-02 -9.46967583e-03\n",
              "  -1.46183716e-02 -9.37485229e-03 -8.05784075e-04 -8.35462380e-03\n",
              "  -2.08800510e-02  2.85586808e-02 -1.50369424e-02 -1.41693838e-02\n",
              "   3.53176259e-02  5.45855332e-03  1.51791982e-02  1.37020173e-02\n",
              "  -7.22955156e-04  4.23591631e-03 -4.83995117e-02  4.97695059e-03\n",
              "   2.69564856e-02  3.18854698e-04 -1.03878668e-02  8.14731885e-03\n",
              "  -3.97957722e-03 -1.52963176e-02  2.23206429e-04 -8.68023932e-03\n",
              "   2.16803607e-03 -6.01314381e-03  1.88807361e-02  3.11189517e-02\n",
              "  -1.02378530e-02  4.60743085e-02  5.82725778e-02  2.39193700e-02\n",
              "   4.89873672e-03 -2.53699301e-03 -4.99293255e-03  2.20673566e-04\n",
              "   9.05408617e-03  2.06839223e-03 -7.52339000e-03 -6.55722171e-02\n",
              "   7.64888385e-03  1.45688569e-02  2.51548532e-02  6.52316306e-03\n",
              "   3.01320609e-02  6.34608325e-03 -2.53600087e-02 -3.11997533e-03\n",
              "  -8.10970925e-03 -3.84441577e-02  3.36776152e-02 -7.44279893e-03\n",
              "  -1.97846368e-02 -5.02808345e-03 -2.15914734e-02 -1.18417498e-02\n",
              "   4.24400251e-03 -2.09492352e-02 -1.90130509e-02  2.88286302e-02\n",
              "   2.20016949e-02  2.18112804e-02 -7.83290900e-03 -2.90331468e-02\n",
              "   1.81221440e-02 -6.76947646e-03 -8.88516847e-03 -3.15100118e-03\n",
              "   3.85611355e-02  4.01905365e-03  9.43424553e-03  2.55807099e-04\n",
              "   1.89623106e-02 -7.57246232e-03  8.69716238e-03 -2.64178868e-03\n",
              "   3.14757377e-02  2.96689849e-03  2.70566940e-02  7.10838707e-03\n",
              "   2.08327379e-02 -2.77244225e-02  5.08384407e-03  1.41974632e-03\n",
              "   1.54668819e-02 -1.14773717e-02  2.37146635e-02  1.35693708e-02\n",
              "   7.63823325e-03 -1.83378048e-02 -7.67733064e-03  8.26663431e-03\n",
              "   1.71848089e-02 -2.29492299e-02  1.43103953e-03 -2.15570610e-02\n",
              "  -3.30947600e-02 -5.07846922e-02  2.39310344e-03 -5.45760093e-04\n",
              "  -3.22635961e-03  4.21214327e-02  1.58477016e-02 -2.36682966e-03\n",
              "   2.55851857e-02 -1.41981859e-02  3.34425978e-02  1.92023721e-03\n",
              "  -6.27197046e-03 -1.55935269e-02  9.29612434e-04  1.39270825e-02\n",
              "   1.20417087e-03 -1.16899342e-03 -3.59001011e-02 -4.45048697e-03\n",
              "  -8.27783905e-03  8.60544853e-03  8.82946886e-03 -2.28251945e-02\n",
              "  -3.05482931e-02 -7.95129221e-04  6.31261431e-03 -4.01981249e-02\n",
              "   1.34950373e-02  9.30963084e-03  2.86534522e-02 -5.90161495e-02\n",
              "   1.16638904e-02 -2.65816860e-02 -2.07354557e-02  1.40764536e-02\n",
              "   1.09234184e-03  1.56970136e-02  8.73192027e-03 -1.74931064e-02\n",
              "  -3.26740406e-02  9.24851280e-03 -1.97910946e-02  1.52252950e-02\n",
              "   2.92982999e-02  2.15267316e-02 -9.48194042e-03 -5.27672237e-03\n",
              "  -2.02841815e-02 -1.36545254e-02 -2.67457608e-02 -1.88985933e-02\n",
              "   4.83607128e-03  5.95523603e-03 -6.71410933e-04  3.61306258e-02\n",
              "   4.82657226e-03  5.06871976e-02 -2.52823322e-03 -1.79781690e-02\n",
              "   2.51064412e-02  3.99517566e-02  3.07292212e-02 -2.73319148e-02\n",
              "  -2.02870651e-04 -3.47995088e-02 -5.03388513e-03 -2.53745448e-03\n",
              "  -1.24133250e-03 -1.17618917e-03 -8.54946673e-03 -4.11014073e-03\n",
              "   4.25079931e-03 -2.99114455e-02 -1.51259666e-02  8.43207818e-03\n",
              "  -5.13227545e-02  4.79728356e-03 -2.52165180e-02  3.84853929e-02\n",
              "   3.02262492e-02  1.14875073e-02 -3.29943858e-02  1.12373289e-02\n",
              "   1.12516936e-02 -2.17328519e-02  3.07381200e-03  1.44302333e-02\n",
              "   1.48883387e-02 -5.67629794e-03  2.89127231e-02  2.69951411e-02\n",
              "  -5.97206457e-03  3.44469358e-04  2.76948325e-02  2.86961673e-03\n",
              "  -1.24907901e-03  2.82683428e-02  5.08162775e-04  1.27992593e-02\n",
              "  -5.28129283e-03  1.88798830e-02  1.19529222e-03 -7.64994230e-03\n",
              "   2.40065213e-02 -2.23216806e-02 -1.32734524e-02 -3.98414209e-03\n",
              "   1.63619146e-02  2.91306004e-02  2.66107619e-02 -9.69258882e-03\n",
              "  -1.05214603e-02 -3.37570393e-03  2.01996267e-02 -3.52750602e-03\n",
              "   1.39338588e-02  2.54493728e-02  1.18237361e-02 -5.49848564e-02\n",
              "   2.47999858e-02 -1.30917570e-02 -1.07833091e-02  4.69795801e-02\n",
              "  -1.17403083e-02  9.89791378e-03 -8.97944556e-04 -1.01591023e-02\n",
              "  -3.36082280e-02 -1.39268413e-02 -7.73613155e-03  1.14451805e-02\n",
              "  -8.11251998e-03 -3.38939615e-02  2.19933242e-02 -1.78941786e-02\n",
              "  -9.39961523e-03  1.06171425e-02 -1.33797284e-02  2.60511413e-02\n",
              "   1.24127986e-02 -1.47089013e-03 -4.62565292e-03  1.55681102e-02\n",
              "   1.41332448e-02 -2.12376025e-02  1.53944725e-02 -3.42287542e-03\n",
              "   3.72771807e-02 -1.23933153e-02 -1.80373751e-02 -5.63703664e-02\n",
              "  -1.11582838e-02 -1.49251232e-02  1.06301475e-02 -1.62087511e-02\n",
              "   4.87477845e-03  8.24250653e-03  2.32412741e-02 -3.59020717e-02\n",
              "  -2.03887597e-02  3.33819203e-02  1.81827566e-03 -2.24888008e-02\n",
              "   1.66163240e-02 -3.31216566e-02 -7.35058868e-03 -3.80854085e-02\n",
              "   2.63680033e-02 -4.14455533e-02  2.03863382e-02 -3.31617286e-03\n",
              "   2.47980524e-02  5.98682947e-02  3.49344946e-02 -5.25997905e-03\n",
              "   3.38155404e-02  1.87117700e-02  6.00855751e-03  7.03722797e-03\n",
              "   2.86300164e-02 -3.93809415e-02 -1.52350068e-02 -3.23131979e-02\n",
              "   1.16641149e-02  1.25312004e-02  3.34086217e-04 -2.38469150e-03\n",
              "   2.02898234e-02 -1.49058155e-03  4.97070141e-03 -4.54153828e-02\n",
              "  -1.67761091e-02  1.77391171e-02  4.09100056e-02  3.01566962e-02\n",
              "   1.91478413e-02 -1.05820959e-02 -2.11984236e-02 -3.69193219e-02\n",
              "   1.39226217e-03 -1.02580050e-02 -3.38385589e-02  1.28772585e-02\n",
              "   9.93796904e-03  2.09907573e-02  5.18707605e-03  1.01133436e-02\n",
              "  -3.24087441e-02 -9.02457256e-03 -2.28938553e-02  2.11735740e-02\n",
              "  -2.84281913e-02  1.42878592e-02 -4.76419320e-03 -2.09908350e-03\n",
              "   2.09772661e-02 -4.60180789e-02  2.77977046e-02 -9.51654185e-03\n",
              "  -2.21496131e-02 -3.03563252e-02 -2.03491189e-02  3.68747488e-02\n",
              "  -5.42534748e-03 -1.81340910e-02 -9.71404091e-03  1.10051623e-02\n",
              "  -6.60944590e-03  2.93040425e-02  5.74604841e-03 -2.82586236e-02\n",
              "   5.40287569e-02 -3.80185843e-02 -8.32738064e-04 -2.71336716e-02\n",
              "  -5.40533103e-03 -1.12836203e-02  2.60598212e-02  8.49554606e-04\n",
              "  -1.25592863e-02  5.68374386e-03 -1.15131959e-02 -2.96326503e-02\n",
              "   1.23378001e-02  8.50267056e-03 -1.99319213e-03  2.69771647e-02\n",
              "  -2.81546898e-02  2.56181471e-02 -2.32956689e-02  4.43135825e-04\n",
              "   2.57615689e-02  9.42649692e-03  8.64542369e-03  2.17977427e-02\n",
              "   1.28227584e-02 -2.28595324e-02  2.02700519e-03 -1.72409080e-02\n",
              "   3.05819456e-02 -3.13590243e-02 -1.93257425e-02 -2.56077689e-03\n",
              "   1.50440615e-02  1.90236922e-02 -1.46993427e-02  2.66407598e-02\n",
              "  -1.88339148e-02 -2.11424697e-02 -2.74782591e-02  3.24149020e-02\n",
              "  -2.26109065e-02 -3.28273997e-02  9.32863913e-03  2.32823435e-02\n",
              "   2.57551321e-03  1.39028439e-02 -1.02121206e-02  1.28885284e-02\n",
              "  -1.88584700e-02  7.07891071e-03 -3.78975198e-02 -1.39584597e-02\n",
              "   1.56348385e-02  4.34647352e-02 -2.76139397e-02  2.40971930e-02\n",
              "  -6.48927549e-03  1.94125976e-02 -1.32456620e-03 -5.75048197e-03\n",
              "   1.95996426e-02 -4.09739278e-02  1.68172568e-02 -2.05082763e-02\n",
              "   8.80638428e-04 -4.29144967e-03 -1.60192791e-02  8.93021841e-03\n",
              "   7.72633730e-03 -1.45153347e-02 -2.21267864e-02  2.01861244e-02\n",
              "   2.43238080e-02 -3.17501947e-02  5.84068708e-03 -6.13425160e-03\n",
              "   6.40934100e-03  1.74631998e-02  2.94174533e-03 -1.20237777e-02\n",
              "   3.15116867e-02  2.07824018e-02 -3.69573431e-03  1.13281002e-03\n",
              "  -8.41769390e-03  3.36635183e-03  2.46508364e-02  1.47317667e-02\n",
              "   5.10220714e-02  6.24459796e-03  1.81499943e-02 -2.03128122e-02\n",
              "  -1.94113590e-02 -2.14738194e-02 -4.74870354e-02 -1.02543375e-02\n",
              "   3.24269421e-02 -1.42389638e-02  2.30267551e-03 -3.64105701e-02\n",
              "   5.01722060e-02  3.10483109e-02 -1.12955803e-02 -8.12351517e-03\n",
              "   2.31172107e-02 -1.04085039e-02  3.52629349e-02  1.76495090e-02\n",
              "   6.19537430e-03 -5.41966315e-03 -1.45543842e-02  1.47549081e-05\n",
              "   1.62173007e-02  4.47989143e-02 -2.46843453e-02 -4.49124239e-02\n",
              "  -8.86948220e-03  3.16389762e-02  4.06995378e-02  1.02035627e-02\n",
              "  -2.25516353e-02 -1.03684496e-02 -2.81881690e-02 -1.43588670e-02\n",
              "  -3.65714938e-03  3.35456990e-02  1.39919331e-03 -6.43933658e-03\n",
              "  -3.17051611e-03  5.58717595e-03 -3.05251055e-03 -7.52001128e-04]])"
            ]
          },
          "metadata": {},
          "execution_count": 116
        }
      ],
      "source": [
        "titanic_vector"
      ]
    },
    {
      "cell_type": "code",
      "execution_count": 117,
      "metadata": {
        "colab": {
          "base_uri": "https://localhost:8080/"
        },
        "id": "p6UDQf4iCn9f",
        "outputId": "4ac71a4e-adc1-42fb-bb86-d9db64d39365"
      },
      "outputs": [
        {
          "output_type": "execute_result",
          "data": {
            "text/plain": [
              "0.7998388"
            ]
          },
          "metadata": {},
          "execution_count": 117
        }
      ],
      "source": [
        "my_vector_ = np.squeeze(my_vector.to_numpy())\n",
        "titanic_vector_ = np.squeeze(titanic_vector.to_numpy())\n",
        "np.dot(my_vector_, titanic_vector_)"
      ]
    },
    {
      "cell_type": "code",
      "execution_count": 125,
      "metadata": {
        "colab": {
          "base_uri": "https://localhost:8080/"
        },
        "id": "AK57oW9kCyj_",
        "outputId": "bc32e444-ce34-4074-9cc2-78d96c9451a8"
      },
      "outputs": [
        {
          "output_type": "execute_result",
          "data": {
            "text/plain": [
              "(array([1626, 3499, 3569, 2596, 2973], dtype=int32),\n",
              " array([1.        , 0.24825476, 0.18911941, 0.15748177, 0.1419103 ],\n",
              "       dtype=float32))"
            ]
          },
          "metadata": {},
          "execution_count": 125
        }
      ],
      "source": [
        "favorite_movie = 'titanic'\n",
        "movie_id = movie_to_id[favorite_movie]\n",
        "similar_movie = als_model.similar_items(movie_id, N=5)\n",
        "similar_movie"
      ]
    },
    {
      "cell_type": "code",
      "source": [
        "len(similar_movie[0])"
      ],
      "metadata": {
        "colab": {
          "base_uri": "https://localhost:8080/"
        },
        "id": "_q-5HkvFqgS9",
        "outputId": "792910fc-2bef-4179-8920-d931caca5592"
      },
      "execution_count": 127,
      "outputs": [
        {
          "output_type": "execute_result",
          "data": {
            "text/plain": [
              "5"
            ]
          },
          "metadata": {},
          "execution_count": 127
        }
      ]
    },
    {
      "cell_type": "code",
      "execution_count": 129,
      "metadata": {
        "colab": {
          "base_uri": "https://localhost:8080/"
        },
        "id": "OUuGfbn5V0oV",
        "outputId": "e86abd12-14d1-46db-a405-37af339fccc4"
      },
      "outputs": [
        {
          "output_type": "execute_result",
          "data": {
            "text/plain": [
              "['simon sez',\n",
              " 'gay deceivers, the',\n",
              " 'kama sutra: a tale of love',\n",
              " 'associate, the']"
            ]
          },
          "metadata": {},
          "execution_count": 129
        }
      ],
      "source": [
        "# favorite_movie는 무시하고\n",
        "# 리스트로 저장합니다.\n",
        "# 하지만 연관성이 그리 높아 보이지는 않네요\n",
        "# array([0.24825476, 0.18911941, 0.15748177, 0.1419103 ]\n",
        "ls_recem_movie = [id_to_movie[i] for i in similar_movie[0]][1:]\n",
        "ls_recem_movie"
      ]
    },
    {
      "cell_type": "code",
      "source": [
        "favorite_movie = 'godfather, the'\n",
        "movie_id = movie_to_id[favorite_movie]\n",
        "similar_movie = als_model.similar_items(movie_id, N=5)\n",
        "similar_movie"
      ],
      "metadata": {
        "colab": {
          "base_uri": "https://localhost:8080/"
        },
        "id": "uSoJ71LdqUDb",
        "outputId": "ed2f4cb7-d80a-4b36-f8fa-3590dd69997f"
      },
      "execution_count": 130,
      "outputs": [
        {
          "output_type": "execute_result",
          "data": {
            "text/plain": [
              "(array([ 607,  380, 3150, 3531,   44], dtype=int32),\n",
              " array([0.9999999 , 0.2884657 , 0.12505478, 0.1020557 , 0.08755737],\n",
              "       dtype=float32))"
            ]
          },
          "metadata": {},
          "execution_count": 130
        }
      ]
    },
    {
      "cell_type": "code",
      "source": [
        "favorite_movie = 'men in black'\n",
        "movie_id = movie_to_id[favorite_movie]\n",
        "similar_movie = als_model.similar_items(movie_id, N=5)\n",
        "similar_movie"
      ],
      "metadata": {
        "colab": {
          "base_uri": "https://localhost:8080/"
        },
        "id": "ps0uU5e8riPc",
        "outputId": "c60fa5c8-477a-4370-d3bf-9379ca606014"
      },
      "execution_count": 131,
      "outputs": [
        {
          "output_type": "execute_result",
          "data": {
            "text/plain": [
              "(array([175, 107,  92,  62, 150], dtype=int32),\n",
              " array([0.9999999 , 0.15914491, 0.12767158, 0.10559031, 0.09837474],\n",
              "       dtype=float32))"
            ]
          },
          "metadata": {},
          "execution_count": 131
        }
      ]
    }
  ],
  "metadata": {
    "accelerator": "GPU",
    "colab": {
      "collapsed_sections": [],
      "machine_shape": "hm",
      "name": "[Ex_15]Recommend.ipynb",
      "provenance": []
    },
    "gpuClass": "standard",
    "kernelspec": {
      "display_name": "Python 3 (ipykernel)",
      "language": "python",
      "name": "python3"
    },
    "language_info": {
      "codemirror_mode": {
        "name": "ipython",
        "version": 3
      },
      "file_extension": ".py",
      "mimetype": "text/x-python",
      "name": "python",
      "nbconvert_exporter": "python",
      "pygments_lexer": "ipython3",
      "version": "3.9.7"
    },
    "widgets": {
      "application/vnd.jupyter.widget-state+json": {
        "2bff6f7d0f1b409bbfe752a81a8d9bdb": {
          "model_module": "@jupyter-widgets/controls",
          "model_name": "HBoxModel",
          "model_module_version": "1.5.0",
          "state": {
            "_dom_classes": [],
            "_model_module": "@jupyter-widgets/controls",
            "_model_module_version": "1.5.0",
            "_model_name": "HBoxModel",
            "_view_count": null,
            "_view_module": "@jupyter-widgets/controls",
            "_view_module_version": "1.5.0",
            "_view_name": "HBoxView",
            "box_style": "",
            "children": [
              "IPY_MODEL_df3aeb4c805843ea8b5d745d83dafc9a",
              "IPY_MODEL_375c9e21db384aff86ed11b0b70d4860",
              "IPY_MODEL_7a579db2e3bd421a8245e93432ce3754"
            ],
            "layout": "IPY_MODEL_b3d97a9c864e4ff8b7b6698cef222f51"
          }
        },
        "df3aeb4c805843ea8b5d745d83dafc9a": {
          "model_module": "@jupyter-widgets/controls",
          "model_name": "HTMLModel",
          "model_module_version": "1.5.0",
          "state": {
            "_dom_classes": [],
            "_model_module": "@jupyter-widgets/controls",
            "_model_module_version": "1.5.0",
            "_model_name": "HTMLModel",
            "_view_count": null,
            "_view_module": "@jupyter-widgets/controls",
            "_view_module_version": "1.5.0",
            "_view_name": "HTMLView",
            "description": "",
            "description_tooltip": null,
            "layout": "IPY_MODEL_9c6bdf66daf541089a475f6a26971fcc",
            "placeholder": "​",
            "style": "IPY_MODEL_116ba7ff22aa451b9279e143a52c295a",
            "value": "100%"
          }
        },
        "375c9e21db384aff86ed11b0b70d4860": {
          "model_module": "@jupyter-widgets/controls",
          "model_name": "FloatProgressModel",
          "model_module_version": "1.5.0",
          "state": {
            "_dom_classes": [],
            "_model_module": "@jupyter-widgets/controls",
            "_model_module_version": "1.5.0",
            "_model_name": "FloatProgressModel",
            "_view_count": null,
            "_view_module": "@jupyter-widgets/controls",
            "_view_module_version": "1.5.0",
            "_view_name": "ProgressView",
            "bar_style": "success",
            "description": "",
            "description_tooltip": null,
            "layout": "IPY_MODEL_d998f9318cb340f2869c0165bbd03cd8",
            "max": 30000,
            "min": 0,
            "orientation": "horizontal",
            "style": "IPY_MODEL_e8f3186137a942d8aa325386a96f92bc",
            "value": 30000
          }
        },
        "7a579db2e3bd421a8245e93432ce3754": {
          "model_module": "@jupyter-widgets/controls",
          "model_name": "HTMLModel",
          "model_module_version": "1.5.0",
          "state": {
            "_dom_classes": [],
            "_model_module": "@jupyter-widgets/controls",
            "_model_module_version": "1.5.0",
            "_model_name": "HTMLModel",
            "_view_count": null,
            "_view_module": "@jupyter-widgets/controls",
            "_view_module_version": "1.5.0",
            "_view_name": "HTMLView",
            "description": "",
            "description_tooltip": null,
            "layout": "IPY_MODEL_7852265a584f4c14af14493a77c61c09",
            "placeholder": "​",
            "style": "IPY_MODEL_f487eda5cf854815a0da3b82f3804b85",
            "value": " 30000/30000 [4:05:39&lt;00:00,  2.03it/s]"
          }
        },
        "b3d97a9c864e4ff8b7b6698cef222f51": {
          "model_module": "@jupyter-widgets/base",
          "model_name": "LayoutModel",
          "model_module_version": "1.2.0",
          "state": {
            "_model_module": "@jupyter-widgets/base",
            "_model_module_version": "1.2.0",
            "_model_name": "LayoutModel",
            "_view_count": null,
            "_view_module": "@jupyter-widgets/base",
            "_view_module_version": "1.2.0",
            "_view_name": "LayoutView",
            "align_content": null,
            "align_items": null,
            "align_self": null,
            "border": null,
            "bottom": null,
            "display": null,
            "flex": null,
            "flex_flow": null,
            "grid_area": null,
            "grid_auto_columns": null,
            "grid_auto_flow": null,
            "grid_auto_rows": null,
            "grid_column": null,
            "grid_gap": null,
            "grid_row": null,
            "grid_template_areas": null,
            "grid_template_columns": null,
            "grid_template_rows": null,
            "height": null,
            "justify_content": null,
            "justify_items": null,
            "left": null,
            "margin": null,
            "max_height": null,
            "max_width": null,
            "min_height": null,
            "min_width": null,
            "object_fit": null,
            "object_position": null,
            "order": null,
            "overflow": null,
            "overflow_x": null,
            "overflow_y": null,
            "padding": null,
            "right": null,
            "top": null,
            "visibility": null,
            "width": null
          }
        },
        "9c6bdf66daf541089a475f6a26971fcc": {
          "model_module": "@jupyter-widgets/base",
          "model_name": "LayoutModel",
          "model_module_version": "1.2.0",
          "state": {
            "_model_module": "@jupyter-widgets/base",
            "_model_module_version": "1.2.0",
            "_model_name": "LayoutModel",
            "_view_count": null,
            "_view_module": "@jupyter-widgets/base",
            "_view_module_version": "1.2.0",
            "_view_name": "LayoutView",
            "align_content": null,
            "align_items": null,
            "align_self": null,
            "border": null,
            "bottom": null,
            "display": null,
            "flex": null,
            "flex_flow": null,
            "grid_area": null,
            "grid_auto_columns": null,
            "grid_auto_flow": null,
            "grid_auto_rows": null,
            "grid_column": null,
            "grid_gap": null,
            "grid_row": null,
            "grid_template_areas": null,
            "grid_template_columns": null,
            "grid_template_rows": null,
            "height": null,
            "justify_content": null,
            "justify_items": null,
            "left": null,
            "margin": null,
            "max_height": null,
            "max_width": null,
            "min_height": null,
            "min_width": null,
            "object_fit": null,
            "object_position": null,
            "order": null,
            "overflow": null,
            "overflow_x": null,
            "overflow_y": null,
            "padding": null,
            "right": null,
            "top": null,
            "visibility": null,
            "width": null
          }
        },
        "116ba7ff22aa451b9279e143a52c295a": {
          "model_module": "@jupyter-widgets/controls",
          "model_name": "DescriptionStyleModel",
          "model_module_version": "1.5.0",
          "state": {
            "_model_module": "@jupyter-widgets/controls",
            "_model_module_version": "1.5.0",
            "_model_name": "DescriptionStyleModel",
            "_view_count": null,
            "_view_module": "@jupyter-widgets/base",
            "_view_module_version": "1.2.0",
            "_view_name": "StyleView",
            "description_width": ""
          }
        },
        "d998f9318cb340f2869c0165bbd03cd8": {
          "model_module": "@jupyter-widgets/base",
          "model_name": "LayoutModel",
          "model_module_version": "1.2.0",
          "state": {
            "_model_module": "@jupyter-widgets/base",
            "_model_module_version": "1.2.0",
            "_model_name": "LayoutModel",
            "_view_count": null,
            "_view_module": "@jupyter-widgets/base",
            "_view_module_version": "1.2.0",
            "_view_name": "LayoutView",
            "align_content": null,
            "align_items": null,
            "align_self": null,
            "border": null,
            "bottom": null,
            "display": null,
            "flex": null,
            "flex_flow": null,
            "grid_area": null,
            "grid_auto_columns": null,
            "grid_auto_flow": null,
            "grid_auto_rows": null,
            "grid_column": null,
            "grid_gap": null,
            "grid_row": null,
            "grid_template_areas": null,
            "grid_template_columns": null,
            "grid_template_rows": null,
            "height": null,
            "justify_content": null,
            "justify_items": null,
            "left": null,
            "margin": null,
            "max_height": null,
            "max_width": null,
            "min_height": null,
            "min_width": null,
            "object_fit": null,
            "object_position": null,
            "order": null,
            "overflow": null,
            "overflow_x": null,
            "overflow_y": null,
            "padding": null,
            "right": null,
            "top": null,
            "visibility": null,
            "width": null
          }
        },
        "e8f3186137a942d8aa325386a96f92bc": {
          "model_module": "@jupyter-widgets/controls",
          "model_name": "ProgressStyleModel",
          "model_module_version": "1.5.0",
          "state": {
            "_model_module": "@jupyter-widgets/controls",
            "_model_module_version": "1.5.0",
            "_model_name": "ProgressStyleModel",
            "_view_count": null,
            "_view_module": "@jupyter-widgets/base",
            "_view_module_version": "1.2.0",
            "_view_name": "StyleView",
            "bar_color": null,
            "description_width": ""
          }
        },
        "7852265a584f4c14af14493a77c61c09": {
          "model_module": "@jupyter-widgets/base",
          "model_name": "LayoutModel",
          "model_module_version": "1.2.0",
          "state": {
            "_model_module": "@jupyter-widgets/base",
            "_model_module_version": "1.2.0",
            "_model_name": "LayoutModel",
            "_view_count": null,
            "_view_module": "@jupyter-widgets/base",
            "_view_module_version": "1.2.0",
            "_view_name": "LayoutView",
            "align_content": null,
            "align_items": null,
            "align_self": null,
            "border": null,
            "bottom": null,
            "display": null,
            "flex": null,
            "flex_flow": null,
            "grid_area": null,
            "grid_auto_columns": null,
            "grid_auto_flow": null,
            "grid_auto_rows": null,
            "grid_column": null,
            "grid_gap": null,
            "grid_row": null,
            "grid_template_areas": null,
            "grid_template_columns": null,
            "grid_template_rows": null,
            "height": null,
            "justify_content": null,
            "justify_items": null,
            "left": null,
            "margin": null,
            "max_height": null,
            "max_width": null,
            "min_height": null,
            "min_width": null,
            "object_fit": null,
            "object_position": null,
            "order": null,
            "overflow": null,
            "overflow_x": null,
            "overflow_y": null,
            "padding": null,
            "right": null,
            "top": null,
            "visibility": null,
            "width": null
          }
        },
        "f487eda5cf854815a0da3b82f3804b85": {
          "model_module": "@jupyter-widgets/controls",
          "model_name": "DescriptionStyleModel",
          "model_module_version": "1.5.0",
          "state": {
            "_model_module": "@jupyter-widgets/controls",
            "_model_module_version": "1.5.0",
            "_model_name": "DescriptionStyleModel",
            "_view_count": null,
            "_view_module": "@jupyter-widgets/base",
            "_view_module_version": "1.2.0",
            "_view_name": "StyleView",
            "description_width": ""
          }
        }
      }
    }
  },
  "nbformat": 4,
  "nbformat_minor": 0
}