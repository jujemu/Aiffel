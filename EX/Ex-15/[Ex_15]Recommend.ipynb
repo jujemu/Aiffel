{
  "nbformat": 4,
  "nbformat_minor": 0,
  "metadata": {
    "colab": {
      "name": "[Ex-15]Recommend.ipynb",
      "provenance": [],
      "collapsed_sections": []
    },
    "kernelspec": {
      "name": "python3",
      "display_name": "Python 3"
    },
    "language_info": {
      "name": "python"
    }
  },
  "cells": [
    {
      "cell_type": "markdown",
      "source": [
        "# Recommendation Model"
      ],
      "metadata": {
        "id": "4khaa91k5aAX"
      }
    },
    {
      "cell_type": "markdown",
      "source": [
        "## Preview\n",
        "___"
      ],
      "metadata": {
        "id": "-1C0FK-E5eBK"
      }
    },
    {
      "cell_type": "markdown",
      "source": [
        "## Index\n",
        "___"
      ],
      "metadata": {
        "id": "Izf5cLpN5gaY"
      }
    },
    {
      "cell_type": "markdown",
      "source": [
        "## Set up"
      ],
      "metadata": {
        "id": "pZsBNu3B5kiN"
      }
    },
    {
      "cell_type": "markdown",
      "source": [
        "### Import Module\n",
        "___"
      ],
      "metadata": {
        "id": "SzIkwVQY6Dnj"
      }
    },
    {
      "cell_type": "code",
      "source": [
        "import os\n",
        "import sys\n",
        "import pickle\n",
        "import random\n",
        "\n",
        "import pandas as pd\n",
        "import numpy as np\n",
        "\n",
        "import matplotlib as mpl\n",
        "import matplotlib.pyplot as plt\n",
        "import seaborn as sns\n",
        "\n",
        "import warnings\n",
        "\n",
        "import tensorflow as tf"
      ],
      "metadata": {
        "id": "ikINNZSC6GWg"
      },
      "execution_count": 2,
      "outputs": []
    },
    {
      "cell_type": "code",
      "source": [
        "random_seed = 1234\n",
        "\n",
        "random.seed(random_seed)\n",
        "np.random.seed(random_seed)\n",
        "tf.random.set_seed(random_seed)"
      ],
      "metadata": {
        "id": "clokpeFoC51m"
      },
      "execution_count": 3,
      "outputs": []
    },
    {
      "cell_type": "code",
      "source": [
        "%matplotlib inline\n",
        "\n",
        "plt.style.use('seaborn')\n",
        "mpl.rcParams['figure.figsize'] = (10, 10)\n",
        "mpl.rcParams['xtick.labelbottom'] = False\n",
        "mpl.rcParams['ytick.labelleft'] = False\n",
        "mpl.rcParams['axes.grid'] = False\n",
        "mpl.rcParams.update({'figure.autolayout': True})\n",
        "\n",
        "warnings.filterwarnings('ignore')"
      ],
      "metadata": {
        "id": "16IK6Gp6GVR0"
      },
      "execution_count": 4,
      "outputs": []
    },
    {
      "cell_type": "code",
      "source": [
        ""
      ],
      "metadata": {
        "id": "q-HBrjlM6WUK"
      },
      "execution_count": null,
      "outputs": []
    },
    {
      "cell_type": "markdown",
      "source": [
        "## Preface\n",
        "___"
      ],
      "metadata": {
        "id": "_ExY4SIX5l_a"
      }
    },
    {
      "cell_type": "markdown",
      "source": [
        "### Recommend system"
      ],
      "metadata": {
        "id": "JHg9uQWQqE8m"
      }
    },
    {
      "cell_type": "markdown",
      "source": [
        "_What is recommendation system?_\n",
        "> 나와 성향이 비슷한 사람들이 좋아하는 것을 나에게 추천한다.\n",
        "\n",
        "There are __two parts__ of recommendation algorithm.\n",
        "\n",
        "1. Collarative Filtering\n",
        "2. Content-based Filtering"
      ],
      "metadata": {
        "id": "CsqI-vypqIby"
      }
    },
    {
      "cell_type": "markdown",
      "source": [
        "### <font color='red'>Collarative Filtering</font>\n",
        "_협업 필터링_\n",
        "___\n",
        "\n",
        "<font size=4><b>기존 사용자의 행동 패턴을 분석하여 비슷한 이용자에게 기존 사용자의 패턴대로 추천하는 것.  \n",
        "대표적인 예로 '이 상품을 구매한 사용자가 같이 본 상품'을 들 수 있다.  </b></font>\n",
        "<span style=\"line-height:0.5em\">\n",
        "</br>  \n",
        "대표 알고리즘 \n",
        " - Matrix Factorization  \n",
        " - k-nearest neighbor algorithm; kNN\n",
        "\n",
        "<p>\n",
        "\n",
        "단점 \n",
        " - Cold Start : 신곡과 같은 분석되지 않은 정보로는 추천할 수 없다. \n",
        " - Long tail : 비대칭적으로 쏠린 정보에 의해 사용자들에게 관심이 없는 자료는 분석하기 어려워 충분한 정보를 제공할 수 없다.\n"
      ],
      "metadata": {
        "id": "DBxk_2LK7zNG"
      }
    },
    {
      "cell_type": "markdown",
      "source": [
        "### <font color='red'>Content-based Filtering</font>\n",
        "_콘텐츠 기반 필터링_\n",
        "___\n",
        "\n",
        "<font size=4> __사용자가 아닌 컨텐츠 자체를 분석하는 것으로 비슷한 결의 콘텐츠를 추천하는 것__  \n",
        "item profile(항목 분석)과 user profile(사용자의 선호도)의 유사성을 측정한 뒤 사용자가 좋아할 만한 컨텐츠를 제공한다.  </font>  \n",
        "<span style=\"line-height:0.5em\">\n",
        "</br>\n",
        "대표 알고리즘 \n",
        " - Clustrering analysis(군집 분석)  \n",
        " - Artificial neural network\n",
        " - tf-dif(term frequency-inverse document frequency)"
      ],
      "metadata": {
        "id": "NXm2AIms9MG2"
      }
    },
    {
      "cell_type": "markdown",
      "source": [
        "### Social Issue\n",
        "___\n",
        "\n",
        "___Filter Bubble___\n",
        "\n",
        "추천 시스템이 발전함에 따라서 사용자의 기존 성향대로 편향되게 정보에 노출되는 현상  \n",
        "일반 대중들은 경각심을 가질 필요가 있다고 생각한다.  \n"
      ],
      "metadata": {
        "id": "McNtETyZEmDu"
      }
    },
    {
      "cell_type": "markdown",
      "source": [
        "### Rating Matrix\n",
        "_평가 행렬_  \n",
        "_row : user_  \n",
        "_column : content_  "
      ],
      "metadata": {
        "id": "H5rbNM3LqJ-o"
      }
    },
    {
      "cell_type": "markdown",
      "source": [
        "#### Matrix Factorization\n",
        "_MF_\n",
        "\n"
      ],
      "metadata": {
        "id": "OuAR7lwmrj2Y"
      }
    },
    {
      "cell_type": "markdown",
      "source": [
        "# 진행"
      ],
      "metadata": {
        "id": "qPjpvuC-IdDo"
      }
    },
    {
      "cell_type": "markdown",
      "source": [
        "# 참고\n",
        "___"
      ],
      "metadata": {
        "id": "DdQW4F9S8o3h"
      }
    },
    {
      "cell_type": "markdown",
      "source": [
        "http://dl.moazine.com/viewer/index.asp?libraryid=9MtJb2T3nzH3yk7c212iu821DPFsY2ECOso0&a_i=8wwot4affaz3r6syx11VOYm2&keyword=&s_i=9#page/4"
      ],
      "metadata": {
        "id": "9RSM0lnL8uHZ"
      }
    },
    {
      "cell_type": "code",
      "source": [
        ""
      ],
      "metadata": {
        "id": "IcsSTnbOF5NJ"
      },
      "execution_count": null,
      "outputs": []
    },
    {
      "cell_type": "code",
      "source": [
        ""
      ],
      "metadata": {
        "id": "7Oc8HO_oIgY8"
      },
      "execution_count": null,
      "outputs": []
    }
  ]
}