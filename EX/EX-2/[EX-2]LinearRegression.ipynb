{
 "cells": [
  {
   "cell_type": "markdown",
   "id": "91f1a41f",
   "metadata": {},
   "source": [
    "# Linear Regression : diabetic"
   ]
  },
  {
   "cell_type": "markdown",
   "id": "64d8947b",
   "metadata": {},
   "source": [
    "___How can we predict diabetes figures with relevant data?___  \n",
    "\n",
    "---"
   ]
  },
  {
   "cell_type": "markdown",
   "id": "acf63793",
   "metadata": {},
   "source": [
    "## (1) Loading data"
   ]
  },
  {
   "cell_type": "code",
   "execution_count": 134,
   "id": "d70383fb",
   "metadata": {},
   "outputs": [],
   "source": [
    "from sklearn.datasets import load_diabetes\n",
    "\n",
    "diabetes = load_diabetes()\n",
    "df_X, df_y = diabetes.data, diabetes.target"
   ]
  },
  {
   "cell_type": "markdown",
   "id": "8537dbb1",
   "metadata": {},
   "source": [
    "_description of diabetes_"
   ]
  },
  {
   "cell_type": "code",
   "execution_count": 135,
   "id": "4e8466fb",
   "metadata": {},
   "outputs": [
    {
     "name": "stdout",
     "output_type": "stream",
     "text": [
      ".. _diabetes_dataset:\n",
      "\n",
      "Diabetes dataset\n",
      "----------------\n",
      "\n",
      "Ten baseline variables, age, sex, body mass index, average blood\n",
      "pressure, and six blood serum measurements were obtained for each of n =\n",
      "442 diabetes patients, as well as the response of interest, a\n",
      "quantitative measure of disease progression one year after baseline.\n",
      "\n",
      "**Data Set Characteristics:**\n",
      "\n",
      "  :Number of Instances: 442\n",
      "\n",
      "  :Number of Attributes: First 10 columns are numeric predictive values\n",
      "\n",
      "  :Target: Column 11 is a quantitative measure of disease progression one year after baseline\n",
      "\n",
      "  :Attribute Information:\n",
      "      - age     age in years\n",
      "      - sex\n",
      "      - bmi     body mass index\n",
      "      - bp      average blood pressure\n",
      "      - s1      tc, total serum cholesterol\n",
      "      - s2      ldl, low-density lipoproteins\n",
      "      - s3      hdl, high-density lipoproteins\n",
      "      - s4      tch, total cholesterol / HDL\n",
      "      - s5      ltg, possibly log of serum triglycerides level\n",
      "      - s6      glu, blood sugar level\n",
      "\n",
      "Note: Each of these 10 feature variables have been mean centered and scaled by the standard deviation times `n_samples` (i.e. the sum of squares of each column totals 1).\n",
      "\n",
      "Source URL:\n",
      "https://www4.stat.ncsu.edu/~boos/var.select/diabetes.html\n",
      "\n",
      "For more information see:\n",
      "Bradley Efron, Trevor Hastie, Iain Johnstone and Robert Tibshirani (2004) \"Least Angle Regression,\" Annals of Statistics (with discussion), 407-499.\n",
      "(https://web.stanford.edu/~hastie/Papers/LARS/LeastAngle_2002.pdf)\n"
     ]
    }
   ],
   "source": [
    "print(diabetes.DESCR)"
   ]
  },
  {
   "cell_type": "markdown",
   "id": "fd9a09e7",
   "metadata": {},
   "source": [
    "As we can see in this sentence,  \n",
    " \\- Number of Attributes: First 10 columns are numeric predictive values\n",
    "\n",
    "All data is numeric. So we dont need to convert string into numeric."
   ]
  },
  {
   "cell_type": "markdown",
   "id": "7d249b67",
   "metadata": {},
   "source": [
    "_df_X's type_"
   ]
  },
  {
   "cell_type": "code",
   "execution_count": 136,
   "id": "5afd83bc",
   "metadata": {},
   "outputs": [
    {
     "data": {
      "text/plain": [
       "numpy.ndarray"
      ]
     },
     "execution_count": 136,
     "metadata": {},
     "output_type": "execute_result"
    }
   ],
   "source": [
    "type(df_X)"
   ]
  },
  {
   "cell_type": "markdown",
   "id": "381ea2e5",
   "metadata": {},
   "source": [
    "## (2) Spliting train, test data-set"
   ]
  },
  {
   "cell_type": "code",
   "execution_count": 137,
   "id": "92196790",
   "metadata": {},
   "outputs": [],
   "source": [
    "from sklearn.model_selection import train_test_split\n",
    "\n",
    "X_train, X_test, y_train, y_test = train_test_split(df_X, df_y, random_state=10)"
   ]
  },
  {
   "cell_type": "markdown",
   "id": "22170c55",
   "metadata": {},
   "source": [
    "_shape of train data and type_"
   ]
  },
  {
   "cell_type": "code",
   "execution_count": 138,
   "id": "68186e6a",
   "metadata": {},
   "outputs": [
    {
     "name": "stdout",
     "output_type": "stream",
     "text": [
      "(331, 10)\n",
      "<class 'numpy.ndarray'>\n"
     ]
    }
   ],
   "source": [
    "print(X_train.shape)\n",
    "print(type(X_train))"
   ]
  },
  {
   "cell_type": "markdown",
   "id": "c323ef7f",
   "metadata": {},
   "source": [
    "## (3) Modeling"
   ]
  },
  {
   "cell_type": "markdown",
   "id": "fada7f52",
   "metadata": {},
   "source": [
    "### (3-1) define functions"
   ]
  },
  {
   "cell_type": "markdown",
   "id": "a1f4e95f",
   "metadata": {},
   "source": [
    "___linear___"
   ]
  },
  {
   "cell_type": "code",
   "execution_count": 139,
   "id": "94b1aa4f",
   "metadata": {},
   "outputs": [],
   "source": [
    "def model(X, W, b):\n",
    "    return X.dot(W) + b"
   ]
  },
  {
   "cell_type": "markdown",
   "id": "2a3d5261",
   "metadata": {},
   "source": [
    "___loss___"
   ]
  },
  {
   "cell_type": "code",
   "execution_count": 140,
   "id": "5a5e9828",
   "metadata": {},
   "outputs": [],
   "source": [
    "def loss(X, W, b, y):\n",
    "    def mse(a, b):\n",
    "        se = (a-b)**2\n",
    "        return se.mean()\n",
    "\n",
    "    predictions = model(X, W, b)\n",
    "    return mse(predictions, y)"
   ]
  },
  {
   "cell_type": "markdown",
   "id": "47e88d55",
   "metadata": {},
   "source": [
    "___gradient___"
   ]
  },
  {
   "cell_type": "code",
   "execution_count": 141,
   "id": "58212aab",
   "metadata": {},
   "outputs": [],
   "source": [
    "def gradient(X, W, b, y):\n",
    "    N = len(X)\n",
    "    y_pred = model(X, W, b)\n",
    "    dW = 1/N * 2 * X.T.dot(y_pred - y)\n",
    "    db = 2 * (y_pred - y).mean()\n",
    "    return dW, db"
   ]
  },
  {
   "cell_type": "markdown",
   "id": "b5cdb7b1",
   "metadata": {},
   "source": [
    "### (3-2) initiate hyper-parameter; it can be changed by user."
   ]
  },
  {
   "cell_type": "code",
   "execution_count": 142,
   "id": "d5bcf5cf",
   "metadata": {},
   "outputs": [],
   "source": [
    "STEP_SIZE = 0.01\n",
    "LEARN_CYCLE = 200000"
   ]
  },
  {
   "cell_type": "markdown",
   "id": "527ba2c9",
   "metadata": {},
   "source": [
    "### (3-3) get the model fitted"
   ]
  },
  {
   "cell_type": "code",
   "execution_count": 143,
   "id": "06c018d8",
   "metadata": {},
   "outputs": [],
   "source": [
    "import numpy as np\n",
    "\n",
    "W = np.random.rand(X_train.shape[1])\n",
    "b = np.random.rand()\n",
    "\n",
    "losses = []\n",
    "for i in range(1, LEARN_CYCLE + 1):\n",
    "    dW, db = gradient(X_train, W, b, y_train)\n",
    "    W -= dW*STEP_SIZE\n",
    "    b -= db*STEP_SIZE\n",
    "    L = loss(X_train, W, b, y_train)\n",
    "    losses.append(L)"
   ]
  },
  {
   "cell_type": "code",
   "execution_count": 144,
   "id": "5b8bcf90",
   "metadata": {},
   "outputs": [
    {
     "data": {
      "image/png": "[encoded data removed]",
      "text/plain": [
       "<Figure size 432x288 with 1 Axes>"
      ]
     },
     "metadata": {
      "needs_background": "light"
     },
     "output_type": "display_data"
    }
   ],
   "source": [
    "import matplotlib.pyplot as plt\n",
    "\n",
    "plt.plot(losses)\n",
    "plt.show()"
   ]
  },
  {
   "cell_type": "markdown",
   "id": "2f0452ff",
   "metadata": {},
   "source": [
    "### (3-4) compare with sklearn model"
   ]
  },
  {
   "cell_type": "code",
   "execution_count": 145,
   "id": "1c6bd4d2",
   "metadata": {},
   "outputs": [],
   "source": [
    "from sklearn.linear_model import LinearRegression\n",
    "from sklearn.metrics import mean_squared_error\n",
    "\n",
    "sk_model = LinearRegression()\n",
    "sk_model.fit(X_train, y_train)\n",
    "y_pred = sk_model.predict(X_test)"
   ]
  },
  {
   "cell_type": "markdown",
   "id": "d9ebc49f",
   "metadata": {},
   "source": [
    "## my model's result"
   ]
  },
  {
   "cell_type": "code",
   "execution_count": 146,
   "id": "cb49a400",
   "metadata": {},
   "outputs": [
    {
     "data": {
      "text/plain": [
       "2858.5506881890315"
      ]
     },
     "execution_count": 146,
     "metadata": {},
     "output_type": "execute_result"
    }
   ],
   "source": [
    "losses[-1]"
   ]
  },
  {
   "cell_type": "markdown",
   "id": "f9043078",
   "metadata": {},
   "source": [
    "## sklearn's result"
   ]
  },
  {
   "cell_type": "code",
   "execution_count": 147,
   "id": "48a4b3ba",
   "metadata": {},
   "outputs": [
    {
     "data": {
      "text/plain": [
       "2962.713763703787"
      ]
     },
     "execution_count": 147,
     "metadata": {},
     "output_type": "execute_result"
    }
   ],
   "source": [
    "mean_squared_error(y_test, y_pred)"
   ]
  },
  {
   "cell_type": "code",
   "execution_count": 148,
   "id": "c0e244cd",
   "metadata": {},
   "outputs": [
    {
     "data": {
      "image/png": "[encoded data removed]",
      "text/plain": [
       "<Figure size 432x288 with 1 Axes>"
      ]
     },
     "metadata": {
      "needs_background": "light"
     },
     "output_type": "display_data"
    }
   ],
   "source": [
    "plt.scatter(X_test[:, 0], y_test, label=\"true\")\n",
    "plt.scatter(X_test[:, 0], y_pred, label=\"pred\")\n",
    "plt.ylim(0, 400)\n",
    "plt.legend()\n",
    "plt.show()"
   ]
  },
  {
   "cell_type": "markdown",
   "id": "167ba9cb",
   "metadata": {},
   "source": [
    "# 회고\n",
    "\n",
    "가장 기본적인 모델링 학습이었고 대단히 도움이 되었다.  \n",
    "이번 익스를 통해 배운 것을 정리하면\n",
    "\n",
    " \\- 해석미분에서 xi 와 ypred - y의 곱을 반복문을 사용하지 않고 matrix로 처리하기 위해 X.T.dot()으로 간단하게 구현 가능하는 것  \n",
    " \\- 손실함수를 경사하강법을 통해 줄여나가는 과정  \n",
    " \\- 수치미분과 해석미분의 차이  \n",
    " \n",
    "그 동안 실습을 하며 느낀 것 중 나를 가장 두렵게 한 것은  \n",
    "___내가 하는 작업 중 어떤 것도 내가 만든 것은 없다는 것이다.___  \n",
    "데이터셋도 이미 주어져있고 모델링도 가져다 쓰는 것이 전부, 게다가 코드도 어려운 편이 아니다. \n",
    "  \n",
    "현장에서 인공지능 엔지니어에게 필요로 하는 것은 무엇인가?에 대한 해답을 찾던 중,  \n",
    "이런 식으로 모델의 원리를 이해하며 딥러닝 지식을 쌓고  \n",
    "백엔드 엔지니어링을 추가로 배우면 목표에 가까워 질 것이라 확신을 주는 익스였다."
   ]
  }
 ],
 "metadata": {
  "kernelspec": {
   "display_name": "Python 3 (ipykernel)",
   "language": "python",
   "name": "python3"
  },
  "language_info": {
   "codemirror_mode": {
    "name": "ipython",
    "version": 3
   },
   "file_extension": ".py",
   "mimetype": "text/x-python",
   "name": "python",
   "nbconvert_exporter": "python",
   "pygments_lexer": "ipython3",
   "version": "3.9.7"
  }
 },
 "nbformat": 4,
 "nbformat_minor": 5
}
