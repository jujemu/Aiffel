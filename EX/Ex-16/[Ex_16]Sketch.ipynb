{
  "cells": [
    {
      "cell_type": "markdown",
      "metadata": {
        "id": "uTCfRtytZhqu"
      },
      "source": [
        "# CGAN\n",
        "_Conditional Generative Adversarial Network_"
      ]
    },
    {
      "cell_type": "markdown",
      "metadata": {
        "id": "9fEj93KFfaM4"
      },
      "source": [
        "## Preview\n",
        "___"
      ]
    },
    {
      "cell_type": "markdown",
      "source": [
        "## Drive Path\n",
        "\n",
        "/content/drive/MyDrive/Colab Notebooks/Ex/Ex-16"
      ],
      "metadata": {
        "id": "IOAVMf9JtpuP"
      }
    },
    {
      "cell_type": "markdown",
      "metadata": {
        "id": "wZTO9WNufdJj"
      },
      "source": [
        "## Index\n",
        "___\n",
        "\n",
        "\n",
        "1.   항목 추가\n",
        "\n",
        "1.   항목 추가\n",
        "2.   항목 추가\n",
        "\n",
        "\n",
        "2.   항목 추가\n",
        "\n"
      ]
    },
    {
      "cell_type": "markdown",
      "metadata": {
        "id": "mlMi6qZhfjMk"
      },
      "source": [
        "## Set up"
      ]
    },
    {
      "cell_type": "markdown",
      "metadata": {
        "id": "wxRaumMpgSG8"
      },
      "source": [
        "### Module\n",
        "___"
      ]
    },
    {
      "cell_type": "code",
      "execution_count": 17,
      "metadata": {
        "id": "sLn78MBzgUbf"
      },
      "outputs": [],
      "source": [
        "import os\n",
        "import sys\n",
        "import pickle\n",
        "import random\n",
        "\n",
        "import pandas as pd\n",
        "import numpy as np\n",
        "\n",
        "import matplotlib as mpl\n",
        "import matplotlib.pyplot as plt\n",
        "import seaborn as sns\n",
        "\n",
        "import warnings\n",
        "\n",
        "import tensorflow as tf"
      ]
    },
    {
      "cell_type": "code",
      "execution_count": 18,
      "metadata": {
        "id": "9lzFrHTlggpT"
      },
      "outputs": [],
      "source": [
        "random_seed = 71\n",
        "\n",
        "random.seed(random_seed)\n",
        "np.random.seed(random_seed)\n",
        "tf.random.set_seed(random_seed)"
      ]
    },
    {
      "cell_type": "code",
      "execution_count": 19,
      "metadata": {
        "id": "8n4qWeDRgh3F"
      },
      "outputs": [],
      "source": [
        "%matplotlib inline\n",
        "\n",
        "mpl.rcParams['figure.figsize'] = (10, 10)\n",
        "mpl.rcParams['xtick.labelbottom'] = False\n",
        "mpl.rcParams['ytick.labelleft'] = False\n",
        "mpl.rcParams['axes.grid'] = False\n",
        "\n",
        "plt.style.use('seaborn')\n",
        "warnings.filterwarnings('ignore')"
      ]
    },
    {
      "cell_type": "code",
      "source": [
        "import shutil"
      ],
      "metadata": {
        "id": "G4D5o3RTtUWA"
      },
      "execution_count": 20,
      "outputs": []
    },
    {
      "cell_type": "markdown",
      "metadata": {
        "id": "Q7qfXZj5fgny"
      },
      "source": [
        "## Preface\n",
        "___"
      ]
    },
    {
      "cell_type": "markdown",
      "metadata": {
        "id": "1nq50Wh4fXMN"
      },
      "source": [
        "# 진행\n",
        "___"
      ]
    },
    {
      "cell_type": "code",
      "execution_count": 21,
      "metadata": {
        "colab": {
          "base_uri": "https://localhost:8080/",
          "height": 988
        },
        "id": "oAiIA3xmZPSQ",
        "outputId": "16cfcb1a-0907-4000-9059-0f4cb51a19b3"
      },
      "outputs": [
        {
          "output_type": "display_data",
          "data": {
            "text/plain": [
              "<Figure size 648x648 with 9 Axes>"
            ],
            "image/png": "[encoded data removed]"
          },
          "metadata": {}
        },
        {
          "output_type": "stream",
          "name": "stdout",
          "text": [
            "tfds.core.DatasetInfo(\n",
            "    name='mnist',\n",
            "    version=3.0.1,\n",
            "    description='The MNIST database of handwritten digits.',\n",
            "    homepage='http://yann.lecun.com/exdb/mnist/',\n",
            "    features=FeaturesDict({\n",
            "        'image': Image(shape=(28, 28, 1), dtype=tf.uint8),\n",
            "        'label': ClassLabel(shape=(), dtype=tf.int64, num_classes=10),\n",
            "    }),\n",
            "    total_num_examples=70000,\n",
            "    splits={\n",
            "        'test': 10000,\n",
            "        'train': 60000,\n",
            "    },\n",
            "    supervised_keys=('image', 'label'),\n",
            "    citation=\"\"\"@article{lecun2010mnist,\n",
            "      title={MNIST handwritten digit database},\n",
            "      author={LeCun, Yann and Cortes, Corinna and Burges, CJ},\n",
            "      journal={ATT Labs [Online]. Available: http://yann.lecun.com/exdb/mnist},\n",
            "      volume={2},\n",
            "      year={2010}\n",
            "    }\"\"\",\n",
            "    redistribution_info=,\n",
            ")\n",
            "\n"
          ]
        }
      ],
      "source": [
        "import tensorflow_datasets as tfds\n",
        "\n",
        "mnist, info =  tfds.load(\n",
        "    \"mnist\", split=\"train\", with_info=True\n",
        ")\n",
        "\n",
        "fig = tfds.show_examples(mnist, info)\n",
        "print(info)"
      ]
    },
    {
      "cell_type": "code",
      "execution_count": 22,
      "metadata": {
        "id": "mhlPchXtfZdE"
      },
      "outputs": [],
      "source": [
        "BATCH_SIZE = 128\n",
        "\n",
        "def gan_preprocessing(data):\n",
        "    image = data[\"image\"]\n",
        "    image = tf.cast(image, tf.float32)\n",
        "    image = (image / 127.5) - 1\n",
        "    return image\n",
        "\n",
        "def cgan_preprocessing(data):\n",
        "    image = data[\"image\"]\n",
        "    image = tf.cast(image, tf.float32)\n",
        "    image = (image / 127.5) - 1\n",
        "    \n",
        "    label = tf.one_hot(data[\"label\"], 10)\n",
        "    return image, label\n",
        "\n",
        "gan_datasets = mnist.map(gan_preprocessing).shuffle(1000).batch(BATCH_SIZE)\n",
        "cgan_datasets = mnist.map(cgan_preprocessing).shuffle(100).batch(BATCH_SIZE)"
      ]
    },
    {
      "cell_type": "code",
      "source": [
        "%matplotlib inline\n",
        "\n",
        "plt.style.use('seaborn')\n",
        "warnings.filterwarnings('ignore')\n",
        "\n",
        "mpl.rcParams['figure.figsize'] = (7, 7)\n",
        "mpl.rcParams['xtick.labelbottom'] = False\n",
        "mpl.rcParams['ytick.labelleft'] = False\n",
        "mpl.rcParams['axes.grid'] = False\n",
        "\n"
      ],
      "metadata": {
        "id": "Ke34NYtv7vXI"
      },
      "execution_count": 23,
      "outputs": []
    },
    {
      "cell_type": "code",
      "execution_count": 24,
      "metadata": {
        "colab": {
          "base_uri": "https://localhost:8080/",
          "height": 447
        },
        "id": "MPJtSGJ8fpoz",
        "outputId": "c22d5c82-ba99-40a3-ec7e-94668c1bb251"
      },
      "outputs": [
        {
          "output_type": "stream",
          "name": "stdout",
          "text": [
            "Label : tf.Tensor([0. 0. 0. 0. 0. 0. 0. 0. 0. 1.], shape=(10,), dtype=float32)\n",
            "Image Min/Max : -1.0 1.0\n"
          ]
        },
        {
          "output_type": "display_data",
          "data": {
            "text/plain": [
              "<Figure size 504x504 with 1 Axes>"
            ],
            "image/png": "[encoded data removed]"
          },
          "metadata": {}
        }
      ],
      "source": [
        "for i,j in cgan_datasets : break\n",
        "\n",
        "# 이미지 i와 라벨 j가 일치하는지 확인해 봅니다.     \n",
        "print(\"Label :\", j[0])\n",
        "print(\"Image Min/Max :\", i.numpy().min(), i.numpy().max())\n",
        "plt.imshow(i.numpy()[0,...,0], plt.cm.gray)\n",
        "plt.show()"
      ]
    },
    {
      "cell_type": "code",
      "execution_count": 25,
      "metadata": {
        "id": "9Fo0pIOJfuki"
      },
      "outputs": [],
      "source": [
        "from tensorflow.keras import layers, Input, Model\n",
        "\n",
        "class GeneratorGAN(Model):\n",
        "    def __init__(self):\n",
        "        super(GeneratorGAN, self).__init__()\n",
        "\n",
        "        self.dense_1 = layers.Dense(128, activation='relu')\n",
        "        self.dense_2 = layers.Dense(256, activation='relu')\n",
        "        self.dense_3 = layers.Dense(512, activation='relu')\n",
        "        self.dense_4 = layers.Dense(28*28*1, activation='tanh')\n",
        "\n",
        "        self.reshape = layers.Reshape((28, 28, 1))\n",
        "\n",
        "    def call(self, noise):\n",
        "        out = self.dense_1(noise)\n",
        "        out = self.dense_2(out)\n",
        "        out = self.dense_3(out)\n",
        "        out = self.dense_4(out)\n",
        "        return self.reshape(out)"
      ]
    },
    {
      "cell_type": "code",
      "execution_count": 26,
      "metadata": {
        "id": "yZHwOz6xfyXC"
      },
      "outputs": [],
      "source": [
        "class GeneratorCGAN(Model):\n",
        "    def __init__(self):\n",
        "        super(GeneratorCGAN, self).__init__()\n",
        "        \n",
        "        self.dense_z = layers.Dense(256, activation='relu')\n",
        "        self.dense_y = layers.Dense(256, activation='relu')\n",
        "        self.combined_dense = layers.Dense(512, activation='relu')\n",
        "        self.final_dense = layers.Dense(28 * 28 * 1, activation='tanh')\n",
        "        self.reshape = layers.Reshape((28, 28, 1))\n",
        "\n",
        "    def call(self, noise, label):\n",
        "        noise = self.dense_z(noise)\n",
        "        label = self.dense_y(label)\n",
        "        out = self.combined_dense(tf.concat([noise, label], axis=-1))\n",
        "        out = self.final_dense(out)\n",
        "        return self.reshape(out)"
      ]
    },
    {
      "cell_type": "code",
      "execution_count": 27,
      "metadata": {
        "id": "h1H4A-dkf0f7"
      },
      "outputs": [],
      "source": [
        "class DiscriminatorGAN(Model):\n",
        "    def __init__(self):\n",
        "        super(DiscriminatorGAN, self).__init__()\n",
        "        self.flatten = layers.Flatten()\n",
        "        \n",
        "        self.blocks = []\n",
        "        for f in [512, 256, 128, 1]:\n",
        "            self.blocks.append(\n",
        "                layers.Dense(f, activation=None if f==1 else \"relu\")\n",
        "            )\n",
        "        \n",
        "    def call(self, x):\n",
        "        x = self.flatten(x)\n",
        "        for block in self.blocks:\n",
        "            x = block(x)\n",
        "        return x"
      ]
    },
    {
      "cell_type": "code",
      "execution_count": 28,
      "metadata": {
        "id": "kWO3nwPHf5sy"
      },
      "outputs": [],
      "source": [
        "class Maxout(layers.Layer):\n",
        "    def __init__(self, units, pieces):\n",
        "        super(Maxout, self).__init__()\n",
        "        self.dense = layers.Dense(units*pieces, activation=\"relu\")\n",
        "        self.dropout = layers.Dropout(.5)    \n",
        "        self.reshape = layers.Reshape((-1, pieces, units))\n",
        "    \n",
        "    def call(self, x):\n",
        "        x = self.dense(x)\n",
        "        x = self.dropout(x)\n",
        "        x = self.reshape(x)\n",
        "        return tf.math.reduce_max(x, axis=2)"
      ]
    },
    {
      "cell_type": "code",
      "execution_count": 29,
      "metadata": {
        "id": "gpKnh7jEf8CK"
      },
      "outputs": [],
      "source": [
        "class DiscriminatorCGAN(Model):\n",
        "    def __init__(self):\n",
        "        super(DiscriminatorCGAN, self).__init__()\n",
        "        self.flatten = layers.Flatten()\n",
        "        \n",
        "        self.image_block = Maxout(240, 5)\n",
        "        self.label_block = Maxout(50, 5)\n",
        "        self.combine_block = Maxout(240, 4)\n",
        "        \n",
        "        self.dense = layers.Dense(1, activation=None)\n",
        "    \n",
        "    def call(self, image, label):\n",
        "        image = self.flatten(image)\n",
        "        image = self.image_block(image)\n",
        "        label = self.label_block(label)\n",
        "        x = layers.Concatenate()([image, label])\n",
        "        x = self.combine_block(x)\n",
        "        return self.dense(x)"
      ]
    },
    {
      "cell_type": "code",
      "execution_count": 30,
      "metadata": {
        "id": "tYGSjcgjf-LQ"
      },
      "outputs": [],
      "source": [
        "from tensorflow.keras import optimizers, losses\n",
        "\n",
        "bce = losses.BinaryCrossentropy(from_logits=True)\n",
        "\n",
        "def generator_loss(fake_output):\n",
        "    return bce(tf.ones_like(fake_output), fake_output)\n",
        "\n",
        "def discriminator_loss(real_output, fake_output):\n",
        "    return bce(tf.ones_like(real_output), real_output) + bce(tf.zeros_like(fake_output), fake_output)\n",
        "\n",
        "gene_opt = optimizers.Adam(1e-4)\n",
        "disc_opt = optimizers.Adam(1e-4)    "
      ]
    },
    {
      "cell_type": "code",
      "execution_count": 31,
      "metadata": {
        "id": "nTXy0q_fnzxb"
      },
      "outputs": [],
      "source": [
        "gan_generator = GeneratorGAN()\n",
        "gan_discriminator = DiscriminatorGAN()\n",
        "\n",
        "@tf.function()\n",
        "def gan_step(real_images):\n",
        "    noise = tf.random.normal([real_images.shape[0], 100])\n",
        "    \n",
        "    with tf.GradientTape(persistent=True) as tape:\n",
        "        # Generator를 이용해 가짜 이미지 생성\n",
        "        fake_images = gan_generator(noise)\n",
        "        # Discriminator를 이용해 진짜 및 가짜이미지를 각각 판별\n",
        "        real_out = gan_discriminator(real_images)\n",
        "        fake_out = gan_discriminator(fake_images)\n",
        "        # 각 손실(loss)을 계산\n",
        "        gene_loss = generator_loss(fake_out)\n",
        "        disc_loss = discriminator_loss(real_out, fake_out)\n",
        "    # gradient 계산\n",
        "    gene_grad = tape.gradient(gene_loss, gan_generator.trainable_variables)\n",
        "    disc_grad = tape.gradient(disc_loss, gan_discriminator.trainable_variables)\n",
        "    # 모델 학습\n",
        "    gene_opt.apply_gradients(zip(gene_grad, gan_generator.trainable_variables))\n",
        "    disc_opt.apply_gradients(zip(disc_grad, gan_discriminator.trainable_variables))\n",
        "    return gene_loss, disc_loss"
      ]
    },
    {
      "cell_type": "code",
      "execution_count": 32,
      "metadata": {
        "colab": {
          "base_uri": "https://localhost:8080/"
        },
        "id": "H4yhz7JeoO7t",
        "outputId": "a1264749-ab65-41a3-e5bb-338c5f3168f4"
      },
      "outputs": [
        {
          "output_type": "stream",
          "name": "stdout",
          "text": [
            "[1/10 EPOCHS, 100 ITER] G:2.053919792175293, D:0.1529969722032547\n",
            "[1/10 EPOCHS, 200 ITER] G:2.194875717163086, D:0.14554056525230408\n",
            "[1/10 EPOCHS, 300 ITER] G:2.230210781097412, D:0.1697935163974762\n",
            "[1/10 EPOCHS, 400 ITER] G:2.9590024948120117, D:0.09518672525882721\n",
            "[2/10 EPOCHS, 100 ITER] G:2.7263290882110596, D:0.1966681033372879\n",
            "[2/10 EPOCHS, 200 ITER] G:3.755178213119507, D:0.14737583696842194\n",
            "[2/10 EPOCHS, 300 ITER] G:3.585512161254883, D:0.10741085559129715\n",
            "[2/10 EPOCHS, 400 ITER] G:3.7919862270355225, D:0.16444526612758636\n",
            "[3/10 EPOCHS, 100 ITER] G:3.2835001945495605, D:0.21751368045806885\n",
            "[3/10 EPOCHS, 200 ITER] G:3.460275650024414, D:0.1443859338760376\n",
            "[3/10 EPOCHS, 300 ITER] G:2.036717414855957, D:0.3170868754386902\n",
            "[3/10 EPOCHS, 400 ITER] G:3.094208240509033, D:0.09026257693767548\n",
            "[4/10 EPOCHS, 100 ITER] G:2.6623969078063965, D:0.179233580827713\n",
            "[4/10 EPOCHS, 200 ITER] G:2.6991162300109863, D:0.25200149416923523\n",
            "[4/10 EPOCHS, 300 ITER] G:3.6019997596740723, D:0.14927713572978973\n",
            "[4/10 EPOCHS, 400 ITER] G:4.300351619720459, D:0.10293377935886383\n",
            "[5/10 EPOCHS, 100 ITER] G:4.940521717071533, D:0.06342369318008423\n",
            "[5/10 EPOCHS, 200 ITER] G:2.9562020301818848, D:0.15958243608474731\n",
            "[5/10 EPOCHS, 300 ITER] G:2.8051388263702393, D:0.17317932844161987\n",
            "[5/10 EPOCHS, 400 ITER] G:2.7350659370422363, D:0.227731391787529\n",
            "[6/10 EPOCHS, 100 ITER] G:5.0404863357543945, D:0.1251794397830963\n",
            "[6/10 EPOCHS, 200 ITER] G:5.099885940551758, D:0.1909080445766449\n",
            "[6/10 EPOCHS, 300 ITER] G:2.6851439476013184, D:0.1536957323551178\n",
            "[6/10 EPOCHS, 400 ITER] G:3.9342784881591797, D:0.1448667347431183\n",
            "[7/10 EPOCHS, 100 ITER] G:3.482783555984497, D:0.1078953966498375\n",
            "[7/10 EPOCHS, 200 ITER] G:3.137484073638916, D:0.08821092545986176\n",
            "[7/10 EPOCHS, 300 ITER] G:3.1910958290100098, D:0.08870934695005417\n",
            "[7/10 EPOCHS, 400 ITER] G:4.490708351135254, D:0.26493898034095764\n",
            "[8/10 EPOCHS, 100 ITER] G:3.5351858139038086, D:0.3539506793022156\n",
            "[8/10 EPOCHS, 200 ITER] G:4.399953842163086, D:0.07961691915988922\n",
            "[8/10 EPOCHS, 300 ITER] G:5.538222789764404, D:0.0076497276313602924\n",
            "[8/10 EPOCHS, 400 ITER] G:4.59942626953125, D:0.2614629566669464\n",
            "[9/10 EPOCHS, 100 ITER] G:4.37001895904541, D:0.05481363832950592\n",
            "[9/10 EPOCHS, 200 ITER] G:4.417977333068848, D:0.032534409314394\n",
            "[9/10 EPOCHS, 300 ITER] G:4.837603569030762, D:0.1277543604373932\n",
            "[9/10 EPOCHS, 400 ITER] G:4.549868583679199, D:0.02943011000752449\n",
            "[10/10 EPOCHS, 100 ITER] G:4.781786918640137, D:0.09816163778305054\n",
            "[10/10 EPOCHS, 200 ITER] G:3.073948383331299, D:0.08306823670864105\n",
            "[10/10 EPOCHS, 300 ITER] G:4.157102108001709, D:0.08351582288742065\n",
            "[10/10 EPOCHS, 400 ITER] G:3.3730814456939697, D:0.0678609311580658\n"
          ]
        }
      ],
      "source": [
        "EPOCHS = 10\n",
        "for epoch in range(1, EPOCHS+1):\n",
        "    for i, images in enumerate(gan_datasets):\n",
        "        gene_loss, disc_loss = gan_step(images)\n",
        "\n",
        "        if (i+1) % 100 == 0:\n",
        "            print(f\"[{epoch}/{EPOCHS} EPOCHS, {i+1} ITER] G:{gene_loss}, D:{disc_loss}\")"
      ]
    },
    {
      "cell_type": "code",
      "execution_count": 33,
      "metadata": {
        "colab": {
          "base_uri": "https://localhost:8080/",
          "height": 353
        },
        "id": "3gVXrdnNrDrZ",
        "outputId": "25fbd39b-3495-4408-8564-47be81fd9ad3"
      },
      "outputs": [
        {
          "output_type": "display_data",
          "data": {
            "text/plain": [
              "<Figure size 1080x432 with 10 Axes>"
            ],
            "image/png": "[encoded data removed]"
          },
          "metadata": {}
        }
      ],
      "source": [
        "noise = tf.random.normal([10, 100])\n",
        "\n",
        "output = gan_generator(noise)\n",
        "output = np.squeeze(output.numpy())\n",
        "\n",
        "plt.figure(figsize=(15,6))\n",
        "for i in range(1, 11):\n",
        "    plt.subplot(2,5,i)\n",
        "    plt.imshow(output[i-1])"
      ]
    },
    {
      "cell_type": "code",
      "execution_count": 47,
      "metadata": {
        "id": "lh3mobZRrqFL"
      },
      "outputs": [],
      "source": [
        "path = '/content/drive/MyDrive/Colab Notebooks/Ex/Ex-16/GAN'\n",
        "to_path = 'CGAN'\n",
        "\n",
        "if not os.path.isdir(to_path):\n",
        "  shutil.copytree(path, to_path)"
      ]
    },
    {
      "cell_type": "code",
      "source": [
        "weight_path = 'GAN/GAN_500'\n",
        "\n",
        "noise = tf.random.normal([10, 100]) \n",
        "\n",
        "gan_generator = GeneratorGAN()\n",
        "gan_generator.load_weights(weight_path)\n",
        "\n",
        "output = gan_generator(noise)\n",
        "output = np.squeeze(output.numpy())\n",
        "  \n",
        "plt.figure(figsize=(15,6))\n",
        "for i in range(1, 11):\n",
        "    plt.subplot(2,5,i)\n",
        "    plt.imshow(output[i-1])"
      ],
      "metadata": {
        "colab": {
          "base_uri": "https://localhost:8080/",
          "height": 353
        },
        "id": "xfm_RZR041GM",
        "outputId": "d3dd55b5-2dd5-4fc3-beb0-5cc13a7eec16"
      },
      "execution_count": 36,
      "outputs": [
        {
          "output_type": "display_data",
          "data": {
            "text/plain": [
              "<Figure size 1080x432 with 10 Axes>"
            ],
            "image/png": "[encoded data removed]"
          },
          "metadata": {}
        }
      ]
    },
    {
      "cell_type": "code",
      "source": [
        "cgan_generator = GeneratorCGAN()\n",
        "cgan_discriminator = DiscriminatorCGAN()\n",
        "\n",
        "@tf.function()\n",
        "def cgan_step(real_images, labels):\n",
        "    noise = tf.random.normal([real_images.shape[0], 100])\n",
        "    \n",
        "    with tf.GradientTape(persistent=True) as tape:\n",
        "        fake_images = cgan_generator(noise, labels)\n",
        "        \n",
        "        real_out = cgan_discriminator(real_images, labels)\n",
        "        fake_out = cgan_discriminator(fake_images, labels)\n",
        "        \n",
        "        gene_loss = generator_loss(fake_out)\n",
        "        disc_loss = discriminator_loss(real_out, fake_out)\n",
        "    \n",
        "    gene_grad = tape.gradient(gene_loss, cgan_generator.trainable_variables)\n",
        "    disc_grad = tape.gradient(disc_loss, cgan_discriminator.trainable_variables)\n",
        "    \n",
        "    gene_opt.apply_gradients(zip(gene_grad, cgan_generator.trainable_variables))\n",
        "    disc_opt.apply_gradients(zip(disc_grad, cgan_discriminator.trainable_variables))\n",
        "    return gene_loss, disc_loss\n",
        "\n",
        "\n",
        "EPOCHS = 1\n",
        "for epoch in range(1, EPOCHS+1):\n",
        "    \n",
        "    for i, (images, labels) in enumerate(cgan_datasets):\n",
        "        gene_loss, disc_loss = cgan_step(images, labels)\n",
        "    \n",
        "        if (i+1) % 100 == 0:\n",
        "            print(f\"[{epoch}/{EPOCHS} EPOCHS, {i} ITER] G:{gene_loss}, D:{disc_loss}\")"
      ],
      "metadata": {
        "colab": {
          "base_uri": "https://localhost:8080/"
        },
        "id": "mJV0ANz3__us",
        "outputId": "c7ca71e6-9ca3-4b0b-bae5-b6acd9cc29da"
      },
      "execution_count": 37,
      "outputs": [
        {
          "output_type": "stream",
          "name": "stdout",
          "text": [
            "[1/1 EPOCHS, 99 ITER] G:5.255558967590332, D:0.009022469632327557\n",
            "[1/1 EPOCHS, 199 ITER] G:4.567093372344971, D:0.03471551090478897\n",
            "[1/1 EPOCHS, 299 ITER] G:5.111113548278809, D:0.02042756974697113\n",
            "[1/1 EPOCHS, 399 ITER] G:3.3564743995666504, D:0.20118412375450134\n"
          ]
        }
      ]
    },
    {
      "cell_type": "code",
      "source": [
        "path"
      ],
      "metadata": {
        "colab": {
          "base_uri": "https://localhost:8080/",
          "height": 35
        },
        "id": "ayYIkXBeD_Qd",
        "outputId": "3d0106e1-1eb1-4923-d552-4bfd2a0aa771"
      },
      "execution_count": 44,
      "outputs": [
        {
          "output_type": "execute_result",
          "data": {
            "text/plain": [
              "'/content/drive/MyDrive/Colab Notebooks/Ex/Ex-16/CGAN'"
            ],
            "application/vnd.google.colaboratory.intrinsic+json": {
              "type": "string"
            }
          },
          "metadata": {},
          "execution_count": 44
        }
      ]
    },
    {
      "cell_type": "code",
      "source": [
        "os.path.isdir(path)"
      ],
      "metadata": {
        "colab": {
          "base_uri": "https://localhost:8080/"
        },
        "id": "l61W6wJCD5Gd",
        "outputId": "b7310ee8-8c51-4991-ec79-fb1a02c4c75c"
      },
      "execution_count": 43,
      "outputs": [
        {
          "output_type": "execute_result",
          "data": {
            "text/plain": [
              "True"
            ]
          },
          "metadata": {},
          "execution_count": 43
        }
      ]
    },
    {
      "cell_type": "code",
      "source": [
        "path = '/content/drive/MyDrive/Colab Notebooks/Ex/Ex-16/CGAN'\n",
        "to_path = 'CGAN'\n",
        "\n",
        "if not os.path.isdir(to_path):\n",
        "  shutil.copytree(path, to_path)"
      ],
      "metadata": {
        "id": "IviYf9AXDjcV"
      },
      "execution_count": 45,
      "outputs": []
    },
    {
      "cell_type": "code",
      "source": [
        "number = 9 # TODO : 생성할 숫자를 입력해 주세요!!\n",
        "\n",
        "weight_path = 'CGAN/CGAN_500'\n",
        "\n",
        "noise = tf.random.normal([10, 100])\n",
        "\n",
        "label = tf.one_hot(number, 10)\n",
        "label = tf.expand_dims(label, axis=0)\n",
        "label = tf.repeat(label, 10, axis=0)\n",
        "\n",
        "generator = GeneratorCGAN()\n",
        "generator.load_weights(weight_path)\n",
        "\n",
        "output = generator(noise, label)\n",
        "output = np.squeeze(output.numpy())\n",
        "\n",
        "plt.figure(figsize=(15,6))\n",
        "for i in range(1, 11):\n",
        "    plt.subplot(2,5,i)\n",
        "    plt.imshow(output[i-1])"
      ],
      "metadata": {
        "colab": {
          "base_uri": "https://localhost:8080/",
          "height": 353
        },
        "id": "XuqEyhbhAG7-",
        "outputId": "d690c137-8544-47e1-fb1d-9214ce009053"
      },
      "execution_count": 48,
      "outputs": [
        {
          "output_type": "display_data",
          "data": {
            "text/plain": [
              "<Figure size 1080x432 with 10 Axes>"
            ],
            "image/png": "[encoded data removed]"
          },
          "metadata": {}
        }
      ]
    },
    {
      "cell_type": "markdown",
      "source": [
        "# 회고"
      ],
      "metadata": {
        "id": "MCyN1XeI3rOH"
      }
    },
    {
      "cell_type": "code",
      "source": [
        ""
      ],
      "metadata": {
        "id": "iAdEXGHU3qUX"
      },
      "execution_count": null,
      "outputs": []
    }
  ],
  "metadata": {
    "accelerator": "GPU",
    "colab": {
      "collapsed_sections": [],
      "name": "[Ex-16]Sketch.ipynb",
      "provenance": []
    },
    "gpuClass": "standard",
    "kernelspec": {
      "display_name": "Python 3",
      "name": "python3"
    },
    "language_info": {
      "name": "python"
    }
  },
  "nbformat": 4,
  "nbformat_minor": 0
}